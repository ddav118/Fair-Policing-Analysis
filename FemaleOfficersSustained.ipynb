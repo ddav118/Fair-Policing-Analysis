{
 "cells": [
  {
   "cell_type": "code",
   "execution_count": 10,
   "metadata": {},
   "outputs": [],
   "source": [
    "import pandas as pd"
   ]
  },
  {
   "cell_type": "code",
   "execution_count": 59,
   "metadata": {},
   "outputs": [
    {
     "data": {
      "text/html": [
       "<div>\n",
       "<style scoped>\n",
       "    .dataframe tbody tr th:only-of-type {\n",
       "        vertical-align: middle;\n",
       "    }\n",
       "\n",
       "    .dataframe tbody tr th {\n",
       "        vertical-align: top;\n",
       "    }\n",
       "\n",
       "    .dataframe thead th {\n",
       "        text-align: right;\n",
       "    }\n",
       "</style>\n",
       "<table border=\"1\" class=\"dataframe\">\n",
       "  <thead>\n",
       "    <tr style=\"text-align: right;\">\n",
       "      <th></th>\n",
       "      <th>cr_id</th>\n",
       "      <th>complaint_category</th>\n",
       "      <th>recommended_discipline</th>\n",
       "      <th>final_discipline</th>\n",
       "    </tr>\n",
       "  </thead>\n",
       "  <tbody>\n",
       "    <tr>\n",
       "      <th>0</th>\n",
       "      <td>258996</td>\n",
       "      <td>01A-USE OF PROFANITY</td>\n",
       "      <td>600.0</td>\n",
       "      <td>600.0</td>\n",
       "    </tr>\n",
       "    <tr>\n",
       "      <th>1</th>\n",
       "      <td>258997</td>\n",
       "      <td>01A-USE OF PROFANITY</td>\n",
       "      <td>600.0</td>\n",
       "      <td>600.0</td>\n",
       "    </tr>\n",
       "    <tr>\n",
       "      <th>2</th>\n",
       "      <td>258997</td>\n",
       "      <td>01A-USE OF PROFANITY</td>\n",
       "      <td>600.0</td>\n",
       "      <td>600.0</td>\n",
       "    </tr>\n",
       "    <tr>\n",
       "      <th>3</th>\n",
       "      <td>258998</td>\n",
       "      <td>10J-NEGLECT OF DUTY/CONDUCT UNBECOMING - ON DUTY</td>\n",
       "      <td>600.0</td>\n",
       "      <td>600.0</td>\n",
       "    </tr>\n",
       "    <tr>\n",
       "      <th>4</th>\n",
       "      <td>259001</td>\n",
       "      <td>10U-INADEQUATE/FAILURE TO PROVIDE SERVICE</td>\n",
       "      <td>600.0</td>\n",
       "      <td>600.0</td>\n",
       "    </tr>\n",
       "    <tr>\n",
       "      <th>...</th>\n",
       "      <td>...</td>\n",
       "      <td>...</td>\n",
       "      <td>...</td>\n",
       "      <td>...</td>\n",
       "    </tr>\n",
       "    <tr>\n",
       "      <th>125576</th>\n",
       "      <td>1082657</td>\n",
       "      <td>NaN</td>\n",
       "      <td>NaN</td>\n",
       "      <td>NaN</td>\n",
       "    </tr>\n",
       "    <tr>\n",
       "      <th>125577</th>\n",
       "      <td>1082661</td>\n",
       "      <td>NaN</td>\n",
       "      <td>NaN</td>\n",
       "      <td>NaN</td>\n",
       "    </tr>\n",
       "    <tr>\n",
       "      <th>125578</th>\n",
       "      <td>1082661</td>\n",
       "      <td>NaN</td>\n",
       "      <td>NaN</td>\n",
       "      <td>NaN</td>\n",
       "    </tr>\n",
       "    <tr>\n",
       "      <th>125579</th>\n",
       "      <td>1082695</td>\n",
       "      <td>NaN</td>\n",
       "      <td>NaN</td>\n",
       "      <td>NaN</td>\n",
       "    </tr>\n",
       "    <tr>\n",
       "      <th>125580</th>\n",
       "      <td>10773250</td>\n",
       "      <td>NaN</td>\n",
       "      <td>NaN</td>\n",
       "      <td>NaN</td>\n",
       "    </tr>\n",
       "  </tbody>\n",
       "</table>\n",
       "<p>125581 rows × 4 columns</p>\n",
       "</div>"
      ],
      "text/plain": [
       "           cr_id                                complaint_category  \\\n",
       "0         258996                              01A-USE OF PROFANITY   \n",
       "1         258997                              01A-USE OF PROFANITY   \n",
       "2         258997                              01A-USE OF PROFANITY   \n",
       "3         258998  10J-NEGLECT OF DUTY/CONDUCT UNBECOMING - ON DUTY   \n",
       "4         259001         10U-INADEQUATE/FAILURE TO PROVIDE SERVICE   \n",
       "...          ...                                               ...   \n",
       "125576   1082657                                               NaN   \n",
       "125577   1082661                                               NaN   \n",
       "125578   1082661                                               NaN   \n",
       "125579   1082695                                               NaN   \n",
       "125580  10773250                                               NaN   \n",
       "\n",
       "        recommended_discipline  final_discipline  \n",
       "0                        600.0             600.0  \n",
       "1                        600.0             600.0  \n",
       "2                        600.0             600.0  \n",
       "3                        600.0             600.0  \n",
       "4                        600.0             600.0  \n",
       "...                        ...               ...  \n",
       "125576                     NaN               NaN  \n",
       "125577                     NaN               NaN  \n",
       "125578                     NaN               NaN  \n",
       "125579                     NaN               NaN  \n",
       "125580                     NaN               NaN  \n",
       "\n",
       "[125581 rows x 4 columns]"
      ]
     },
     "execution_count": 59,
     "metadata": {},
     "output_type": "execute_result"
    }
   ],
   "source": [
    "complaints = pd.read_csv(\"complaints.csv\")\n",
    "complaints = complaints.get([\"cr_id\", \"complaint_category\", \"recommended_discipline\", \"final_discipline\"])\n",
    "complaints"
   ]
  },
  {
   "cell_type": "code",
   "execution_count": 4,
   "metadata": {},
   "outputs": [],
   "source": [
    "#complaints.to_csv(\"complaints2.csv\")"
   ]
  },
  {
   "cell_type": "code",
   "execution_count": 60,
   "metadata": {},
   "outputs": [
    {
     "name": "stderr",
     "output_type": "stream",
     "text": [
      "/Users/anikagarg/Desktop/Police-Brutality/venv/lib/python3.7/site-packages/IPython/core/interactiveshell.py:3146: DtypeWarning: Columns (6) have mixed types.Specify dtype option on import or set low_memory=False.\n",
      "  interactivity=interactivity, compiler=compiler, result=result)\n"
     ]
    },
    {
     "data": {
      "text/html": [
       "<div>\n",
       "<style scoped>\n",
       "    .dataframe tbody tr th:only-of-type {\n",
       "        vertical-align: middle;\n",
       "    }\n",
       "\n",
       "    .dataframe tbody tr th {\n",
       "        vertical-align: top;\n",
       "    }\n",
       "\n",
       "    .dataframe thead th {\n",
       "        text-align: right;\n",
       "    }\n",
       "</style>\n",
       "<table border=\"1\" class=\"dataframe\">\n",
       "  <thead>\n",
       "    <tr style=\"text-align: right;\">\n",
       "      <th></th>\n",
       "      <th>cr_id</th>\n",
       "      <th>gender</th>\n",
       "      <th>complaint_category</th>\n",
       "    </tr>\n",
       "  </thead>\n",
       "  <tbody>\n",
       "    <tr>\n",
       "      <th>0</th>\n",
       "      <td>258996</td>\n",
       "      <td>M</td>\n",
       "      <td>01A-USE OF PROFANITY</td>\n",
       "    </tr>\n",
       "    <tr>\n",
       "      <th>1</th>\n",
       "      <td>258997</td>\n",
       "      <td>F</td>\n",
       "      <td>01A-USE OF PROFANITY</td>\n",
       "    </tr>\n",
       "    <tr>\n",
       "      <th>2</th>\n",
       "      <td>258997</td>\n",
       "      <td>M</td>\n",
       "      <td>01A-USE OF PROFANITY</td>\n",
       "    </tr>\n",
       "    <tr>\n",
       "      <th>3</th>\n",
       "      <td>258998</td>\n",
       "      <td>M</td>\n",
       "      <td>10J-NEGLECT OF DUTY/CONDUCT UNBECOMING - ON DUTY</td>\n",
       "    </tr>\n",
       "    <tr>\n",
       "      <th>4</th>\n",
       "      <td>259001</td>\n",
       "      <td>M</td>\n",
       "      <td>10U-INADEQUATE/FAILURE TO PROVIDE SERVICE</td>\n",
       "    </tr>\n",
       "    <tr>\n",
       "      <th>...</th>\n",
       "      <td>...</td>\n",
       "      <td>...</td>\n",
       "      <td>...</td>\n",
       "    </tr>\n",
       "    <tr>\n",
       "      <th>125576</th>\n",
       "      <td>1082657</td>\n",
       "      <td>M</td>\n",
       "      <td>NaN</td>\n",
       "    </tr>\n",
       "    <tr>\n",
       "      <th>125577</th>\n",
       "      <td>1082661</td>\n",
       "      <td>M</td>\n",
       "      <td>NaN</td>\n",
       "    </tr>\n",
       "    <tr>\n",
       "      <th>125578</th>\n",
       "      <td>1082661</td>\n",
       "      <td>M</td>\n",
       "      <td>NaN</td>\n",
       "    </tr>\n",
       "    <tr>\n",
       "      <th>125579</th>\n",
       "      <td>1082695</td>\n",
       "      <td>M</td>\n",
       "      <td>NaN</td>\n",
       "    </tr>\n",
       "    <tr>\n",
       "      <th>125580</th>\n",
       "      <td>10773250</td>\n",
       "      <td>M</td>\n",
       "      <td>NaN</td>\n",
       "    </tr>\n",
       "  </tbody>\n",
       "</table>\n",
       "<p>125581 rows × 3 columns</p>\n",
       "</div>"
      ],
      "text/plain": [
       "           cr_id gender                                complaint_category\n",
       "0         258996      M                              01A-USE OF PROFANITY\n",
       "1         258997      F                              01A-USE OF PROFANITY\n",
       "2         258997      M                              01A-USE OF PROFANITY\n",
       "3         258998      M  10J-NEGLECT OF DUTY/CONDUCT UNBECOMING - ON DUTY\n",
       "4         259001      M         10U-INADEQUATE/FAILURE TO PROVIDE SERVICE\n",
       "...          ...    ...                                               ...\n",
       "125576   1082657      M                                               NaN\n",
       "125577   1082661      M                                               NaN\n",
       "125578   1082661      M                                               NaN\n",
       "125579   1082695      M                                               NaN\n",
       "125580  10773250      M                                               NaN\n",
       "\n",
       "[125581 rows x 3 columns]"
      ]
     },
     "execution_count": 60,
     "metadata": {},
     "output_type": "execute_result"
    }
   ],
   "source": [
    "accusations = pd.read_csv(\"accused.csv\")\n",
    "accusations = accusations.get([\"cr_id\", \"gender\"])\n",
    "gender_accusations"
   ]
  },
  {
   "cell_type": "code",
   "execution_count": 61,
   "metadata": {},
   "outputs": [
    {
     "data": {
      "text/html": [
       "<div>\n",
       "<style scoped>\n",
       "    .dataframe tbody tr th:only-of-type {\n",
       "        vertical-align: middle;\n",
       "    }\n",
       "\n",
       "    .dataframe tbody tr th {\n",
       "        vertical-align: top;\n",
       "    }\n",
       "\n",
       "    .dataframe thead th {\n",
       "        text-align: right;\n",
       "    }\n",
       "</style>\n",
       "<table border=\"1\" class=\"dataframe\">\n",
       "  <thead>\n",
       "    <tr style=\"text-align: right;\">\n",
       "      <th></th>\n",
       "      <th>cr_id</th>\n",
       "      <th>complaint_category</th>\n",
       "      <th>recommended_discipline</th>\n",
       "      <th>final_discipline</th>\n",
       "      <th>gender</th>\n",
       "    </tr>\n",
       "  </thead>\n",
       "  <tbody>\n",
       "    <tr>\n",
       "      <th>0</th>\n",
       "      <td>258996</td>\n",
       "      <td>01A-USE OF PROFANITY</td>\n",
       "      <td>600.0</td>\n",
       "      <td>600.0</td>\n",
       "      <td>M</td>\n",
       "    </tr>\n",
       "    <tr>\n",
       "      <th>1</th>\n",
       "      <td>258997</td>\n",
       "      <td>01A-USE OF PROFANITY</td>\n",
       "      <td>600.0</td>\n",
       "      <td>600.0</td>\n",
       "      <td>F</td>\n",
       "    </tr>\n",
       "    <tr>\n",
       "      <th>2</th>\n",
       "      <td>258997</td>\n",
       "      <td>01A-USE OF PROFANITY</td>\n",
       "      <td>600.0</td>\n",
       "      <td>600.0</td>\n",
       "      <td>M</td>\n",
       "    </tr>\n",
       "    <tr>\n",
       "      <th>3</th>\n",
       "      <td>258997</td>\n",
       "      <td>01A-USE OF PROFANITY</td>\n",
       "      <td>600.0</td>\n",
       "      <td>600.0</td>\n",
       "      <td>F</td>\n",
       "    </tr>\n",
       "    <tr>\n",
       "      <th>4</th>\n",
       "      <td>258997</td>\n",
       "      <td>01A-USE OF PROFANITY</td>\n",
       "      <td>600.0</td>\n",
       "      <td>600.0</td>\n",
       "      <td>M</td>\n",
       "    </tr>\n",
       "    <tr>\n",
       "      <th>...</th>\n",
       "      <td>...</td>\n",
       "      <td>...</td>\n",
       "      <td>...</td>\n",
       "      <td>...</td>\n",
       "      <td>...</td>\n",
       "    </tr>\n",
       "    <tr>\n",
       "      <th>413042</th>\n",
       "      <td>1081894</td>\n",
       "      <td>03D-ILLEGAL ARREST</td>\n",
       "      <td>600.0</td>\n",
       "      <td>600.0</td>\n",
       "      <td>F</td>\n",
       "    </tr>\n",
       "    <tr>\n",
       "      <th>413124</th>\n",
       "      <td>1082050</td>\n",
       "      <td>03C-SEARCH OF PREMISE/VEHICLE WITHOUT WARRANT</td>\n",
       "      <td>600.0</td>\n",
       "      <td>600.0</td>\n",
       "      <td>F</td>\n",
       "    </tr>\n",
       "    <tr>\n",
       "      <th>413125</th>\n",
       "      <td>1082050</td>\n",
       "      <td>03C-SEARCH OF PREMISE/VEHICLE WITHOUT WARRANT</td>\n",
       "      <td>600.0</td>\n",
       "      <td>600.0</td>\n",
       "      <td>M</td>\n",
       "    </tr>\n",
       "    <tr>\n",
       "      <th>413126</th>\n",
       "      <td>1082050</td>\n",
       "      <td>03C-SEARCH OF PREMISE/VEHICLE WITHOUT WARRANT</td>\n",
       "      <td>600.0</td>\n",
       "      <td>600.0</td>\n",
       "      <td>F</td>\n",
       "    </tr>\n",
       "    <tr>\n",
       "      <th>413127</th>\n",
       "      <td>1082050</td>\n",
       "      <td>03C-SEARCH OF PREMISE/VEHICLE WITHOUT WARRANT</td>\n",
       "      <td>600.0</td>\n",
       "      <td>600.0</td>\n",
       "      <td>M</td>\n",
       "    </tr>\n",
       "  </tbody>\n",
       "</table>\n",
       "<p>386873 rows × 5 columns</p>\n",
       "</div>"
      ],
      "text/plain": [
       "          cr_id                             complaint_category  \\\n",
       "0        258996                           01A-USE OF PROFANITY   \n",
       "1        258997                           01A-USE OF PROFANITY   \n",
       "2        258997                           01A-USE OF PROFANITY   \n",
       "3        258997                           01A-USE OF PROFANITY   \n",
       "4        258997                           01A-USE OF PROFANITY   \n",
       "...         ...                                            ...   \n",
       "413042  1081894                             03D-ILLEGAL ARREST   \n",
       "413124  1082050  03C-SEARCH OF PREMISE/VEHICLE WITHOUT WARRANT   \n",
       "413125  1082050  03C-SEARCH OF PREMISE/VEHICLE WITHOUT WARRANT   \n",
       "413126  1082050  03C-SEARCH OF PREMISE/VEHICLE WITHOUT WARRANT   \n",
       "413127  1082050  03C-SEARCH OF PREMISE/VEHICLE WITHOUT WARRANT   \n",
       "\n",
       "        recommended_discipline  final_discipline gender  \n",
       "0                        600.0             600.0      M  \n",
       "1                        600.0             600.0      F  \n",
       "2                        600.0             600.0      M  \n",
       "3                        600.0             600.0      F  \n",
       "4                        600.0             600.0      M  \n",
       "...                        ...               ...    ...  \n",
       "413042                   600.0             600.0      F  \n",
       "413124                   600.0             600.0      F  \n",
       "413125                   600.0             600.0      M  \n",
       "413126                   600.0             600.0      F  \n",
       "413127                   600.0             600.0      M  \n",
       "\n",
       "[386873 rows x 5 columns]"
      ]
     },
     "execution_count": 61,
     "metadata": {},
     "output_type": "execute_result"
    }
   ],
   "source": [
    "complaints_bygender = complaints.merge(accusations, left_on=(\"cr_id\"), right_on=(\"cr_id\"))\n",
    "complaints_bygender = complaints_bygender.dropna()\n",
    "complaints_bygender"
   ]
  },
  {
   "cell_type": "code",
   "execution_count": 62,
   "metadata": {},
   "outputs": [
    {
     "data": {
      "text/plain": [
       "3819"
      ]
     },
     "execution_count": 62,
     "metadata": {},
     "output_type": "execute_result"
    }
   ],
   "source": [
    "female_sustained = complaints_bygender[((complaints_bygender.get(\"final_discipline\")) != 600.0)& ((complaints_bygender.get(\"gender\")) == \"F\")].shape[0]\n",
    "female_sustained"
   ]
  },
  {
   "cell_type": "code",
   "execution_count": 63,
   "metadata": {},
   "outputs": [
    {
     "data": {
      "text/plain": [
       "18151"
      ]
     },
     "execution_count": 63,
     "metadata": {},
     "output_type": "execute_result"
    }
   ],
   "source": [
    "male_sustained = complaints_bygender[((complaints_bygender.get(\"final_discipline\")) != 600.0)& ((complaints_bygender.get(\"gender\")) == \"M\")].shape[0]\n",
    "male_sustained"
   ]
  },
  {
   "cell_type": "code",
   "execution_count": 64,
   "metadata": {},
   "outputs": [
    {
     "data": {
      "text/plain": [
       "46016"
      ]
     },
     "execution_count": 64,
     "metadata": {},
     "output_type": "execute_result"
    }
   ],
   "source": [
    "number_female_complaints = complaints_bygender[(complaints_bygender.get(\"gender\")) == \"F\"].shape[0]\n",
    "number_female_complaints"
   ]
  },
  {
   "cell_type": "code",
   "execution_count": 65,
   "metadata": {},
   "outputs": [
    {
     "data": {
      "text/plain": [
       "340857"
      ]
     },
     "execution_count": 65,
     "metadata": {},
     "output_type": "execute_result"
    }
   ],
   "source": [
    "number_male_complaints = complaints_bygender[(complaints_bygender.get(\"gender\")) == \"M\"].shape[0]\n",
    "number_male_complaints"
   ]
  },
  {
   "cell_type": "code",
   "execution_count": 66,
   "metadata": {},
   "outputs": [
    {
     "data": {
      "text/plain": [
       "8.299287204450625"
      ]
     },
     "execution_count": 66,
     "metadata": {},
     "output_type": "execute_result"
    }
   ],
   "source": [
    "percent_female_sustained = female_sustained/number_female_complaints * 100\n",
    "percent_female_sustained"
   ]
  },
  {
   "cell_type": "code",
   "execution_count": 67,
   "metadata": {},
   "outputs": [
    {
     "data": {
      "text/plain": [
       "5.325107009684413"
      ]
     },
     "execution_count": 67,
     "metadata": {},
     "output_type": "execute_result"
    }
   ],
   "source": [
    "percent_male_sustained = male_sustained/number_male_complaints * 100\n",
    "percent_male_sustained"
   ]
  },
  {
   "cell_type": "code",
   "execution_count": 82,
   "metadata": {},
   "outputs": [
    {
     "data": {
      "text/html": [
       "<div>\n",
       "<style scoped>\n",
       "    .dataframe tbody tr th:only-of-type {\n",
       "        vertical-align: middle;\n",
       "    }\n",
       "\n",
       "    .dataframe tbody tr th {\n",
       "        vertical-align: top;\n",
       "    }\n",
       "\n",
       "    .dataframe thead th {\n",
       "        text-align: right;\n",
       "    }\n",
       "</style>\n",
       "<table border=\"1\" class=\"dataframe\">\n",
       "  <thead>\n",
       "    <tr style=\"text-align: right;\">\n",
       "      <th></th>\n",
       "      <th>complaint_category</th>\n",
       "      <th>gender</th>\n",
       "      <th>number_complaints</th>\n",
       "    </tr>\n",
       "  </thead>\n",
       "  <tbody>\n",
       "    <tr>\n",
       "      <th>0</th>\n",
       "      <td>01A-USE OF PROFANITY</td>\n",
       "      <td>F</td>\n",
       "      <td>781</td>\n",
       "    </tr>\n",
       "    <tr>\n",
       "      <th>1</th>\n",
       "      <td>01A-USE OF PROFANITY</td>\n",
       "      <td>M</td>\n",
       "      <td>5387</td>\n",
       "    </tr>\n",
       "    <tr>\n",
       "      <th>2</th>\n",
       "      <td>01B-RACIAL/ETHNIC, ETC.</td>\n",
       "      <td>F</td>\n",
       "      <td>269</td>\n",
       "    </tr>\n",
       "    <tr>\n",
       "      <th>3</th>\n",
       "      <td>01B-RACIAL/ETHNIC, ETC.</td>\n",
       "      <td>M</td>\n",
       "      <td>2003</td>\n",
       "    </tr>\n",
       "    <tr>\n",
       "      <th>4</th>\n",
       "      <td>01C-MISCELLANEOUS</td>\n",
       "      <td>F</td>\n",
       "      <td>190</td>\n",
       "    </tr>\n",
       "    <tr>\n",
       "      <th>...</th>\n",
       "      <td>...</td>\n",
       "      <td>...</td>\n",
       "      <td>...</td>\n",
       "    </tr>\n",
       "    <tr>\n",
       "      <th>226</th>\n",
       "      <td>15H-POSITIVE DRUG SCREEN - OTHER PHYSICAL EXAM</td>\n",
       "      <td>M</td>\n",
       "      <td>44</td>\n",
       "    </tr>\n",
       "    <tr>\n",
       "      <th>227</th>\n",
       "      <td>15J-REFUSAL OF DIRECT ORDER TO PROVIDE DRUG SC...</td>\n",
       "      <td>F</td>\n",
       "      <td>1</td>\n",
       "    </tr>\n",
       "    <tr>\n",
       "      <th>228</th>\n",
       "      <td>15J-REFUSAL OF DIRECT ORDER TO PROVIDE DRUG SC...</td>\n",
       "      <td>M</td>\n",
       "      <td>1</td>\n",
       "    </tr>\n",
       "    <tr>\n",
       "      <th>229</th>\n",
       "      <td>15K-MISCELLANEOUS</td>\n",
       "      <td>F</td>\n",
       "      <td>3</td>\n",
       "    </tr>\n",
       "    <tr>\n",
       "      <th>230</th>\n",
       "      <td>15K-MISCELLANEOUS</td>\n",
       "      <td>M</td>\n",
       "      <td>17</td>\n",
       "    </tr>\n",
       "  </tbody>\n",
       "</table>\n",
       "<p>231 rows × 3 columns</p>\n",
       "</div>"
      ],
      "text/plain": [
       "                                    complaint_category gender  \\\n",
       "0                                 01A-USE OF PROFANITY      F   \n",
       "1                                 01A-USE OF PROFANITY      M   \n",
       "2                              01B-RACIAL/ETHNIC, ETC.      F   \n",
       "3                              01B-RACIAL/ETHNIC, ETC.      M   \n",
       "4                                    01C-MISCELLANEOUS      F   \n",
       "..                                                 ...    ...   \n",
       "226     15H-POSITIVE DRUG SCREEN - OTHER PHYSICAL EXAM      M   \n",
       "227  15J-REFUSAL OF DIRECT ORDER TO PROVIDE DRUG SC...      F   \n",
       "228  15J-REFUSAL OF DIRECT ORDER TO PROVIDE DRUG SC...      M   \n",
       "229                                  15K-MISCELLANEOUS      F   \n",
       "230                                  15K-MISCELLANEOUS      M   \n",
       "\n",
       "     number_complaints  \n",
       "0                  781  \n",
       "1                 5387  \n",
       "2                  269  \n",
       "3                 2003  \n",
       "4                  190  \n",
       "..                 ...  \n",
       "226                 44  \n",
       "227                  1  \n",
       "228                  1  \n",
       "229                  3  \n",
       "230                 17  \n",
       "\n",
       "[231 rows x 3 columns]"
      ]
     },
     "execution_count": 82,
     "metadata": {},
     "output_type": "execute_result"
    }
   ],
   "source": [
    "common_complaints = complaints_bygender.drop(columns = [\"recommended_discipline\", \"final_discipline\"]).groupby([\"complaint_category\", \"gender\"]).count()\n",
    "type_complaints_bygender = common_complaints.rename(columns = {\"cr_id\": \"number_complaints\"}).reset_index()\n",
    "type_complaints_bygender"
   ]
  },
  {
   "cell_type": "code",
   "execution_count": 90,
   "metadata": {},
   "outputs": [
    {
     "data": {
      "text/plain": [
       "complaint_category    15K-MISCELLANEOUS\n",
       "gender                                F\n",
       "number_complaints                  7442\n",
       "dtype: object"
      ]
     },
     "execution_count": 90,
     "metadata": {},
     "output_type": "execute_result"
    }
   ],
   "source": [
    "most_common_complaint_female = type_complaints_bygender[((type_complaints_bygender.get(\"gender\")) == \"F\")].max()\n",
    "most_common_complaint_female"
   ]
  },
  {
   "cell_type": "code",
   "execution_count": 91,
   "metadata": {},
   "outputs": [
    {
     "data": {
      "text/plain": [
       "complaint_category    15K-MISCELLANEOUS\n",
       "gender                                M\n",
       "number_complaints                 67592\n",
       "dtype: object"
      ]
     },
     "execution_count": 91,
     "metadata": {},
     "output_type": "execute_result"
    }
   ],
   "source": [
    "most_common_complaint_female = type_complaints_bygender[((type_complaints_bygender.get(\"gender\")) == \"M\")].max()\n",
    "most_common_complaint_female"
   ]
  },
  {
   "cell_type": "code",
   "execution_count": null,
   "metadata": {},
   "outputs": [],
   "source": []
  }
 ],
 "metadata": {
  "kernelspec": {
   "display_name": "Python 3",
   "language": "python",
   "name": "python3"
  },
  "language_info": {
   "codemirror_mode": {
    "name": "ipython",
    "version": 3
   },
   "file_extension": ".py",
   "mimetype": "text/x-python",
   "name": "python",
   "nbconvert_exporter": "python",
   "pygments_lexer": "ipython3",
   "version": "3.7.7"
  }
 },
 "nbformat": 4,
 "nbformat_minor": 4
}
