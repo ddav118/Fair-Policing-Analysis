{
 "cells": [
  {
   "cell_type": "code",
   "execution_count": 1,
   "metadata": {
    "collapsed": true
   },
   "outputs": [],
   "source": [
    "import pandas as pd\n",
    "import sys\n",
    "from general_utils import *\n",
    "from assign_unique_ids_functions import *\n",
    "from merge_functions import ReferenceData\n",
    "import logging\n",
    "logger = logging.getLogger('test')\n",
    "logger.setLevel(logging.INFO)\n",
    "formatter = logging.Formatter(\n",
    "'%(asctime)s[%(levelname)s]: %(message)s',datefmt='%Y-%m-%dT%H:%M:%S')\n",
    "stream_out = logging.StreamHandler(sys.stdout)\n",
    "stream_out.setFormatter(formatter)\n",
    "logger.addHandler(stream_out)\n",
    "df = pd.read_csv(\"../input/TRR-subjects_2004-2016_2016-09.csv.gz\")"
   ]
  },
  {
   "cell_type": "code",
   "execution_count": 2,
   "metadata": {
    "collapsed": true
   },
   "outputs": [],
   "source": [
    "core = df.dropna(subset=['subject_no'])\n",
    "sup = df.drop(core.index)"
   ]
  },
  {
   "cell_type": "code",
   "execution_count": 3,
   "metadata": {},
   "outputs": [
    {
     "name": "stdout",
     "output_type": "stream",
     "text": [
      "Total rows: 3981\n",
      "Unique id + conflict rows: 2871\n",
      "Conflict rows: 0\n",
      "Resolved conflcit UID count: 0\n",
      "Total unique ids: 2871\n",
      "\n"
     ]
    }
   ],
   "source": [
    "sup = assign_unique_ids(sup, '__2016_ID', id_cols=[\"sr_no\", \"se_no\", \"gender\", \"race\", \"age\", \"birth_year\", \"armed\", \"injured\", \"alleged_injury\"])"
   ]
  },
  {
   "cell_type": "code",
   "execution_count": 4,
   "metadata": {},
   "outputs": [
    {
     "name": "stdout",
     "output_type": "stream",
     "text": [
      "2018-02-23T14:12:46[INFO]: Creating reference data from filewith intrafile ID: subject_no\n",
      "2018-02-23T14:12:46[INFO]: Adding file with intrafile ID: __2016_ID\n",
      "2018-02-23T14:12:46[INFO]: Beginning loop_merge.\n",
      "80 Matches on \n",
      " ['sr_no', 'se_no', 'gender', 'race', 'age', 'birth_year', 'armed', 'injured', 'alleged_injury'] columns\n",
      "4 Matches on \n",
      " ['sr_no', 'se_no', 'gender', 'race', 'birth_year', 'armed', 'injured', 'alleged_injury'] columns\n",
      "17 Matches on \n",
      " ['sr_no', 'se_no', 'gender', 'race', 'age'] columns\n",
      "1 Matches on \n",
      " ['sr_no', 'se_no', 'gender', 'race', 'birth_year'] columns\n",
      "15 Matches on \n",
      " ['sr_no', 'gender', 'race', 'age', 'birth_year', 'armed', 'injured', 'alleged_injury'] columns\n",
      "10 Matches on \n",
      " ['se_no', 'gender', 'race', 'age', 'birth_year', 'armed', 'injured', 'alleged_injury'] columns\n",
      "2018-02-23T14:12:47[INFO]: Merge Report:\n",
      "127 Total Merged. 0.31% of ref and 4.42% of sup Merged.\n",
      "40659 Unmerged in ref. 99.69% Unmerged.\n",
      "2744 Unmerged in sup. 95.58% Unmerged.\n",
      "2018-02-23T14:12:47[INFO]: \n",
      "sr_no-se_no-gender-race-age-birth_year-armed-injured-alleged_injury    80\n",
      "sr_no-se_no-gender-race-age                                            17\n",
      "sr_no-gender-race-age-birth_year-armed-injured-alleged_injury          15\n",
      "se_no-gender-race-age-birth_year-armed-injured-alleged_injury          10\n",
      "sr_no-se_no-gender-race-birth_year-armed-injured-alleged_injury         4\n",
      "sr_no-se_no-gender-race-birth_year                                      1\n",
      "Name: matched_on, dtype: int64\n"
     ]
    }
   ],
   "source": [
    "rd = ReferenceData(core, 'id', logger, data_id='subject_no')\\\n",
    ".add_sup_data(sup, add_cols=[],base_OD=[])\\\n",
    ".loop_merge(custom_merges=[\n",
    "    [\"sr_no\", \"se_no\", \"gender\", \"race\", \"age\", \"birth_year\", \"armed\", \"injured\", \"alleged_injury\"],\n",
    "    [\"sr_no\", \"se_no\", \"gender\", \"race\", \"birth_year\", \"armed\", \"injured\", \"alleged_injury\"],\n",
    "    [\"sr_no\", \"se_no\", \"gender\", \"race\", \"age\", \"armed\", \"injured\", \"alleged_injury\"],\n",
    "    [\"sr_no\", \"se_no\", \"gender\", \"race\", \"age\"],\n",
    "    [\"sr_no\", \"se_no\", \"gender\", \"race\", \"birth_year\"],\n",
    "    [\"sr_no\", \"gender\", \"race\", \"age\", \"birth_year\", \"armed\", \"injured\", \"alleged_injury\"],\n",
    "    [\"se_no\", \"gender\", \"race\", \"age\", \"birth_year\", \"armed\", \"injured\", \"alleged_injury\"]],\n",
    "    one_to_one=False)"
   ]
  },
  {
   "cell_type": "code",
   "execution_count": 5,
   "metadata": {
    "collapsed": true
   },
   "outputs": [],
   "source": [
    "import dedupe\n",
    "df.insert(0, 'ID', df.index+1)"
   ]
  },
  {
   "cell_type": "code",
   "execution_count": 6,
   "metadata": {},
   "outputs": [],
   "source": [
    "df = df.where((pd.notnull(df)), None)"
   ]
  },
  {
   "cell_type": "code",
   "execution_count": 19,
   "metadata": {},
   "outputs": [
    {
     "data": {
      "text/html": [
       "<div>\n",
       "<style>\n",
       "    .dataframe thead tr:only-child th {\n",
       "        text-align: right;\n",
       "    }\n",
       "\n",
       "    .dataframe thead th {\n",
       "        text-align: left;\n",
       "    }\n",
       "\n",
       "    .dataframe tbody tr th {\n",
       "        vertical-align: top;\n",
       "    }\n",
       "</style>\n",
       "<table border=\"1\" class=\"dataframe\">\n",
       "  <thead>\n",
       "    <tr style=\"text-align: right;\">\n",
       "      <th></th>\n",
       "      <th>ID</th>\n",
       "      <th>trr_id</th>\n",
       "      <th>gender</th>\n",
       "      <th>race</th>\n",
       "      <th>age</th>\n",
       "      <th>birth_year</th>\n",
       "      <th>armed</th>\n",
       "      <th>injured</th>\n",
       "      <th>alleged_injury</th>\n",
       "      <th>subject_no</th>\n",
       "      <th>sr_no</th>\n",
       "      <th>se_no</th>\n",
       "      <th>trr_date</th>\n",
       "    </tr>\n",
       "  </thead>\n",
       "  <tbody>\n",
       "    <tr>\n",
       "      <th>65102</th>\n",
       "      <td>65103</td>\n",
       "      <td>94026</td>\n",
       "      <td>FEMALE</td>\n",
       "      <td>BLACK</td>\n",
       "      <td>37</td>\n",
       "      <td>1978</td>\n",
       "      <td>No</td>\n",
       "      <td>No</td>\n",
       "      <td>No</td>\n",
       "      <td>39719</td>\n",
       "      <td>39807</td>\n",
       "      <td>40120</td>\n",
       "      <td>2015-10-21</td>\n",
       "    </tr>\n",
       "    <tr>\n",
       "      <th>65103</th>\n",
       "      <td>65104</td>\n",
       "      <td>94027</td>\n",
       "      <td>MALE</td>\n",
       "      <td>BLACK</td>\n",
       "      <td>36</td>\n",
       "      <td>1979</td>\n",
       "      <td>No</td>\n",
       "      <td>No</td>\n",
       "      <td>No</td>\n",
       "      <td>39719</td>\n",
       "      <td>39807</td>\n",
       "      <td>40120</td>\n",
       "      <td>2015-10-21</td>\n",
       "    </tr>\n",
       "    <tr>\n",
       "      <th>65104</th>\n",
       "      <td>65105</td>\n",
       "      <td>94028</td>\n",
       "      <td>MALE</td>\n",
       "      <td>BLACK</td>\n",
       "      <td>36</td>\n",
       "      <td>1979</td>\n",
       "      <td>No</td>\n",
       "      <td>No</td>\n",
       "      <td>No</td>\n",
       "      <td>39719</td>\n",
       "      <td>39807</td>\n",
       "      <td>40120</td>\n",
       "      <td>2015-10-21</td>\n",
       "    </tr>\n",
       "    <tr>\n",
       "      <th>65105</th>\n",
       "      <td>65106</td>\n",
       "      <td>94029</td>\n",
       "      <td>MALE</td>\n",
       "      <td>BLACK</td>\n",
       "      <td>36</td>\n",
       "      <td>1979</td>\n",
       "      <td>No</td>\n",
       "      <td>No</td>\n",
       "      <td>No</td>\n",
       "      <td>39719</td>\n",
       "      <td>39807</td>\n",
       "      <td>40120</td>\n",
       "      <td>2015-10-21</td>\n",
       "    </tr>\n",
       "  </tbody>\n",
       "</table>\n",
       "</div>"
      ],
      "text/plain": [
       "          ID  trr_id  gender   race age  birth_year armed injured  \\\n",
       "65102  65103   94026  FEMALE  BLACK  37        1978    No      No   \n",
       "65103  65104   94027    MALE  BLACK  36        1979    No      No   \n",
       "65104  65105   94028    MALE  BLACK  36        1979    No      No   \n",
       "65105  65106   94029    MALE  BLACK  36        1979    No      No   \n",
       "\n",
       "      alleged_injury subject_no  sr_no  se_no    trr_date  \n",
       "65102             No      39719  39807  40120  2015-10-21  \n",
       "65103             No      39719  39807  40120  2015-10-21  \n",
       "65104             No      39719  39807  40120  2015-10-21  \n",
       "65105             No      39719  39807  40120  2015-10-21  "
      ]
     },
     "execution_count": 19,
     "metadata": {},
     "output_type": "execute_result"
    }
   ],
   "source": [
    "df[df['subject_no']==39719]"
   ]
  },
  {
   "cell_type": "code",
   "execution_count": 7,
   "metadata": {
    "collapsed": true
   },
   "outputs": [],
   "source": [
    "dd = df.to_dict('index')"
   ]
  },
  {
   "cell_type": "code",
   "execution_count": 8,
   "metadata": {},
   "outputs": [
    {
     "data": {
      "text/html": [
       "<div>\n",
       "<style>\n",
       "    .dataframe thead tr:only-child th {\n",
       "        text-align: right;\n",
       "    }\n",
       "\n",
       "    .dataframe thead th {\n",
       "        text-align: left;\n",
       "    }\n",
       "\n",
       "    .dataframe tbody tr th {\n",
       "        vertical-align: top;\n",
       "    }\n",
       "</style>\n",
       "<table border=\"1\" class=\"dataframe\">\n",
       "  <thead>\n",
       "    <tr style=\"text-align: right;\">\n",
       "      <th></th>\n",
       "      <th>ID</th>\n",
       "      <th>trr_id</th>\n",
       "      <th>gender</th>\n",
       "      <th>race</th>\n",
       "      <th>age</th>\n",
       "      <th>birth_year</th>\n",
       "      <th>armed</th>\n",
       "      <th>injured</th>\n",
       "      <th>alleged_injury</th>\n",
       "      <th>subject_no</th>\n",
       "      <th>sr_no</th>\n",
       "      <th>se_no</th>\n",
       "      <th>trr_date</th>\n",
       "    </tr>\n",
       "  </thead>\n",
       "  <tbody>\n",
       "    <tr>\n",
       "      <th>0</th>\n",
       "      <td>1</td>\n",
       "      <td>4</td>\n",
       "      <td>MALE</td>\n",
       "      <td>HISPANIC</td>\n",
       "      <td>38</td>\n",
       "      <td>1965</td>\n",
       "      <td>No</td>\n",
       "      <td>Yes</td>\n",
       "      <td>Yes</td>\n",
       "      <td>1</td>\n",
       "      <td>1</td>\n",
       "      <td>1</td>\n",
       "      <td>2004-01-17</td>\n",
       "    </tr>\n",
       "    <tr>\n",
       "      <th>1</th>\n",
       "      <td>2</td>\n",
       "      <td>5</td>\n",
       "      <td>MALE</td>\n",
       "      <td>HISPANIC</td>\n",
       "      <td>38</td>\n",
       "      <td>1965</td>\n",
       "      <td>No</td>\n",
       "      <td>Yes</td>\n",
       "      <td>Yes</td>\n",
       "      <td>1</td>\n",
       "      <td>1</td>\n",
       "      <td>1</td>\n",
       "      <td>2004-01-17</td>\n",
       "    </tr>\n",
       "    <tr>\n",
       "      <th>2</th>\n",
       "      <td>3</td>\n",
       "      <td>7</td>\n",
       "      <td>MALE</td>\n",
       "      <td>BLACK</td>\n",
       "      <td>25</td>\n",
       "      <td>1978</td>\n",
       "      <td>No</td>\n",
       "      <td>No</td>\n",
       "      <td>No</td>\n",
       "      <td>2</td>\n",
       "      <td>2</td>\n",
       "      <td>2</td>\n",
       "      <td>2004-01-17</td>\n",
       "    </tr>\n",
       "    <tr>\n",
       "      <th>3</th>\n",
       "      <td>4</td>\n",
       "      <td>8</td>\n",
       "      <td>MALE</td>\n",
       "      <td>BLACK</td>\n",
       "      <td>25</td>\n",
       "      <td>1978</td>\n",
       "      <td>No</td>\n",
       "      <td>No</td>\n",
       "      <td>No</td>\n",
       "      <td>2</td>\n",
       "      <td>2</td>\n",
       "      <td>2</td>\n",
       "      <td>2004-01-17</td>\n",
       "    </tr>\n",
       "    <tr>\n",
       "      <th>4</th>\n",
       "      <td>5</td>\n",
       "      <td>9</td>\n",
       "      <td>MALE</td>\n",
       "      <td>BLACK</td>\n",
       "      <td>24</td>\n",
       "      <td>1979</td>\n",
       "      <td>No</td>\n",
       "      <td>No</td>\n",
       "      <td>No</td>\n",
       "      <td>3</td>\n",
       "      <td>3</td>\n",
       "      <td>3</td>\n",
       "      <td>2004-01-18</td>\n",
       "    </tr>\n",
       "  </tbody>\n",
       "</table>\n",
       "</div>"
      ],
      "text/plain": [
       "   ID  trr_id gender      race age  birth_year armed injured alleged_injury  \\\n",
       "0   1       4   MALE  HISPANIC  38        1965    No     Yes            Yes   \n",
       "1   2       5   MALE  HISPANIC  38        1965    No     Yes            Yes   \n",
       "2   3       7   MALE     BLACK  25        1978    No      No             No   \n",
       "3   4       8   MALE     BLACK  25        1978    No      No             No   \n",
       "4   5       9   MALE     BLACK  24        1979    No      No             No   \n",
       "\n",
       "  subject_no sr_no se_no    trr_date  \n",
       "0          1     1     1  2004-01-17  \n",
       "1          1     1     1  2004-01-17  \n",
       "2          2     2     2  2004-01-17  \n",
       "3          2     2     2  2004-01-17  \n",
       "4          3     3     3  2004-01-18  "
      ]
     },
     "execution_count": 8,
     "metadata": {},
     "output_type": "execute_result"
    }
   ],
   "source": [
    "df.head()"
   ]
  },
  {
   "cell_type": "code",
   "execution_count": 16,
   "metadata": {},
   "outputs": [],
   "source": [
    "fields = [\n",
    "        {'field' : 'gender', 'type': 'String', 'has missing' : True},\n",
    "        {'field' : 'race', 'type': 'String', 'has missing' : True},\n",
    "        {'field' : 'age', 'type': 'Exact', 'has missing' : True},\n",
    "        {'field' : 'birth_year', 'type': 'Exact', 'has missing' : True},\n",
    "        {'field' : 'armed', 'type': 'ShortString', 'has missing' : True},\n",
    "        {'field' : 'injured', 'type': 'ShortString', 'has missing' : True},\n",
    "        {'field' : 'alleged_injury', 'type':'ShortString', 'has missing' : True},\n",
    "        {'field' : 'subject_no', 'type': 'Exact', 'has missing' : True},\n",
    "        {'field' : 'se_no', 'type': 'Exact', 'has missing' : True},\n",
    "        {'field' : 'sr_no', 'type': 'Exact', 'has missing' : True},\n",
    "        {'field' : 'trr_date', 'type' : 'DateTime'}\n",
    "        ]"
   ]
  },
  {
   "cell_type": "code",
   "execution_count": 17,
   "metadata": {},
   "outputs": [],
   "source": [
    "deduper = dedupe.Dedupe(fields)"
   ]
  },
  {
   "cell_type": "code",
   "execution_count": 18,
   "metadata": {},
   "outputs": [
    {
     "name": "stderr",
     "output_type": "stream",
     "text": [
      "/Users/invinst/anaconda3/lib/python3.6/site-packages/dedupe/sampling.py:39: UserWarning: 7500 blocked samples were requested, but only able to sample 7499\n",
      "  % (sample_size, len(blocked_sample)))\n",
      "gender : MALE\n",
      "race : BLACK\n",
      "age : 25.0\n",
      "birth_year : 1982\n",
      "armed : No\n",
      "injured : No\n",
      "alleged_injury : No\n",
      "subject_no : 11037.0\n",
      "se_no : 11107.0\n",
      "sr_no : 11043.0\n",
      "trr_date : 2007-07-09\n",
      "\n",
      "gender : MALE\n",
      "race : BLACK\n",
      "age : 25.0\n",
      "birth_year : 1982\n",
      "armed : Yes\n",
      "injured : No\n",
      "alleged_injury : No\n",
      "subject_no : 12552.0\n",
      "se_no : 12638.0\n",
      "sr_no : 12550.0\n",
      "trr_date : 2007-12-31\n",
      "\n",
      "0/10 positive, 0/10 negative\n",
      "Do these records refer to the same thing?\n",
      "(y)es / (n)o / (u)nsure / (f)inished\n"
     ]
    },
    {
     "name": "stdout",
     "output_type": "stream",
     "text": [
      "n\n"
     ]
    },
    {
     "name": "stderr",
     "output_type": "stream",
     "text": [
      "gender : MALE\n",
      "race : BLACK\n",
      "age : 37.0\n",
      "birth_year : 1967\n",
      "armed : No\n",
      "injured : No\n",
      "alleged_injury : Yes\n",
      "subject_no : 2962.0\n",
      "se_no : 2939.0\n",
      "sr_no : 2952.0\n",
      "trr_date : 2005-01-21\n",
      "\n",
      "gender : MALE\n",
      "race : BLACK\n",
      "age : 34.0\n",
      "birth_year : 1971\n",
      "armed : Yes\n",
      "injured : Yes\n",
      "alleged_injury : Yes\n",
      "subject_no : 4580.0\n",
      "se_no : 4614.0\n",
      "sr_no : 4608.0\n",
      "trr_date : 2005-07-14\n",
      "\n",
      "0/10 positive, 1/10 negative\n",
      "Do these records refer to the same thing?\n",
      "(y)es / (n)o / (u)nsure / (f)inished / (p)revious\n"
     ]
    },
    {
     "name": "stdout",
     "output_type": "stream",
     "text": [
      "n\n"
     ]
    },
    {
     "name": "stderr",
     "output_type": "stream",
     "text": [
      "gender : MALE\n",
      "race : HISPANIC\n",
      "age : 44.0\n",
      "birth_year : 1969\n",
      "armed : No\n",
      "injured : No\n",
      "alleged_injury : No\n",
      "subject_no : 34578.0\n",
      "se_no : 34898.0\n",
      "sr_no : 34616.0\n",
      "trr_date : 2014-04-14\n",
      "\n",
      "gender : MALE\n",
      "race : BLACK\n",
      "age : 27.0\n",
      "birth_year : 1986\n",
      "armed : No\n",
      "injured : Yes\n",
      "alleged_injury : Yes\n",
      "subject_no : 34930.0\n",
      "se_no : 35251.0\n",
      "sr_no : 34961.0\n",
      "trr_date : 2014-05-18\n",
      "\n",
      "0/10 positive, 2/10 negative\n",
      "Do these records refer to the same thing?\n",
      "(y)es / (n)o / (u)nsure / (f)inished / (p)revious\n"
     ]
    },
    {
     "name": "stdout",
     "output_type": "stream",
     "text": [
      "n\n"
     ]
    },
    {
     "name": "stderr",
     "output_type": "stream",
     "text": [
      "gender : MALE\n",
      "race : BLACK\n",
      "age : 26.0\n",
      "birth_year : 1987\n",
      "armed : No\n",
      "injured : Yes\n",
      "alleged_injury : Yes\n",
      "subject_no : 31592.0\n",
      "se_no : 31809.0\n",
      "sr_no : 31563.0\n",
      "trr_date : 2013-05-08\n",
      "\n",
      "gender : MALE\n",
      "race : HISPANIC\n",
      "age : 23.0\n",
      "birth_year : 1990\n",
      "armed : No\n",
      "injured : No\n",
      "alleged_injury : No\n",
      "subject_no : 31767.0\n",
      "se_no : 31991.0\n",
      "sr_no : 31743.0\n",
      "trr_date : 2013-05-23\n",
      "\n",
      "0/10 positive, 3/10 negative\n",
      "Do these records refer to the same thing?\n",
      "(y)es / (n)o / (u)nsure / (f)inished / (p)revious\n"
     ]
    },
    {
     "name": "stdout",
     "output_type": "stream",
     "text": [
      "n\n"
     ]
    },
    {
     "name": "stderr",
     "output_type": "stream",
     "text": [
      "gender : MALE\n",
      "race : BLACK\n",
      "age : 26.0\n",
      "birth_year : 1983\n",
      "armed : Yes\n",
      "injured : Yes\n",
      "alleged_injury : Yes\n",
      "subject_no : 21335.0\n",
      "se_no : 21416.0\n",
      "sr_no : 21267.0\n",
      "trr_date : 2010-07-05\n",
      "\n",
      "gender : MALE\n",
      "race : BLACK\n",
      "age : 20.0\n",
      "birth_year : 1989\n",
      "armed : No\n",
      "injured : Yes\n",
      "alleged_injury : No\n",
      "subject_no : 21336.0\n",
      "se_no : 21418.0\n",
      "sr_no : 21269.0\n",
      "trr_date : 2010-07-05\n",
      "\n",
      "0/10 positive, 4/10 negative\n",
      "Do these records refer to the same thing?\n",
      "(y)es / (n)o / (u)nsure / (f)inished / (p)revious\n"
     ]
    },
    {
     "name": "stdout",
     "output_type": "stream",
     "text": [
      "n\n"
     ]
    },
    {
     "name": "stderr",
     "output_type": "stream",
     "text": [
      "gender : MALE\n",
      "race : BLACK\n",
      "age : 30.0\n",
      "birth_year : 1985\n",
      "armed : No\n",
      "injured : No\n",
      "alleged_injury : No\n",
      "subject_no : None\n",
      "se_no : 39868.0\n",
      "sr_no : 39558.0\n",
      "trr_date : 2015-09-26\n",
      "\n",
      "gender : MALE\n",
      "race : BLACK\n",
      "age : 22.0\n",
      "birth_year : 1993\n",
      "armed : No\n",
      "injured : No\n",
      "alleged_injury : No\n",
      "subject_no : 39505.0\n",
      "se_no : 39894.0\n",
      "sr_no : 39584.0\n",
      "trr_date : 2015-09-28\n",
      "\n",
      "0/10 positive, 5/10 negative\n",
      "Do these records refer to the same thing?\n",
      "(y)es / (n)o / (u)nsure / (f)inished / (p)revious\n"
     ]
    },
    {
     "name": "stdout",
     "output_type": "stream",
     "text": [
      "n\n"
     ]
    },
    {
     "name": "stderr",
     "output_type": "stream",
     "text": [
      "gender : MALE\n",
      "race : BLACK\n",
      "age : 26.0\n",
      "birth_year : 1984\n",
      "armed : No\n",
      "injured : No\n",
      "alleged_injury : No\n",
      "subject_no : 24547.0\n",
      "se_no : 24687.0\n",
      "sr_no : 24518.0\n",
      "trr_date : 2011-06-08\n",
      "\n",
      "gender : MALE\n",
      "race : BLACK\n",
      "age : 26.0\n",
      "birth_year : 1984\n",
      "armed : No\n",
      "injured : No\n",
      "alleged_injury : No\n",
      "subject_no : None\n",
      "se_no : 24691.0\n",
      "sr_no : 24522.0\n",
      "trr_date : 2011-06-08\n",
      "\n",
      "0/10 positive, 6/10 negative\n",
      "Do these records refer to the same thing?\n",
      "(y)es / (n)o / (u)nsure / (f)inished / (p)revious\n"
     ]
    },
    {
     "name": "stdout",
     "output_type": "stream",
     "text": [
      "n\n"
     ]
    },
    {
     "name": "stderr",
     "output_type": "stream",
     "text": [
      "gender : MALE\n",
      "race : None\n",
      "age : 26.0\n",
      "birth_year : 1984\n",
      "armed : No\n",
      "injured : Yes\n",
      "alleged_injury : Yes\n",
      "subject_no : 22017.0\n",
      "se_no : 22098.0\n",
      "sr_no : 21948.0\n",
      "trr_date : 2010-09-05\n",
      "\n",
      "gender : MALE\n",
      "race : WHITE\n",
      "age : 26.0\n",
      "birth_year : 1984\n",
      "armed : No\n",
      "injured : Yes\n",
      "alleged_injury : Yes\n",
      "subject_no : 22017.0\n",
      "se_no : 22098.0\n",
      "sr_no : 21948.0\n",
      "trr_date : 2010-09-05\n",
      "\n",
      "0/10 positive, 7/10 negative\n",
      "Do these records refer to the same thing?\n",
      "(y)es / (n)o / (u)nsure / (f)inished / (p)revious\n"
     ]
    },
    {
     "name": "stdout",
     "output_type": "stream",
     "text": [
      "y\n"
     ]
    },
    {
     "name": "stderr",
     "output_type": "stream",
     "text": [
      "gender : FEMALE\n",
      "race : BLACK\n",
      "age : 20.0\n",
      "birth_year : 1984\n",
      "armed : Yes\n",
      "injured : Yes\n",
      "alleged_injury : Yes\n",
      "subject_no : 486.0\n",
      "se_no : 463.0\n",
      "sr_no : 467.0\n",
      "trr_date : 2004-05-09\n",
      "\n",
      "gender : FEMALE\n",
      "race : None\n",
      "age : 20.0\n",
      "birth_year : 1984\n",
      "armed : Yes\n",
      "injured : Yes\n",
      "alleged_injury : Yes\n",
      "subject_no : 486.0\n",
      "se_no : 463.0\n",
      "sr_no : 467.0\n",
      "trr_date : 2004-05-09\n",
      "\n",
      "1/10 positive, 7/10 negative\n",
      "Do these records refer to the same thing?\n",
      "(y)es / (n)o / (u)nsure / (f)inished / (p)revious\n"
     ]
    },
    {
     "name": "stdout",
     "output_type": "stream",
     "text": [
      "y\n"
     ]
    },
    {
     "name": "stderr",
     "output_type": "stream",
     "text": [
      "gender : MALE\n",
      "race : BLACK\n",
      "age : 22.0\n",
      "birth_year : 1982\n",
      "armed : No\n",
      "injured : Yes\n",
      "alleged_injury : Yes\n",
      "subject_no : 5389.0\n",
      "se_no : 5428.0\n",
      "sr_no : 5426.0\n",
      "trr_date : 2005-10-01\n",
      "\n",
      "gender : MALE\n",
      "race : BLACK\n",
      "age : 22.0\n",
      "birth_year : 1982\n",
      "armed : No\n",
      "injured : Yes\n",
      "alleged_injury : Yes\n",
      "subject_no : 5389.0\n",
      "se_no : 5428.0\n",
      "sr_no : 5426.0\n",
      "trr_date : 2005-10-01\n",
      "\n",
      "2/10 positive, 7/10 negative\n",
      "Do these records refer to the same thing?\n",
      "(y)es / (n)o / (u)nsure / (f)inished / (p)revious\n"
     ]
    },
    {
     "name": "stdout",
     "output_type": "stream",
     "text": [
      "y\n"
     ]
    },
    {
     "name": "stderr",
     "output_type": "stream",
     "text": [
      "gender : MALE\n",
      "race : BLACK\n",
      "age : 32.0\n",
      "birth_year : 1975\n",
      "armed : No\n",
      "injured : No\n",
      "alleged_injury : No\n",
      "subject_no : 9584.0\n",
      "se_no : 9653.0\n",
      "sr_no : 9600.0\n",
      "trr_date : 2007-01-24\n",
      "\n",
      "gender : MALE\n",
      "race : BLACK\n",
      "age : 32.0\n",
      "birth_year : 1975\n",
      "armed : No\n",
      "injured : No\n",
      "alleged_injury : No\n",
      "subject_no : 9585.0\n",
      "se_no : 9653.0\n",
      "sr_no : 9600.0\n",
      "trr_date : 2007-01-24\n",
      "\n",
      "3/10 positive, 7/10 negative\n",
      "Do these records refer to the same thing?\n",
      "(y)es / (n)o / (u)nsure / (f)inished / (p)revious\n"
     ]
    },
    {
     "name": "stdout",
     "output_type": "stream",
     "text": [
      "y\n"
     ]
    },
    {
     "name": "stderr",
     "output_type": "stream",
     "text": [
      "gender : MALE\n",
      "race : BLACK\n",
      "age : 32.0\n",
      "birth_year : 1982\n",
      "armed : No\n",
      "injured : No\n",
      "alleged_injury : No\n",
      "subject_no : None\n",
      "se_no : 36865.0\n",
      "sr_no : 36565.0\n",
      "trr_date : 2014-10-19\n",
      "\n",
      "gender : MALE\n",
      "race : BLACK\n",
      "age : 32.0\n",
      "birth_year : 1982\n",
      "armed : No\n",
      "injured : No\n",
      "alleged_injury : No\n",
      "subject_no : 36509.0\n",
      "se_no : 36865.0\n",
      "sr_no : 36565.0\n",
      "trr_date : 2014-10-19\n",
      "\n",
      "4/10 positive, 7/10 negative\n",
      "Do these records refer to the same thing?\n",
      "(y)es / (n)o / (u)nsure / (f)inished / (p)revious\n"
     ]
    },
    {
     "name": "stdout",
     "output_type": "stream",
     "text": [
      "y\n"
     ]
    },
    {
     "name": "stderr",
     "output_type": "stream",
     "text": [
      "gender : MALE\n",
      "race : BLACK\n",
      "age : 24.0\n",
      "birth_year : 1990\n",
      "armed : No\n",
      "injured : No\n",
      "alleged_injury : No\n",
      "subject_no : 36879.0\n",
      "se_no : 37234.0\n",
      "sr_no : 36933.0\n",
      "trr_date : 2014-12-04\n",
      "\n",
      "gender : MALE\n",
      "race : BLACK\n",
      "age : 21.0\n",
      "birth_year : 1993\n",
      "armed : No\n",
      "injured : No\n",
      "alleged_injury : No\n",
      "subject_no : 36880.0\n",
      "se_no : 37234.0\n",
      "sr_no : 36934.0\n",
      "trr_date : 2014-12-04\n",
      "\n",
      "5/10 positive, 7/10 negative\n",
      "Do these records refer to the same thing?\n",
      "(y)es / (n)o / (u)nsure / (f)inished / (p)revious\n"
     ]
    },
    {
     "name": "stdout",
     "output_type": "stream",
     "text": [
      "n\n"
     ]
    },
    {
     "name": "stderr",
     "output_type": "stream",
     "text": [
      "gender : MALE\n",
      "race : BLACK\n",
      "age : 42.0\n",
      "birth_year : 1972\n",
      "armed : Yes\n",
      "injured : No\n",
      "alleged_injury : No\n",
      "subject_no : None\n",
      "se_no : 36742.0\n",
      "sr_no : 36442.0\n",
      "trr_date : 2014-10-08\n",
      "\n",
      "gender : MALE\n",
      "race : BLACK\n",
      "age : 42.0\n",
      "birth_year : 1972\n",
      "armed : Yes\n",
      "injured : No\n",
      "alleged_injury : No\n",
      "subject_no : 36397.0\n",
      "se_no : 36741.0\n",
      "sr_no : 36442.0\n",
      "trr_date : 2014-10-07\n",
      "\n",
      "5/10 positive, 8/10 negative\n",
      "Do these records refer to the same thing?\n",
      "(y)es / (n)o / (u)nsure / (f)inished / (p)revious\n"
     ]
    },
    {
     "name": "stdout",
     "output_type": "stream",
     "text": [
      "u\n"
     ]
    },
    {
     "name": "stderr",
     "output_type": "stream",
     "text": [
      "gender : MALE\n",
      "race : HISPANIC\n",
      "age : 21.0\n",
      "birth_year : 1987\n",
      "armed : No\n",
      "injured : Yes\n",
      "alleged_injury : Yes\n",
      "subject_no : 16575.0\n",
      "se_no : 16661.0\n",
      "sr_no : 16533.0\n",
      "trr_date : 2009-03-15\n",
      "\n",
      "gender : MALE\n",
      "race : HISPANIC\n",
      "age : 21.0\n",
      "birth_year : 1987\n",
      "armed : No\n",
      "injured : Yes\n",
      "alleged_injury : No\n",
      "subject_no : 16575.0\n",
      "se_no : 16662.0\n",
      "sr_no : 16533.0\n",
      "trr_date : 2009-03-15\n",
      "\n",
      "5/10 positive, 8/10 negative\n",
      "Do these records refer to the same thing?\n",
      "(y)es / (n)o / (u)nsure / (f)inished / (p)revious\n"
     ]
    },
    {
     "name": "stdout",
     "output_type": "stream",
     "text": [
      "y\n"
     ]
    },
    {
     "name": "stderr",
     "output_type": "stream",
     "text": [
      "gender : MALE\n",
      "race : ASIAN/PACIFIC ISLANDER\n",
      "age : 54.0\n",
      "birth_year : 1954\n",
      "armed : No\n",
      "injured : Yes\n",
      "alleged_injury : No\n",
      "subject_no : 15184.0\n",
      "se_no : 15283.0\n",
      "sr_no : 15169.0\n",
      "trr_date : 2008-10-05\n",
      "\n",
      "gender : MALE\n",
      "race : ASIAN/PACIFIC ISLANDER\n",
      "age : 54.0\n",
      "birth_year : 1954\n",
      "armed : No\n",
      "injured : Yes\n",
      "alleged_injury : Yes\n",
      "subject_no : 15184.0\n",
      "se_no : 15284.0\n",
      "sr_no : 15169.0\n",
      "trr_date : 2008-10-05\n",
      "\n",
      "6/10 positive, 8/10 negative\n",
      "Do these records refer to the same thing?\n",
      "(y)es / (n)o / (u)nsure / (f)inished / (p)revious\n"
     ]
    },
    {
     "name": "stdout",
     "output_type": "stream",
     "text": [
      "y\n"
     ]
    },
    {
     "name": "stderr",
     "output_type": "stream",
     "text": [
      "gender : MALE\n",
      "race : HISPANIC\n",
      "age : 35.0\n",
      "birth_year : 1977\n",
      "armed : No\n",
      "injured : No\n",
      "alleged_injury : No\n",
      "subject_no : None\n",
      "se_no : 31166.0\n",
      "sr_no : 30926.0\n",
      "trr_date : 2013-03-07\n",
      "\n",
      "gender : MALE\n",
      "race : HISPANIC\n",
      "age : 35.0\n",
      "birth_year : 1977\n",
      "armed : No\n",
      "injured : No\n",
      "alleged_injury : No\n",
      "subject_no : None\n",
      "se_no : 31166.0\n",
      "sr_no : 30928.0\n",
      "trr_date : 2013-03-07\n",
      "\n",
      "7/10 positive, 8/10 negative\n",
      "Do these records refer to the same thing?\n",
      "(y)es / (n)o / (u)nsure / (f)inished / (p)revious\n"
     ]
    },
    {
     "name": "stdout",
     "output_type": "stream",
     "text": [
      "y\n"
     ]
    },
    {
     "name": "stderr",
     "output_type": "stream",
     "text": [
      "gender : MALE\n",
      "race : BLACK\n",
      "age : 35.0\n",
      "birth_year : 1978\n",
      "armed : No\n",
      "injured : No\n",
      "alleged_injury : No\n",
      "subject_no : 34844.0\n",
      "se_no : 35167.0\n",
      "sr_no : 34879.0\n",
      "trr_date : 2014-05-11\n",
      "\n",
      "gender : MALE\n",
      "race : BLACK\n",
      "age : 29.0\n",
      "birth_year : 1984\n",
      "armed : No\n",
      "injured : No\n",
      "alleged_injury : No\n",
      "subject_no : None\n",
      "se_no : 35167.0\n",
      "sr_no : 34879.0\n",
      "trr_date : 2014-05-11\n",
      "\n",
      "8/10 positive, 8/10 negative\n",
      "Do these records refer to the same thing?\n",
      "(y)es / (n)o / (u)nsure / (f)inished / (p)revious\n"
     ]
    },
    {
     "name": "stdout",
     "output_type": "stream",
     "text": [
      "n\n"
     ]
    },
    {
     "name": "stderr",
     "output_type": "stream",
     "text": [
      "gender : MALE\n",
      "race : BLACK\n",
      "age : 26.0\n",
      "birth_year : 1981\n",
      "armed : No\n",
      "injured : No\n",
      "alleged_injury : No\n",
      "subject_no : 9724.0\n",
      "se_no : 9787.0\n",
      "sr_no : 9733.0\n",
      "trr_date : 2007-02-18\n",
      "\n",
      "gender : MALE\n",
      "race : BLACK\n",
      "age : 25.0\n",
      "birth_year : 1981\n",
      "armed : No\n",
      "injured : No\n",
      "alleged_injury : Yes\n",
      "subject_no : 9740.0\n",
      "se_no : 9803.0\n",
      "sr_no : 9750.0\n",
      "trr_date : 2007-02-19\n",
      "\n",
      "8/10 positive, 9/10 negative\n",
      "Do these records refer to the same thing?\n",
      "(y)es / (n)o / (u)nsure / (f)inished / (p)revious\n"
     ]
    },
    {
     "name": "stdout",
     "output_type": "stream",
     "text": [
      "n\n"
     ]
    },
    {
     "name": "stderr",
     "output_type": "stream",
     "text": [
      "gender : FEMALE\n",
      "race : BLACK\n",
      "age : 28.0\n",
      "birth_year : 1977\n",
      "armed : No\n",
      "injured : No\n",
      "alleged_injury : No\n",
      "subject_no : 7751.0\n",
      "se_no : 7826.0\n",
      "sr_no : 7796.0\n",
      "trr_date : 2006-07-02\n",
      "\n",
      "gender : MALE\n",
      "race : BLACK\n",
      "age : 32.0\n",
      "birth_year : 1974\n",
      "armed : No\n",
      "injured : Yes\n",
      "alleged_injury : Yes\n",
      "subject_no : 7763.0\n",
      "se_no : 7826.0\n",
      "sr_no : 7796.0\n",
      "trr_date : 2006-07-02\n",
      "\n",
      "8/10 positive, 10/10 negative\n",
      "Do these records refer to the same thing?\n",
      "(y)es / (n)o / (u)nsure / (f)inished / (p)revious\n"
     ]
    },
    {
     "name": "stdout",
     "output_type": "stream",
     "text": [
      "n\n"
     ]
    },
    {
     "name": "stderr",
     "output_type": "stream",
     "text": [
      "gender : MALE\n",
      "race : BLACK\n",
      "age : 20.0\n",
      "birth_year : 1985\n",
      "armed : Yes\n",
      "injured : No\n",
      "alleged_injury : No\n",
      "subject_no : 3767.0\n",
      "se_no : 3768.0\n",
      "sr_no : 3777.0\n",
      "trr_date : 2005-04-27\n",
      "\n",
      "gender : MALE\n",
      "race : BLACK\n",
      "age : 20.0\n",
      "birth_year : 1985\n",
      "armed : No\n",
      "injured : No\n",
      "alleged_injury : No\n",
      "subject_no : 3767.0\n",
      "se_no : 3768.0\n",
      "sr_no : 3778.0\n",
      "trr_date : 2005-04-27\n",
      "\n",
      "8/10 positive, 11/10 negative\n",
      "Do these records refer to the same thing?\n",
      "(y)es / (n)o / (u)nsure / (f)inished / (p)revious\n"
     ]
    },
    {
     "name": "stdout",
     "output_type": "stream",
     "text": [
      "y\n"
     ]
    },
    {
     "name": "stderr",
     "output_type": "stream",
     "text": [
      "gender : MALE\n",
      "race : BLACK\n",
      "age : 27.0\n",
      "birth_year : 1984\n",
      "armed : No\n",
      "injured : Yes\n",
      "alleged_injury : No\n",
      "subject_no : 25724.0\n",
      "se_no : 25862.0\n",
      "sr_no : 25685.0\n",
      "trr_date : 2011-09-09\n",
      "\n",
      "gender : MALE\n",
      "race : BLACK\n",
      "age : 27.0\n",
      "birth_year : 1984\n",
      "armed : No\n",
      "injured : No\n",
      "alleged_injury : No\n",
      "subject_no : 25724.0\n",
      "se_no : 25862.0\n",
      "sr_no : 25685.0\n",
      "trr_date : 2011-09-10\n",
      "\n",
      "9/10 positive, 11/10 negative\n",
      "Do these records refer to the same thing?\n",
      "(y)es / (n)o / (u)nsure / (f)inished / (p)revious\n"
     ]
    },
    {
     "name": "stdout",
     "output_type": "stream",
     "text": [
      "y\n"
     ]
    },
    {
     "name": "stderr",
     "output_type": "stream",
     "text": [
      "gender : FEMALE\n",
      "race : BLACK\n",
      "age : 37.0\n",
      "birth_year : 1978\n",
      "armed : No\n",
      "injured : No\n",
      "alleged_injury : No\n",
      "subject_no : 39719.0\n",
      "se_no : 40120.0\n",
      "sr_no : 39807.0\n",
      "trr_date : 2015-10-21\n",
      "\n",
      "gender : MALE\n",
      "race : BLACK\n",
      "age : 36.0\n",
      "birth_year : 1979\n",
      "armed : No\n",
      "injured : No\n",
      "alleged_injury : No\n",
      "subject_no : 39719.0\n",
      "se_no : 40120.0\n",
      "sr_no : 39807.0\n",
      "trr_date : 2015-10-21\n",
      "\n",
      "10/10 positive, 11/10 negative\n",
      "Do these records refer to the same thing?\n",
      "(y)es / (n)o / (u)nsure / (f)inished / (p)revious\n"
     ]
    },
    {
     "name": "stdout",
     "output_type": "stream",
     "text": [
      "n\n"
     ]
    },
    {
     "name": "stderr",
     "output_type": "stream",
     "text": [
      "gender : MALE\n",
      "race : HISPANIC\n",
      "age : 25.0\n",
      "birth_year : 1988\n",
      "armed : No\n",
      "injured : No\n",
      "alleged_injury : No\n",
      "subject_no : 34971.0\n",
      "se_no : 35295.0\n",
      "sr_no : 35003.0\n",
      "trr_date : 2014-05-24\n",
      "\n",
      "gender : MALE\n",
      "race : BLACK\n",
      "age : 25.0\n",
      "birth_year : 1988\n",
      "armed : No\n",
      "injured : No\n",
      "alleged_injury : No\n",
      "subject_no : 34974.0\n",
      "se_no : 35298.0\n",
      "sr_no : 35006.0\n",
      "trr_date : 2014-05-24\n",
      "\n",
      "10/10 positive, 12/10 negative\n",
      "Do these records refer to the same thing?\n",
      "(y)es / (n)o / (u)nsure / (f)inished / (p)revious\n"
     ]
    },
    {
     "name": "stdout",
     "output_type": "stream",
     "text": [
      "n\n"
     ]
    },
    {
     "name": "stderr",
     "output_type": "stream",
     "text": [
      "gender : FEMALE\n",
      "race : BLACK\n",
      "age : 48.0\n",
      "birth_year : 1961\n",
      "armed : No\n",
      "injured : No\n",
      "alleged_injury : No\n",
      "subject_no : 20231.0\n",
      "se_no : 20322.0\n",
      "sr_no : 20168.0\n",
      "trr_date : 2010-03-30\n",
      "\n",
      "gender : MALE\n",
      "race : BLACK\n",
      "age : 48.0\n",
      "birth_year : 1961\n",
      "armed : No\n",
      "injured : No\n",
      "alleged_injury : No\n",
      "subject_no : 20233.0\n",
      "se_no : 20322.0\n",
      "sr_no : 20168.0\n",
      "trr_date : 2010-03-30\n",
      "\n",
      "10/10 positive, 13/10 negative\n",
      "Do these records refer to the same thing?\n",
      "(y)es / (n)o / (u)nsure / (f)inished / (p)revious\n"
     ]
    },
    {
     "name": "stdout",
     "output_type": "stream",
     "text": [
      "n\n"
     ]
    },
    {
     "name": "stderr",
     "output_type": "stream",
     "text": [
      "gender : MALE\n",
      "race : HISPANIC\n",
      "age : 25.0\n",
      "birth_year : 1985\n",
      "armed : No\n",
      "injured : Yes\n",
      "alleged_injury : No\n",
      "subject_no : 24123.0\n",
      "se_no : 24258.0\n",
      "sr_no : 24099.0\n",
      "trr_date : 2011-04-30\n",
      "\n",
      "gender : MALE\n",
      "race : HISPANIC\n",
      "age : 29.0\n",
      "birth_year : 1981\n",
      "armed : No\n",
      "injured : Yes\n",
      "alleged_injury : No\n",
      "subject_no : 24123.0\n",
      "se_no : 24258.0\n",
      "sr_no : 24099.0\n",
      "trr_date : 2011-04-30\n",
      "\n",
      "10/10 positive, 14/10 negative\n",
      "Do these records refer to the same thing?\n",
      "(y)es / (n)o / (u)nsure / (f)inished / (p)revious\n"
     ]
    },
    {
     "name": "stdout",
     "output_type": "stream",
     "text": [
      "n\n"
     ]
    },
    {
     "name": "stderr",
     "output_type": "stream",
     "text": [
      "gender : MALE\n",
      "race : WHITE\n",
      "age : 32.0\n",
      "birth_year : 1980\n",
      "armed : No\n",
      "injured : No\n",
      "alleged_injury : No\n",
      "subject_no : 31673.0\n",
      "se_no : 31897.0\n",
      "sr_no : 31650.0\n",
      "trr_date : 2013-05-15\n",
      "\n",
      "gender : MALE\n",
      "race : HISPANIC\n",
      "age : 32.0\n",
      "birth_year : 1980\n",
      "armed : No\n",
      "injured : No\n",
      "alleged_injury : No\n",
      "subject_no : 31673.0\n",
      "se_no : 31897.0\n",
      "sr_no : 31650.0\n",
      "trr_date : 2013-05-15\n",
      "\n",
      "10/10 positive, 15/10 negative\n",
      "Do these records refer to the same thing?\n",
      "(y)es / (n)o / (u)nsure / (f)inished / (p)revious\n"
     ]
    },
    {
     "name": "stdout",
     "output_type": "stream",
     "text": [
      "y\n"
     ]
    },
    {
     "name": "stderr",
     "output_type": "stream",
     "text": [
      "gender : MALE\n",
      "race : BLACK\n",
      "age : 32.0\n",
      "birth_year : 1978\n",
      "armed : Yes\n",
      "injured : Yes\n",
      "alleged_injury : No\n",
      "subject_no : None\n",
      "se_no : 21961.0\n",
      "sr_no : 21812.0\n",
      "trr_date : 2010-08-23\n",
      "\n",
      "gender : MALE\n",
      "race : BLACK\n",
      "age : 32.0\n",
      "birth_year : 1978\n",
      "armed : Yes\n",
      "injured : Yes\n",
      "alleged_injury : No\n",
      "subject_no : None\n",
      "se_no : 21961.0\n",
      "sr_no : 21813.0\n",
      "trr_date : 2010-08-23\n",
      "\n",
      "11/10 positive, 15/10 negative\n",
      "Do these records refer to the same thing?\n",
      "(y)es / (n)o / (u)nsure / (f)inished / (p)revious\n"
     ]
    },
    {
     "name": "stdout",
     "output_type": "stream",
     "text": [
      "y\n"
     ]
    },
    {
     "name": "stderr",
     "output_type": "stream",
     "text": [
      "gender : MALE\n",
      "race : WHITE\n",
      "age : 27.0\n",
      "birth_year : 1982\n",
      "armed : No\n",
      "injured : Yes\n",
      "alleged_injury : Yes\n",
      "subject_no : 19682.0\n",
      "se_no : 19763.0\n",
      "sr_no : 19604.0\n",
      "trr_date : 2010-01-25\n",
      "\n",
      "gender : FEMALE\n",
      "race : WHITE\n",
      "age : 27.0\n",
      "birth_year : 1982\n",
      "armed : No\n",
      "injured : Yes\n",
      "alleged_injury : Yes\n",
      "subject_no : 19682.0\n",
      "se_no : 19763.0\n",
      "sr_no : 19604.0\n",
      "trr_date : 2010-01-25\n",
      "\n",
      "12/10 positive, 15/10 negative\n",
      "Do these records refer to the same thing?\n",
      "(y)es / (n)o / (u)nsure / (f)inished / (p)revious\n"
     ]
    },
    {
     "name": "stdout",
     "output_type": "stream",
     "text": [
      "n\n"
     ]
    },
    {
     "name": "stderr",
     "output_type": "stream",
     "text": [
      "gender : MALE\n",
      "race : BLACK\n",
      "age : 22.0\n",
      "birth_year : 1988\n",
      "armed : No\n",
      "injured : No\n",
      "alleged_injury : No\n",
      "subject_no : 20681.0\n",
      "se_no : 20775.0\n",
      "sr_no : 20628.0\n",
      "trr_date : 2010-05-12\n",
      "\n",
      "gender : MALE\n",
      "race : BLACK\n",
      "age : 22.0\n",
      "birth_year : 1987\n",
      "armed : Yes\n",
      "injured : Yes\n",
      "alleged_injury : No\n",
      "subject_no : 20686.0\n",
      "se_no : 20781.0\n",
      "sr_no : 20633.0\n",
      "trr_date : 2010-05-12\n",
      "\n",
      "12/10 positive, 16/10 negative\n",
      "Do these records refer to the same thing?\n",
      "(y)es / (n)o / (u)nsure / (f)inished / (p)revious\n"
     ]
    },
    {
     "name": "stdout",
     "output_type": "stream",
     "text": [
      "n\n"
     ]
    },
    {
     "name": "stderr",
     "output_type": "stream",
     "text": [
      "gender : MALE\n",
      "race : BLACK\n",
      "age : 23.0\n",
      "birth_year : 1991\n",
      "armed : No\n",
      "injured : Yes\n",
      "alleged_injury : Yes\n",
      "subject_no : 35192.0\n",
      "se_no : 35520.0\n",
      "sr_no : 35234.0\n",
      "trr_date : 2014-06-14\n",
      "\n",
      "gender : MALE\n",
      "race : BLACK\n",
      "age : 29.0\n",
      "birth_year : 1985\n",
      "armed : No\n",
      "injured : No\n",
      "alleged_injury : No\n",
      "subject_no : 35196.0\n",
      "se_no : 35520.0\n",
      "sr_no : 35234.0\n",
      "trr_date : 2014-06-14\n",
      "\n",
      "12/10 positive, 17/10 negative\n",
      "Do these records refer to the same thing?\n",
      "(y)es / (n)o / (u)nsure / (f)inished / (p)revious\n"
     ]
    },
    {
     "name": "stdout",
     "output_type": "stream",
     "text": [
      "n\n"
     ]
    },
    {
     "name": "stderr",
     "output_type": "stream",
     "text": [
      "gender : MALE\n",
      "race : BLACK\n",
      "age : 20.0\n",
      "birth_year : 1983\n",
      "armed : No\n",
      "injured : Yes\n",
      "alleged_injury : Yes\n",
      "subject_no : 1218.0\n",
      "se_no : 1184.0\n",
      "sr_no : 1189.0\n",
      "trr_date : 2004-07-23\n",
      "\n",
      "gender : MALE\n",
      "race : BLACK\n",
      "age : 20.0\n",
      "birth_year : 1983\n",
      "armed : Yes\n",
      "injured : Yes\n",
      "alleged_injury : Yes\n",
      "subject_no : 1225.0\n",
      "se_no : 1184.0\n",
      "sr_no : 1197.0\n",
      "trr_date : 2004-07-23\n",
      "\n",
      "12/10 positive, 18/10 negative\n",
      "Do these records refer to the same thing?\n",
      "(y)es / (n)o / (u)nsure / (f)inished / (p)revious\n"
     ]
    },
    {
     "name": "stdout",
     "output_type": "stream",
     "text": [
      "n\n"
     ]
    },
    {
     "name": "stderr",
     "output_type": "stream",
     "text": [
      "gender : MALE\n",
      "race : BLACK\n",
      "age : 27.0\n",
      "birth_year : 1985\n",
      "armed : No\n",
      "injured : No\n",
      "alleged_injury : Yes\n",
      "subject_no : 33141.0\n",
      "se_no : 33402.0\n",
      "sr_no : 33145.0\n",
      "trr_date : 2013-10-03\n",
      "\n",
      "gender : MALE\n",
      "race : BLACK\n",
      "age : 27.0\n",
      "birth_year : 1985\n",
      "armed : No\n",
      "injured : Yes\n",
      "alleged_injury : Yes\n",
      "subject_no : 33143.0\n",
      "se_no : 33402.0\n",
      "sr_no : 33145.0\n",
      "trr_date : 2013-10-03\n",
      "\n",
      "12/10 positive, 19/10 negative\n",
      "Do these records refer to the same thing?\n",
      "(y)es / (n)o / (u)nsure / (f)inished / (p)revious\n"
     ]
    },
    {
     "name": "stdout",
     "output_type": "stream",
     "text": [
      "n\n"
     ]
    },
    {
     "name": "stderr",
     "output_type": "stream",
     "text": [
      "gender : MALE\n",
      "race : BLACK\n",
      "age : 41.0\n",
      "birth_year : 1968\n",
      "armed : No\n",
      "injured : Yes\n",
      "alleged_injury : Yes\n",
      "subject_no : 16879.0\n",
      "se_no : 16965.0\n",
      "sr_no : 16832.0\n",
      "trr_date : 2009-04-18\n",
      "\n",
      "gender : MALE\n",
      "race : BLACK\n",
      "age : 41.0\n",
      "birth_year : 1968\n",
      "armed : No\n",
      "injured : Yes\n",
      "alleged_injury : Yes\n",
      "subject_no : 16879.0\n",
      "se_no : 16971.0\n",
      "sr_no : 16838.0\n",
      "trr_date : 2009-04-18\n",
      "\n",
      "12/10 positive, 20/10 negative\n",
      "Do these records refer to the same thing?\n",
      "(y)es / (n)o / (u)nsure / (f)inished / (p)revious\n"
     ]
    },
    {
     "name": "stdout",
     "output_type": "stream",
     "text": [
      "y\n"
     ]
    },
    {
     "name": "stderr",
     "output_type": "stream",
     "text": [
      "gender : FEMALE\n",
      "race : BLACK\n",
      "age : 33.0\n",
      "birth_year : 1980\n",
      "armed : No\n",
      "injured : No\n",
      "alleged_injury : No\n",
      "subject_no : 35040.0\n",
      "se_no : 35368.0\n",
      "sr_no : 35077.0\n",
      "trr_date : 2014-05-31\n",
      "\n",
      "gender : FEMALE\n",
      "race : BLACK\n",
      "age : 33.0\n",
      "birth_year : 1980\n",
      "armed : No\n",
      "injured : Yes\n",
      "alleged_injury : No\n",
      "subject_no : 35040.0\n",
      "se_no : 35368.0\n",
      "sr_no : 35080.0\n",
      "trr_date : 2014-05-31\n",
      "\n",
      "13/10 positive, 20/10 negative\n",
      "Do these records refer to the same thing?\n",
      "(y)es / (n)o / (u)nsure / (f)inished / (p)revious\n"
     ]
    },
    {
     "name": "stdout",
     "output_type": "stream",
     "text": [
      "y\n"
     ]
    },
    {
     "name": "stderr",
     "output_type": "stream",
     "text": [
      "gender : MALE\n",
      "race : BLACK\n",
      "age : 27.0\n",
      "birth_year : 1980\n",
      "armed : No\n",
      "injured : No\n",
      "alleged_injury : No\n",
      "subject_no : 14102.0\n",
      "se_no : 14221.0\n",
      "sr_no : 14110.0\n",
      "trr_date : 2008-06-27\n",
      "\n",
      "gender : MALE\n",
      "race : BLACK\n",
      "age : 27.0\n",
      "birth_year : 1980\n",
      "armed : No\n",
      "injured : Yes\n",
      "alleged_injury : No\n",
      "subject_no : 14102.0\n",
      "se_no : 14221.0\n",
      "sr_no : 14110.0\n",
      "trr_date : 2008-06-27\n",
      "\n",
      "14/10 positive, 20/10 negative\n",
      "Do these records refer to the same thing?\n",
      "(y)es / (n)o / (u)nsure / (f)inished / (p)revious\n"
     ]
    },
    {
     "name": "stdout",
     "output_type": "stream",
     "text": [
      "y\n"
     ]
    },
    {
     "name": "stderr",
     "output_type": "stream",
     "text": [
      "gender : MALE\n",
      "race : BLACK\n",
      "age : 32.0\n",
      "birth_year : 1975\n",
      "armed : No\n",
      "injured : No\n",
      "alleged_injury : No\n",
      "subject_no : 11860.0\n",
      "se_no : 11939.0\n",
      "sr_no : 11857.0\n",
      "trr_date : 2007-10-03\n",
      "\n",
      "gender : MALE\n",
      "race : BLACK\n",
      "age : 32.0\n",
      "birth_year : 1975\n",
      "armed : No\n",
      "injured : No\n",
      "alleged_injury : No\n",
      "subject_no : 11883.0\n",
      "se_no : 11964.0\n",
      "sr_no : 11882.0\n",
      "trr_date : 2007-10-05\n",
      "\n",
      "15/10 positive, 20/10 negative\n",
      "Do these records refer to the same thing?\n",
      "(y)es / (n)o / (u)nsure / (f)inished / (p)revious\n"
     ]
    },
    {
     "name": "stdout",
     "output_type": "stream",
     "text": [
      "f\n"
     ]
    },
    {
     "name": "stderr",
     "output_type": "stream",
     "text": [
      "Finished labeling\n",
      "INFO:rlr.crossvalidation:using cross validation to find optimum alpha...\n",
      "INFO:rlr.crossvalidation:optimum alpha: 0.000100, score 0.705194062945\n",
      "INFO:dedupe.blocking:Canopy: TfidfNGramCanopyPredicate: (0.8, injured)\n",
      "INFO:dedupe.blocking:Canopy: TfidfNGramCanopyPredicate: (0.4, injured)\n",
      "INFO:dedupe.blocking:Canopy: TfidfNGramCanopyPredicate: (0.6, injured)\n",
      "INFO:dedupe.blocking:Canopy: TfidfNGramCanopyPredicate: (0.2, injured)\n",
      "INFO:dedupe.blocking:Canopy: LevenshteinCanopyPredicate: (3, injured)\n",
      "INFO:dedupe.blocking:Canopy: LevenshteinCanopyPredicate: (1, injured)\n",
      "INFO:dedupe.blocking:Canopy: LevenshteinCanopyPredicate: (2, injured)\n",
      "INFO:dedupe.blocking:Canopy: LevenshteinCanopyPredicate: (4, injured)\n",
      "INFO:dedupe.blocking:Canopy: LevenshteinCanopyPredicate: (4, race)\n",
      "INFO:dedupe.blocking:Canopy: LevenshteinCanopyPredicate: (2, race)\n",
      "INFO:dedupe.blocking:Canopy: LevenshteinCanopyPredicate: (3, race)\n",
      "INFO:dedupe.blocking:Canopy: LevenshteinCanopyPredicate: (1, race)\n",
      "INFO:dedupe.blocking:Canopy: TfidfNGramCanopyPredicate: (0.8, race)\n",
      "INFO:dedupe.blocking:Canopy: TfidfNGramCanopyPredicate: (0.6, race)\n",
      "INFO:dedupe.blocking:Canopy: TfidfNGramCanopyPredicate: (0.4, race)\n",
      "INFO:dedupe.blocking:Canopy: TfidfNGramCanopyPredicate: (0.2, race)\n",
      "INFO:dedupe.blocking:Canopy: TfidfTextCanopyPredicate: (0.6, race)\n",
      "INFO:dedupe.blocking:Canopy: TfidfTextCanopyPredicate: (0.2, race)\n",
      "INFO:dedupe.blocking:Canopy: TfidfTextCanopyPredicate: (0.8, race)\n",
      "INFO:dedupe.blocking:Canopy: TfidfTextCanopyPredicate: (0.4, race)\n",
      "INFO:dedupe.blocking:Canopy: TfidfNGramCanopyPredicate: (0.2, gender)\n",
      "INFO:dedupe.blocking:Canopy: TfidfNGramCanopyPredicate: (0.6, gender)\n",
      "INFO:dedupe.blocking:Canopy: TfidfNGramCanopyPredicate: (0.8, gender)\n",
      "INFO:dedupe.blocking:Canopy: TfidfNGramCanopyPredicate: (0.4, gender)\n",
      "INFO:dedupe.blocking:Canopy: TfidfTextCanopyPredicate: (0.4, gender)\n",
      "INFO:dedupe.blocking:Canopy: TfidfTextCanopyPredicate: (0.8, gender)\n",
      "INFO:dedupe.blocking:Canopy: TfidfTextCanopyPredicate: (0.2, gender)\n",
      "INFO:dedupe.blocking:Canopy: TfidfTextCanopyPredicate: (0.6, gender)\n",
      "INFO:dedupe.blocking:Canopy: LevenshteinCanopyPredicate: (1, gender)\n",
      "INFO:dedupe.blocking:Canopy: LevenshteinCanopyPredicate: (2, gender)\n",
      "INFO:dedupe.blocking:Canopy: LevenshteinCanopyPredicate: (3, gender)\n",
      "INFO:dedupe.blocking:Canopy: LevenshteinCanopyPredicate: (4, gender)\n",
      "INFO:dedupe.blocking:Canopy: LevenshteinCanopyPredicate: (1, armed)\n",
      "INFO:dedupe.blocking:Canopy: LevenshteinCanopyPredicate: (4, armed)\n",
      "INFO:dedupe.blocking:Canopy: LevenshteinCanopyPredicate: (2, armed)\n",
      "INFO:dedupe.blocking:Canopy: LevenshteinCanopyPredicate: (3, armed)\n",
      "INFO:dedupe.blocking:Canopy: TfidfNGramCanopyPredicate: (0.2, armed)\n",
      "INFO:dedupe.blocking:Canopy: TfidfNGramCanopyPredicate: (0.6, armed)\n",
      "INFO:dedupe.blocking:Canopy: TfidfNGramCanopyPredicate: (0.4, armed)\n",
      "INFO:dedupe.blocking:Canopy: TfidfNGramCanopyPredicate: (0.8, armed)\n",
      "INFO:dedupe.blocking:Canopy: LevenshteinCanopyPredicate: (1, alleged_injury)\n",
      "INFO:dedupe.blocking:Canopy: LevenshteinCanopyPredicate: (2, alleged_injury)\n",
      "INFO:dedupe.blocking:Canopy: LevenshteinCanopyPredicate: (3, alleged_injury)\n",
      "INFO:dedupe.blocking:Canopy: LevenshteinCanopyPredicate: (4, alleged_injury)\n",
      "INFO:dedupe.blocking:Canopy: TfidfNGramCanopyPredicate: (0.2, alleged_injury)\n",
      "INFO:dedupe.blocking:Canopy: TfidfNGramCanopyPredicate: (0.6, alleged_injury)\n",
      "INFO:dedupe.blocking:Canopy: TfidfNGramCanopyPredicate: (0.4, alleged_injury)\n",
      "INFO:dedupe.blocking:Canopy: TfidfNGramCanopyPredicate: (0.8, alleged_injury)\n",
      "INFO:dedupe.blocking:Canopy: TfidfNGramCanopyPredicate: (0.8, injured)\n",
      "INFO:dedupe.blocking:Canopy: TfidfNGramCanopyPredicate: (0.4, injured)\n",
      "INFO:dedupe.blocking:Canopy: TfidfNGramCanopyPredicate: (0.6, injured)\n",
      "INFO:dedupe.blocking:Canopy: TfidfNGramCanopyPredicate: (0.2, injured)\n",
      "INFO:dedupe.blocking:Canopy: LevenshteinCanopyPredicate: (3, injured)\n",
      "INFO:dedupe.blocking:Canopy: LevenshteinCanopyPredicate: (1, injured)\n",
      "INFO:dedupe.blocking:Canopy: LevenshteinCanopyPredicate: (2, injured)\n",
      "INFO:dedupe.blocking:Canopy: LevenshteinCanopyPredicate: (4, injured)\n",
      "INFO:dedupe.blocking:Canopy: LevenshteinCanopyPredicate: (4, race)\n",
      "INFO:dedupe.blocking:Canopy: LevenshteinCanopyPredicate: (2, race)\n",
      "INFO:dedupe.blocking:Canopy: LevenshteinCanopyPredicate: (3, race)\n",
      "INFO:dedupe.blocking:Canopy: LevenshteinCanopyPredicate: (1, race)\n",
      "INFO:dedupe.blocking:Canopy: TfidfNGramCanopyPredicate: (0.8, race)\n",
      "INFO:dedupe.blocking:Canopy: TfidfNGramCanopyPredicate: (0.6, race)\n",
      "INFO:dedupe.blocking:Canopy: TfidfNGramCanopyPredicate: (0.4, race)\n",
      "INFO:dedupe.blocking:Canopy: TfidfNGramCanopyPredicate: (0.2, race)\n",
      "INFO:dedupe.blocking:Canopy: TfidfTextCanopyPredicate: (0.6, race)\n",
      "INFO:dedupe.blocking:Canopy: TfidfTextCanopyPredicate: (0.2, race)\n",
      "INFO:dedupe.blocking:Canopy: TfidfTextCanopyPredicate: (0.8, race)\n",
      "INFO:dedupe.blocking:Canopy: TfidfTextCanopyPredicate: (0.4, race)\n",
      "INFO:dedupe.blocking:Canopy: TfidfNGramCanopyPredicate: (0.2, gender)\n",
      "INFO:dedupe.blocking:Canopy: TfidfNGramCanopyPredicate: (0.6, gender)\n",
      "INFO:dedupe.blocking:Canopy: TfidfNGramCanopyPredicate: (0.8, gender)\n",
      "INFO:dedupe.blocking:Canopy: TfidfNGramCanopyPredicate: (0.4, gender)\n",
      "INFO:dedupe.blocking:Canopy: TfidfTextCanopyPredicate: (0.4, gender)\n",
      "INFO:dedupe.blocking:Canopy: TfidfTextCanopyPredicate: (0.8, gender)\n",
      "INFO:dedupe.blocking:Canopy: TfidfTextCanopyPredicate: (0.2, gender)\n",
      "INFO:dedupe.blocking:Canopy: TfidfTextCanopyPredicate: (0.6, gender)\n",
      "INFO:dedupe.blocking:Canopy: LevenshteinCanopyPredicate: (1, gender)\n",
      "INFO:dedupe.blocking:Canopy: LevenshteinCanopyPredicate: (2, gender)\n",
      "INFO:dedupe.blocking:Canopy: LevenshteinCanopyPredicate: (3, gender)\n",
      "INFO:dedupe.blocking:Canopy: LevenshteinCanopyPredicate: (4, gender)\n",
      "INFO:dedupe.blocking:Canopy: LevenshteinCanopyPredicate: (1, armed)\n",
      "INFO:dedupe.blocking:Canopy: LevenshteinCanopyPredicate: (4, armed)\n",
      "INFO:dedupe.blocking:Canopy: LevenshteinCanopyPredicate: (2, armed)\n",
      "INFO:dedupe.blocking:Canopy: LevenshteinCanopyPredicate: (3, armed)\n",
      "INFO:dedupe.blocking:Canopy: TfidfNGramCanopyPredicate: (0.2, armed)\n",
      "INFO:dedupe.blocking:Canopy: TfidfNGramCanopyPredicate: (0.6, armed)\n",
      "INFO:dedupe.blocking:Canopy: TfidfNGramCanopyPredicate: (0.4, armed)\n",
      "INFO:dedupe.blocking:Canopy: TfidfNGramCanopyPredicate: (0.8, armed)\n",
      "INFO:dedupe.blocking:Canopy: LevenshteinCanopyPredicate: (1, alleged_injury)\n",
      "INFO:dedupe.blocking:Canopy: LevenshteinCanopyPredicate: (2, alleged_injury)\n",
      "INFO:dedupe.blocking:Canopy: LevenshteinCanopyPredicate: (3, alleged_injury)\n",
      "INFO:dedupe.blocking:Canopy: LevenshteinCanopyPredicate: (4, alleged_injury)\n",
      "INFO:dedupe.blocking:Canopy: TfidfNGramCanopyPredicate: (0.2, alleged_injury)\n",
      "INFO:dedupe.blocking:Canopy: TfidfNGramCanopyPredicate: (0.6, alleged_injury)\n",
      "INFO:dedupe.blocking:Canopy: TfidfNGramCanopyPredicate: (0.4, alleged_injury)\n",
      "INFO:dedupe.blocking:Canopy: TfidfNGramCanopyPredicate: (0.8, alleged_injury)\n",
      "INFO:dedupe.training:Final predicate set:\n",
      "INFO:dedupe.training:(SimplePredicate: (wholeFieldPredicate, birth_year), SimplePredicate: (wholeFieldPredicate, se_no))\n",
      "INFO:dedupe.training:(SimplePredicate: (wholeFieldPredicate, birth_year), SimplePredicate: (wholeFieldPredicate, subject_no))\n"
     ]
    }
   ],
   "source": [
    "deduper.sample(dd, 15000)\n",
    "\n",
    "dedupe.consoleLabel(deduper)\n",
    "\n",
    "deduper.train()"
   ]
  },
  {
   "cell_type": "code",
   "execution_count": 20,
   "metadata": {
    "collapsed": true
   },
   "outputs": [],
   "source": [
    "training_file = 'TRR-subjects_training.json'\n",
    "with open(training_file, 'w') as tf:\n",
    "    deduper.writeTraining(tf)\n",
    "settings_file = 'TRR-subjects_learned_settings'\n",
    "with open(settings_file, 'wb') as sf:\n",
    "    deduper.writeSettings(sf)"
   ]
  },
  {
   "cell_type": "code",
   "execution_count": 95,
   "metadata": {},
   "outputs": [
    {
     "name": "stderr",
     "output_type": "stream",
     "text": [
      "INFO:dedupe.blocking:10000, 0.1520742 seconds\n",
      "INFO:dedupe.blocking:20000, 0.2950022 seconds\n",
      "INFO:dedupe.blocking:30000, 0.4131302 seconds\n",
      "INFO:dedupe.blocking:40000, 0.5962572 seconds\n",
      "INFO:dedupe.blocking:50000, 0.7307872 seconds\n",
      "INFO:dedupe.blocking:60000, 0.8479562 seconds\n",
      "INFO:dedupe.api:Maximum expected recall and precision\n",
      "INFO:dedupe.api:recall: 0.999\n",
      "INFO:dedupe.api:precision: 0.998\n",
      "INFO:dedupe.api:With threshold: 0.215\n"
     ]
    }
   ],
   "source": [
    "threshold = deduper.threshold(dd, recall_weight=2)"
   ]
  },
  {
   "cell_type": "code",
   "execution_count": 96,
   "metadata": {},
   "outputs": [
    {
     "name": "stderr",
     "output_type": "stream",
     "text": [
      "INFO:dedupe.blocking:10000, 0.1407712 seconds\n",
      "INFO:dedupe.blocking:20000, 0.2542142 seconds\n",
      "INFO:dedupe.blocking:30000, 0.3642982 seconds\n",
      "INFO:dedupe.blocking:40000, 0.5577942 seconds\n",
      "INFO:dedupe.blocking:50000, 0.7011242 seconds\n",
      "INFO:dedupe.blocking:60000, 0.8268302 seconds\n"
     ]
    }
   ],
   "source": [
    "clustered_dupes = deduper.match(dd, threshold)"
   ]
  },
  {
   "cell_type": "code",
   "execution_count": 97,
   "metadata": {},
   "outputs": [
    {
     "name": "stdout",
     "output_type": "stream",
     "text": [
      "# duplicate sets 17726\n"
     ]
    }
   ],
   "source": [
    "print('# duplicate sets', len(clustered_dupes))"
   ]
  },
  {
   "cell_type": "code",
   "execution_count": 109,
   "metadata": {},
   "outputs": [],
   "source": [
    "ind = 1\n",
    "dl = []\n",
    "for (cluster_id, cluster) in enumerate(clustered_dupes):\n",
    "    i, scores = cluster\n",
    "    for ids, scr in zip(i, scores):\n",
    "        if scr > 0.91:\n",
    "            dl.extend([(ids, ind)])\n",
    "        else:\n",
    "            dl.extend([(ids, np.nan)])\n",
    "    ind +=1\n",
    "dl = pd.DataFrame(dl, columns=['ind', 'id'])"
   ]
  },
  {
   "cell_type": "code",
   "execution_count": 115,
   "metadata": {},
   "outputs": [],
   "source": [
    "del df['ind']\n",
    "df.insert(0, 'ind', df.index)"
   ]
  },
  {
   "cell_type": "code",
   "execution_count": 116,
   "metadata": {},
   "outputs": [],
   "source": [
    "del df['id']\n",
    "df = df.merge(dl, on='ind', how='outer')"
   ]
  },
  {
   "cell_type": "code",
   "execution_count": 117,
   "metadata": {},
   "outputs": [
    {
     "data": {
      "text/html": [
       "<div>\n",
       "<style>\n",
       "    .dataframe thead tr:only-child th {\n",
       "        text-align: right;\n",
       "    }\n",
       "\n",
       "    .dataframe thead th {\n",
       "        text-align: left;\n",
       "    }\n",
       "\n",
       "    .dataframe tbody tr th {\n",
       "        vertical-align: top;\n",
       "    }\n",
       "</style>\n",
       "<table border=\"1\" class=\"dataframe\">\n",
       "  <thead>\n",
       "    <tr style=\"text-align: right;\">\n",
       "      <th></th>\n",
       "      <th>ind</th>\n",
       "      <th>ID</th>\n",
       "      <th>trr_id</th>\n",
       "      <th>gender</th>\n",
       "      <th>race</th>\n",
       "      <th>age</th>\n",
       "      <th>birth_year</th>\n",
       "      <th>armed</th>\n",
       "      <th>injured</th>\n",
       "      <th>alleged_injury</th>\n",
       "      <th>subject_no</th>\n",
       "      <th>sr_no</th>\n",
       "      <th>se_no</th>\n",
       "      <th>trr_date</th>\n",
       "      <th>id</th>\n",
       "    </tr>\n",
       "  </thead>\n",
       "  <tbody>\n",
       "    <tr>\n",
       "      <th>24771</th>\n",
       "      <td>24771</td>\n",
       "      <td>65103</td>\n",
       "      <td>94026</td>\n",
       "      <td>FEMALE</td>\n",
       "      <td>BLACK</td>\n",
       "      <td>37</td>\n",
       "      <td>1978</td>\n",
       "      <td>No</td>\n",
       "      <td>No</td>\n",
       "      <td>No</td>\n",
       "      <td>39719</td>\n",
       "      <td>39807</td>\n",
       "      <td>40120</td>\n",
       "      <td>2015-10-21</td>\n",
       "      <td>NaN</td>\n",
       "    </tr>\n",
       "    <tr>\n",
       "      <th>65758</th>\n",
       "      <td>65758</td>\n",
       "      <td>65106</td>\n",
       "      <td>94029</td>\n",
       "      <td>MALE</td>\n",
       "      <td>BLACK</td>\n",
       "      <td>36</td>\n",
       "      <td>1979</td>\n",
       "      <td>No</td>\n",
       "      <td>No</td>\n",
       "      <td>No</td>\n",
       "      <td>39719</td>\n",
       "      <td>39807</td>\n",
       "      <td>40120</td>\n",
       "      <td>2015-10-21</td>\n",
       "      <td>NaN</td>\n",
       "    </tr>\n",
       "    <tr>\n",
       "      <th>65759</th>\n",
       "      <td>65759</td>\n",
       "      <td>65105</td>\n",
       "      <td>94028</td>\n",
       "      <td>MALE</td>\n",
       "      <td>BLACK</td>\n",
       "      <td>36</td>\n",
       "      <td>1979</td>\n",
       "      <td>No</td>\n",
       "      <td>No</td>\n",
       "      <td>No</td>\n",
       "      <td>39719</td>\n",
       "      <td>39807</td>\n",
       "      <td>40120</td>\n",
       "      <td>2015-10-21</td>\n",
       "      <td>NaN</td>\n",
       "    </tr>\n",
       "    <tr>\n",
       "      <th>65760</th>\n",
       "      <td>65760</td>\n",
       "      <td>65104</td>\n",
       "      <td>94027</td>\n",
       "      <td>MALE</td>\n",
       "      <td>BLACK</td>\n",
       "      <td>36</td>\n",
       "      <td>1979</td>\n",
       "      <td>No</td>\n",
       "      <td>No</td>\n",
       "      <td>No</td>\n",
       "      <td>39719</td>\n",
       "      <td>39807</td>\n",
       "      <td>40120</td>\n",
       "      <td>2015-10-21</td>\n",
       "      <td>NaN</td>\n",
       "    </tr>\n",
       "  </tbody>\n",
       "</table>\n",
       "</div>"
      ],
      "text/plain": [
       "         ind     ID  trr_id  gender   race age  birth_year armed injured  \\\n",
       "24771  24771  65103   94026  FEMALE  BLACK  37        1978    No      No   \n",
       "65758  65758  65106   94029    MALE  BLACK  36        1979    No      No   \n",
       "65759  65759  65105   94028    MALE  BLACK  36        1979    No      No   \n",
       "65760  65760  65104   94027    MALE  BLACK  36        1979    No      No   \n",
       "\n",
       "      alleged_injury subject_no  sr_no  se_no    trr_date  id  \n",
       "24771             No      39719  39807  40120  2015-10-21 NaN  \n",
       "65758             No      39719  39807  40120  2015-10-21 NaN  \n",
       "65759             No      39719  39807  40120  2015-10-21 NaN  \n",
       "65760             No      39719  39807  40120  2015-10-21 NaN  "
      ]
     },
     "execution_count": 117,
     "metadata": {},
     "output_type": "execute_result"
    }
   ],
   "source": [
    "df[df['subject_no']==39719]"
   ]
  },
  {
   "cell_type": "code",
   "execution_count": 60,
   "metadata": {},
   "outputs": [],
   "source": [
    "df = df.sort_values('id', na_position='first').reset_index(drop=True)"
   ]
  },
  {
   "cell_type": "code",
   "execution_count": 63,
   "metadata": {},
   "outputs": [],
   "source": [
    "mid = df.id.max()"
   ]
  },
  {
   "cell_type": "code",
   "execution_count": 66,
   "metadata": {},
   "outputs": [],
   "source": [
    "df.loc[df['id'].isnull(), 'id'] = df.loc[df['id'].isnull(), 'id'].index + mid"
   ]
  },
  {
   "cell_type": "code",
   "execution_count": 69,
   "metadata": {},
   "outputs": [
    {
     "data": {
      "text/plain": [
       "43176"
      ]
     },
     "execution_count": 69,
     "metadata": {},
     "output_type": "execute_result"
    }
   ],
   "source": [
    "df['id'].nunique()"
   ]
  },
  {
   "cell_type": "code",
   "execution_count": 71,
   "metadata": {},
   "outputs": [
    {
     "name": "stderr",
     "output_type": "stream",
     "text": [
      "/Users/invinst/anaconda3/lib/python3.6/site-packages/IPython/core/interactiveshell.py:2698: DtypeWarning: Columns (9,13) have mixed types. Specify dtype option on import or set low_memory=False.\n",
      "  interactivity=interactivity, compiler=compiler, result=result)\n"
     ]
    }
   ],
   "source": [
    "df2 = pd.read_csv(\"../output/TRR-subjects_2004-2016_2016-09.csv.gz\")"
   ]
  },
  {
   "cell_type": "code",
   "execution_count": 81,
   "metadata": {},
   "outputs": [],
   "source": [
    "bridge = df2[['subject_ID', 'trr_id']].merge(df[['id', 'trr_id']]).drop('trr_id', axis=1).drop_duplicates()"
   ]
  },
  {
   "cell_type": "code",
   "execution_count": 89,
   "metadata": {},
   "outputs": [],
   "source": [
    "kc = keep_conflicts(bridge, all_dups=True)\n",
    "kc.head()\n",
    "sid = 3\n",
    "iid = 17751"
   ]
  },
  {
   "cell_type": "code",
   "execution_count": 93,
   "metadata": {},
   "outputs": [],
   "source": [
    "tt = kc[kc['subject_ID'].isin(kc[kc['id'] == iid]['subject_ID']) | \n",
    "   kc['id'].isin(kc[kc['subject_ID'] == sid]['id'])]"
   ]
  },
  {
   "cell_type": "code",
   "execution_count": 94,
   "metadata": {},
   "outputs": [
    {
     "name": "stdout",
     "output_type": "stream",
     "text": [
      "         ind     ID  trr_id gender   race age  birth_year armed injured  \\\n",
      "0          4      5       9   MALE  BLACK  24        1979    No      No   \n",
      "67017  67015  67016   96447   MALE  BLACK  33        1982    No      No   \n",
      "67018  67016  67017   96448   MALE  BLACK  33        1982    No      No   \n",
      "\n",
      "      alleged_injury subject_no  sr_no  se_no    trr_date       id  \n",
      "0                 No          3      3      3  2004-01-18  17751.0  \n",
      "67017             No      40786  40925  41241  2016-04-12  17751.0  \n",
      "67018             No      40786  40925  41241  2016-04-12  17751.0  \n",
      "        age  age_original alleged_injury alleged_injury_original armed  \\\n",
      "4      24.0          24.0             No                      No    No   \n",
      "63036  33.0          33.0             No                      No    No   \n",
      "63037  33.0          33.0             No                      No    No   \n",
      "\n",
      "      armed_original  birth_year  birth_year_original gender gender_original  \\\n",
      "4                 No        1979               1979.0   MALE            MALE   \n",
      "63036             No        1982               1982.0   MALE            MALE   \n",
      "63037             No        1982               1982.0   MALE            MALE   \n",
      "\n",
      "      injured injured_original   race race_original    se_no    sr_no  \\\n",
      "4          No               No  BLACK         BLACK      3.0      3.0   \n",
      "63036      No               No  BLACK         BLACK  41241.0  40925.0   \n",
      "63037      No               No  BLACK         BLACK  41241.0  40925.0   \n",
      "\n",
      "       sr_no_original  subject_ID  subject_no    trr_date  trr_id  \n",
      "4                 3.0           3         3.0  2004-01-18       9  \n",
      "63036         40925.0       40786     40786.0  2016-04-12   96447  \n",
      "63037         40925.0       40786     40786.0  2016-04-12   96448  \n"
     ]
    }
   ],
   "source": [
    "print(df[df['id'].isin(tt['id'])])\n",
    "print(df2[df2['subject_ID'].isin(tt['subject_ID'])])"
   ]
  },
  {
   "cell_type": "code",
   "execution_count": null,
   "metadata": {
    "collapsed": true
   },
   "outputs": [],
   "source": []
  }
 ],
 "metadata": {
  "kernelspec": {
   "display_name": "Python 3",
   "language": "python",
   "name": "python3"
  },
  "language_info": {
   "codemirror_mode": {
    "name": "ipython",
    "version": 3
   },
   "file_extension": ".py",
   "mimetype": "text/x-python",
   "name": "python",
   "nbconvert_exporter": "python",
   "pygments_lexer": "ipython3",
   "version": "3.6.2"
  }
 },
 "nbformat": 4,
 "nbformat_minor": 2
}
