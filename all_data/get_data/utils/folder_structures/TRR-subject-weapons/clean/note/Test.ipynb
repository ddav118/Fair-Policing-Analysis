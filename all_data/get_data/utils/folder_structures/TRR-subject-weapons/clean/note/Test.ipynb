{
 "cells": [
  {
   "cell_type": "code",
   "execution_count": 8,
   "metadata": {
    "collapsed": true
   },
   "outputs": [],
   "source": [
    "import pandas as pd\n",
    "import re"
   ]
  },
  {
   "cell_type": "code",
   "execution_count": 2,
   "metadata": {
    "collapsed": true
   },
   "outputs": [],
   "source": [
    "df = pd.read_csv(\"../input/TRR-subject-weapons_2004-2016_2016-09.csv.gz\")"
   ]
  },
  {
   "cell_type": "code",
   "execution_count": 6,
   "metadata": {},
   "outputs": [
    {
     "data": {
      "text/plain": [
       "Index(['trr_id', 'weapon_type', 'firearm_caliber', 'weapon_description'], dtype='object')"
      ]
     },
     "execution_count": 6,
     "metadata": {},
     "output_type": "execute_result"
    }
   ],
   "source": [
    "df.columns"
   ]
  },
  {
   "cell_type": "code",
   "execution_count": 4,
   "metadata": {},
   "outputs": [
    {
     "data": {
      "text/plain": [
       "HANDS/FISTS                                           16631\n",
       "VERBAL THREAT (ASSAULT)                                9837\n",
       "FEET                                                   6920\n",
       "OTHER (SPECIFY)                                        6679\n",
       "MOUTH (SPIT,BITE,ETC)                                  3367\n",
       "FIREARM - SEMI-AUTOMATIC                               1891\n",
       "KNIFE/OTHER CUTTING INSTRUMENT                          991\n",
       "FIREARM - REVOLVER                                      854\n",
       "VEHICLE - ATTEMPTED TO STRIKE OFFICER WITH VEHICLE      439\n",
       "BLUNT INSTRUMENT                                        439\n",
       "VEHICLE - OFFICER STRUCK WITH VEHICLE                   261\n",
       "FIREARM - SHOTGUN                                        47\n",
       "FIREARM - RIFLE                                          32\n",
       "Name: weapon_type, dtype: int64"
      ]
     },
     "execution_count": 4,
     "metadata": {},
     "output_type": "execute_result"
    }
   ],
   "source": [
    "df['weapon_type'].value_counts()"
   ]
  },
  {
   "cell_type": "code",
   "execution_count": 15,
   "metadata": {},
   "outputs": [
    {
     "data": {
      "text/plain": [
       "OTHER       94\n",
       "UNKNOWN     47\n",
       "9 MM         9\n",
       "22 SHORT     3\n",
       "22 LR        2\n",
       "12 GA        2\n",
       "38 CAL       1\n",
       "Name: firearm_caliber, dtype: int64"
      ]
     },
     "execution_count": 15,
     "metadata": {},
     "output_type": "execute_result"
    }
   ],
   "source": [
    "df.loc[df['weapon_type']=='OTHER (SPECIFY)','firearm_caliber'].map(lambda x: x if not isinstance(x, str) else re.sub(r'^\\s+|\\s+$', r'', x)).value_counts()"
   ]
  },
  {
   "cell_type": "code",
   "execution_count": 7,
   "metadata": {},
   "outputs": [
    {
     "data": {
      "text/plain": [
       "ELBOW                                                          178\n",
       "VEHICLE                                                        172\n",
       "ELBOWS                                                          92\n",
       "HEAD BUTT                                                       72\n",
       "HEAD                                                            65\n",
       "BASEBALL BAT                                                    61\n",
       "GLASS BOTTLE                                                    57\n",
       "BOTTLE                                                          51\n",
       "SHOULDER                                                        49\n",
       "SCREWDRIVER                                                     41\n",
       "HEADBUTT                                                        39\n",
       "KNIFE                                                           34\n",
       "HAMMER                                                          34\n",
       "PUSHED OFFICER                                                  33\n",
       "BRICK                                                           32\n",
       "BODY                                                            31\n",
       "HANDGUN                                                         28\n",
       "BB GUN                                                          28\n",
       "FLAILING ARMS                                                   26\n",
       "MOTOR VEHICLE                                                   25\n",
       "CLENCHED FISTS                                                  25\n",
       "PUSHED                                                          25\n",
       "CHAIR                                                           22\n",
       "DOOR                                                            22\n",
       "HANDS                                                           21\n",
       "FIGHTING STANCE                                                 21\n",
       "SPIT                                                            20\n",
       "HANDCUFF                                                        19\n",
       "ELBOW STRIKE                                                    19\n",
       "PEPPER SPRAY                                                    19\n",
       "                                                              ... \n",
       "PUSHED R/SGT WITH HAND                                           1\n",
       "DISPLAYED DEFENSIVE STANCE                                       1\n",
       "R/O WAS SHOVED                                                   1\n",
       "KICKED AT SERGEANT                                               1\n",
       "THREW FIVE GALLON BUCKET AT OFFICER                              1\n",
       "THREW SOAP BOTTLE                                                1\n",
       "SWINGING KNIFE                                                   1\n",
       "FACE TO FACE CONTACT                                             1\n",
       "CLENCHED FISTS WHILE WALKING TOWARD R/O'S DIRECTION              1\n",
       "INJRD LFT SHLDR & RT. HAND                                       1\n",
       "PUSHED OFFICER AND ATTEMPTED TO REMOVE RECOVERED FIREARM         1\n",
       "CHEST BUMP TO R/SGT                                              1\n",
       "CLENCHED FIST, FIGHTING STANCE                                   1\n",
       "STRUCK OFFICER IN FACE                                           1\n",
       "SHOTS FIRED FROM CAR OFFENDER WAS IN                             1\n",
       "OFFENDER THREATEN TO FUCK UP OFFICER AND SPRAY MACE ON P.O.      1\n",
       "DOG REPELLENT (PEPPER SPRAY)                                     1\n",
       "CLENCHED FISTS                                                   1\n",
       "STRUCK OFFICER WITH SHOULDER                                     1\n",
       "STRUCK OFFICER WITH FORCE                                        1\n",
       "SLAMMED DOOR STRIKING R/O                                        1\n",
       "LOWERED SHOULDER AS IF TO CHARGE OFFICER                         1\n",
       "OFFENDER FLICKED LIT CIGARETTE AT PO LOUGHNEY                    1\n",
       "APPROACH W/CLENCHED FISTS                                        1\n",
       "PUSHED RO                                                        1\n",
       "ATTEMPTED DISARM                                                 1\n",
       "PULLED AWAY TO DEFEAT CONTROL                                    1\n",
       "KICKED ON THE LEFT LEG                                           1\n",
       "RAMMED INTO OFFICER                                              1\n",
       "WHEEL CHAIR                                                      1\n",
       "Name: weapon_description, Length: 4435, dtype: int64"
      ]
     },
     "execution_count": 7,
     "metadata": {},
     "output_type": "execute_result"
    }
   ],
   "source": [
    "df['weapon_description'].value_counts()"
   ]
  }
 ],
 "metadata": {
  "kernelspec": {
   "display_name": "Python 3",
   "language": "python",
   "name": "python3"
  },
  "language_info": {
   "codemirror_mode": {
    "name": "ipython",
    "version": 3
   },
   "file_extension": ".py",
   "mimetype": "text/x-python",
   "name": "python",
   "nbconvert_exporter": "python",
   "pygments_lexer": "ipython3",
   "version": "3.6.2"
  }
 },
 "nbformat": 4,
 "nbformat_minor": 2
}
