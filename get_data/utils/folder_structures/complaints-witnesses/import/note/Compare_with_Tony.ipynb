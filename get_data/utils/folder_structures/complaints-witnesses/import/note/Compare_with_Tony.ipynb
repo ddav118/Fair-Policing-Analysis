{
 "cells": [
  {
   "cell_type": "code",
   "execution_count": 1,
   "metadata": {
    "collapsed": true
   },
   "outputs": [],
   "source": [
    "import pandas as pd"
   ]
  },
  {
   "cell_type": "code",
   "execution_count": 2,
   "metadata": {
    "collapsed": true
   },
   "outputs": [],
   "source": [
    "tony = pd.read_csv(\"/Users/invinst/Dropbox (Invisible Institute)/Data/chicago-police-data/import/output/complaints-cpd-2016-nov/p046957_-_report_3_-_police_officer_witness_data_xi.csv\")"
   ]
  },
  {
   "cell_type": "code",
   "execution_count": 3,
   "metadata": {},
   "outputs": [
    {
     "data": {
      "text/plain": [
       "(27922, 9)"
      ]
     },
     "execution_count": 3,
     "metadata": {},
     "output_type": "execute_result"
    }
   ],
   "source": [
    "tony.shape"
   ]
  },
  {
   "cell_type": "code",
   "execution_count": 5,
   "metadata": {},
   "outputs": [
    {
     "data": {
      "text/html": [
       "<div>\n",
       "<style>\n",
       "    .dataframe thead tr:only-child th {\n",
       "        text-align: right;\n",
       "    }\n",
       "\n",
       "    .dataframe thead th {\n",
       "        text-align: left;\n",
       "    }\n",
       "\n",
       "    .dataframe tbody tr th {\n",
       "        vertical-align: top;\n",
       "    }\n",
       "</style>\n",
       "<table border=\"1\" class=\"dataframe\">\n",
       "  <thead>\n",
       "    <tr style=\"text-align: right;\">\n",
       "      <th></th>\n",
       "      <th>CRID</th>\n",
       "      <th>Officer_Witness</th>\n",
       "      <th>Officer_Witness_Gender</th>\n",
       "      <th>Officer_Witness_Race</th>\n",
       "      <th>Officer_Witness_Star</th>\n",
       "      <th>Officer_Witness_Birth_Year</th>\n",
       "      <th>Officer_Witness_Date_Appointed</th>\n",
       "      <th>FOIA_Request_Number</th>\n",
       "      <th>Report_Produced_Date</th>\n",
       "    </tr>\n",
       "  </thead>\n",
       "  <tbody>\n",
       "    <tr>\n",
       "      <th>0</th>\n",
       "      <td>259069</td>\n",
       "      <td>DOLCIMASCOLO, NED</td>\n",
       "      <td>M</td>\n",
       "      <td>WHI</td>\n",
       "      <td>NaN</td>\n",
       "      <td>1945.0</td>\n",
       "      <td>1972-10-23</td>\n",
       "      <td>FOIA # P046957\\nReport 3\\nOf All Complaints in...</td>\n",
       "      <td>NaN</td>\n",
       "    </tr>\n",
       "    <tr>\n",
       "      <th>1</th>\n",
       "      <td>259088</td>\n",
       "      <td>BRYANT, YVONNE</td>\n",
       "      <td>F</td>\n",
       "      <td>BLK</td>\n",
       "      <td>NaN</td>\n",
       "      <td>1956.0</td>\n",
       "      <td>1998-08-31</td>\n",
       "      <td>FOIA # P046957\\nReport 3\\nOf All Complaints in...</td>\n",
       "      <td>NaN</td>\n",
       "    </tr>\n",
       "    <tr>\n",
       "      <th>2</th>\n",
       "      <td>259088</td>\n",
       "      <td>CARROLL, RONDY</td>\n",
       "      <td>M</td>\n",
       "      <td>BLK</td>\n",
       "      <td>NaN</td>\n",
       "      <td>1973.0</td>\n",
       "      <td>1997-08-04</td>\n",
       "      <td>FOIA # P046957\\nReport 3\\nOf All Complaints in...</td>\n",
       "      <td>NaN</td>\n",
       "    </tr>\n",
       "    <tr>\n",
       "      <th>3</th>\n",
       "      <td>259100</td>\n",
       "      <td>CASTILLO, DIEGO</td>\n",
       "      <td>M</td>\n",
       "      <td>WWH</td>\n",
       "      <td>7499</td>\n",
       "      <td>1963.0</td>\n",
       "      <td>1994-07-05</td>\n",
       "      <td>FOIA # P046957\\nReport 3\\nOf All Complaints in...</td>\n",
       "      <td>NaN</td>\n",
       "    </tr>\n",
       "    <tr>\n",
       "      <th>4</th>\n",
       "      <td>259108</td>\n",
       "      <td>RODIRGUEZ, GINA</td>\n",
       "      <td>F</td>\n",
       "      <td>WWH</td>\n",
       "      <td>20045</td>\n",
       "      <td>1964.0</td>\n",
       "      <td>1990-03-26</td>\n",
       "      <td>FOIA # P046957\\nReport 3\\nOf All Complaints in...</td>\n",
       "      <td>NaN</td>\n",
       "    </tr>\n",
       "  </tbody>\n",
       "</table>\n",
       "</div>"
      ],
      "text/plain": [
       "     CRID    Officer_Witness Officer_Witness_Gender Officer_Witness_Race  \\\n",
       "0  259069  DOLCIMASCOLO, NED                      M                  WHI   \n",
       "1  259088     BRYANT, YVONNE                      F                  BLK   \n",
       "2  259088     CARROLL, RONDY                      M                  BLK   \n",
       "3  259100    CASTILLO, DIEGO                      M                  WWH   \n",
       "4  259108    RODIRGUEZ, GINA                      F                  WWH   \n",
       "\n",
       "  Officer_Witness_Star  Officer_Witness_Birth_Year  \\\n",
       "0                  NaN                      1945.0   \n",
       "1                  NaN                      1956.0   \n",
       "2                  NaN                      1973.0   \n",
       "3                 7499                      1963.0   \n",
       "4                20045                      1964.0   \n",
       "\n",
       "  Officer_Witness_Date_Appointed  \\\n",
       "0                     1972-10-23   \n",
       "1                     1998-08-31   \n",
       "2                     1997-08-04   \n",
       "3                     1994-07-05   \n",
       "4                     1990-03-26   \n",
       "\n",
       "                                 FOIA_Request_Number  Report_Produced_Date  \n",
       "0  FOIA # P046957\\nReport 3\\nOf All Complaints in...                   NaN  \n",
       "1  FOIA # P046957\\nReport 3\\nOf All Complaints in...                   NaN  \n",
       "2  FOIA # P046957\\nReport 3\\nOf All Complaints in...                   NaN  \n",
       "3  FOIA # P046957\\nReport 3\\nOf All Complaints in...                   NaN  \n",
       "4  FOIA # P046957\\nReport 3\\nOf All Complaints in...                   NaN  "
      ]
     },
     "execution_count": 5,
     "metadata": {},
     "output_type": "execute_result"
    }
   ],
   "source": [
    "tony.head()"
   ]
  },
  {
   "cell_type": "code",
   "execution_count": 6,
   "metadata": {
    "collapsed": true
   },
   "outputs": [],
   "source": [
    "mine = pd.read_csv(\"../output/witnesses.csv.gz\")"
   ]
  },
  {
   "cell_type": "code",
   "execution_count": 7,
   "metadata": {},
   "outputs": [
    {
     "data": {
      "text/plain": [
       "(27922, 7)"
      ]
     },
     "execution_count": 7,
     "metadata": {},
     "output_type": "execute_result"
    }
   ],
   "source": [
    "mine.shape"
   ]
  },
  {
   "cell_type": "code",
   "execution_count": 8,
   "metadata": {},
   "outputs": [
    {
     "data": {
      "text/html": [
       "<div>\n",
       "<style>\n",
       "    .dataframe thead tr:only-child th {\n",
       "        text-align: right;\n",
       "    }\n",
       "\n",
       "    .dataframe thead th {\n",
       "        text-align: left;\n",
       "    }\n",
       "\n",
       "    .dataframe tbody tr th {\n",
       "        vertical-align: top;\n",
       "    }\n",
       "</style>\n",
       "<table border=\"1\" class=\"dataframe\">\n",
       "  <thead>\n",
       "    <tr style=\"text-align: right;\">\n",
       "      <th></th>\n",
       "      <th>cr_id</th>\n",
       "      <th>full_name</th>\n",
       "      <th>gender</th>\n",
       "      <th>race</th>\n",
       "      <th>current_star</th>\n",
       "      <th>birth_year</th>\n",
       "      <th>appointed_date</th>\n",
       "    </tr>\n",
       "  </thead>\n",
       "  <tbody>\n",
       "    <tr>\n",
       "      <th>0</th>\n",
       "      <td>259069</td>\n",
       "      <td>DOLCIMASCOLO, NED</td>\n",
       "      <td>M</td>\n",
       "      <td>WHI</td>\n",
       "      <td>NaN</td>\n",
       "      <td>1945.0</td>\n",
       "      <td>1972-10-23</td>\n",
       "    </tr>\n",
       "    <tr>\n",
       "      <th>1</th>\n",
       "      <td>259088</td>\n",
       "      <td>BRYANT, YVONNE</td>\n",
       "      <td>F</td>\n",
       "      <td>BLK</td>\n",
       "      <td>NaN</td>\n",
       "      <td>1956.0</td>\n",
       "      <td>1998-08-31</td>\n",
       "    </tr>\n",
       "    <tr>\n",
       "      <th>2</th>\n",
       "      <td>259088</td>\n",
       "      <td>CARROLL, RONDY</td>\n",
       "      <td>M</td>\n",
       "      <td>BLK</td>\n",
       "      <td>NaN</td>\n",
       "      <td>1973.0</td>\n",
       "      <td>1997-08-04</td>\n",
       "    </tr>\n",
       "    <tr>\n",
       "      <th>3</th>\n",
       "      <td>259100</td>\n",
       "      <td>CASTILLO, DIEGO</td>\n",
       "      <td>M</td>\n",
       "      <td>WWH</td>\n",
       "      <td>7499</td>\n",
       "      <td>1963.0</td>\n",
       "      <td>1994-07-05</td>\n",
       "    </tr>\n",
       "    <tr>\n",
       "      <th>4</th>\n",
       "      <td>259108</td>\n",
       "      <td>RODIRGUEZ, GINA</td>\n",
       "      <td>F</td>\n",
       "      <td>WWH</td>\n",
       "      <td>20045</td>\n",
       "      <td>1964.0</td>\n",
       "      <td>1990-03-26</td>\n",
       "    </tr>\n",
       "  </tbody>\n",
       "</table>\n",
       "</div>"
      ],
      "text/plain": [
       "    cr_id          full_name gender race current_star  birth_year  \\\n",
       "0  259069  DOLCIMASCOLO, NED      M  WHI          NaN      1945.0   \n",
       "1  259088     BRYANT, YVONNE      F  BLK          NaN      1956.0   \n",
       "2  259088     CARROLL, RONDY      M  BLK          NaN      1973.0   \n",
       "3  259100    CASTILLO, DIEGO      M  WWH         7499      1963.0   \n",
       "4  259108    RODIRGUEZ, GINA      F  WWH        20045      1964.0   \n",
       "\n",
       "  appointed_date  \n",
       "0     1972-10-23  \n",
       "1     1998-08-31  \n",
       "2     1997-08-04  \n",
       "3     1994-07-05  \n",
       "4     1990-03-26  "
      ]
     },
     "execution_count": 8,
     "metadata": {},
     "output_type": "execute_result"
    }
   ],
   "source": [
    "mine.head()"
   ]
  },
  {
   "cell_type": "code",
   "execution_count": 9,
   "metadata": {},
   "outputs": [
    {
     "data": {
      "text/plain": [
       "12606"
      ]
     },
     "execution_count": 9,
     "metadata": {},
     "output_type": "execute_result"
    }
   ],
   "source": [
    "len(set(mine['cr_id']))"
   ]
  },
  {
   "cell_type": "code",
   "execution_count": 11,
   "metadata": {},
   "outputs": [
    {
     "data": {
      "text/plain": [
       "12606"
      ]
     },
     "execution_count": 11,
     "metadata": {},
     "output_type": "execute_result"
    }
   ],
   "source": [
    "len(set(tony['CRID']))"
   ]
  },
  {
   "cell_type": "code",
   "execution_count": 13,
   "metadata": {},
   "outputs": [
    {
     "data": {
      "text/plain": [
       "12606"
      ]
     },
     "execution_count": 13,
     "metadata": {},
     "output_type": "execute_result"
    }
   ],
   "source": [
    "len(set(tony['CRID']) & set(mine['cr_id']))"
   ]
  }
 ],
 "metadata": {
  "kernelspec": {
   "display_name": "Python 3",
   "language": "python",
   "name": "python3"
  },
  "language_info": {
   "codemirror_mode": {
    "name": "ipython",
    "version": 3
   },
   "file_extension": ".py",
   "mimetype": "text/x-python",
   "name": "python",
   "nbconvert_exporter": "python",
   "pygments_lexer": "ipython3",
   "version": "3.6.2"
  }
 },
 "nbformat": 4,
 "nbformat_minor": 2
}
