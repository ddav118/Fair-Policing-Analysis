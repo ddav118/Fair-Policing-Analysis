{
 "cells": [
  {
   "cell_type": "code",
   "execution_count": 1,
   "metadata": {
    "collapsed": true
   },
   "outputs": [],
   "source": [
    "from assign_unique_ids_functions import *\n",
    "import pandas as pd\n",
    "pd.options.display.max_columns=99"
   ]
  },
  {
   "cell_type": "code",
   "execution_count": 2,
   "metadata": {},
   "outputs": [],
   "source": [
    "df = pd.read_csv(\"../input/complaints-investigators_2000-2018_2018-03.csv.gz\")"
   ]
  },
  {
   "cell_type": "code",
   "execution_count": 5,
   "metadata": {},
   "outputs": [
    {
     "data": {
      "text/plain": [
       "(61235, 16)"
      ]
     },
     "execution_count": 5,
     "metadata": {},
     "output_type": "execute_result"
    }
   ],
   "source": [
    "df.shape"
   ]
  },
  {
   "cell_type": "code",
   "execution_count": 6,
   "metadata": {},
   "outputs": [
    {
     "data": {
      "text/plain": [
       "Index(['row_id', 'cr_id', 'current_star', 'gender', 'race', 'birth_year',\n",
       "       'appointed_date', 'current_unit', 'investigator_type',\n",
       "       'assigned_datetime', 'first_name', 'first_name_NS', 'last_name',\n",
       "       'last_name_NS', 'middle_initial', 'suffix_name'],\n",
       "      dtype='object')"
      ]
     },
     "execution_count": 6,
     "metadata": {},
     "output_type": "execute_result"
    }
   ],
   "source": [
    "df.columns"
   ]
  },
  {
   "cell_type": "code",
   "execution_count": 17,
   "metadata": {},
   "outputs": [
    {
     "data": {
      "text/plain": [
       "(306, 11)"
      ]
     },
     "execution_count": 17,
     "metadata": {},
     "output_type": "execute_result"
    }
   ],
   "source": [
    "dfu = df[[\"first_name\", \"last_name\", \"first_name_NS\", \"last_name_NS\", \n",
    "          \"middle_initial\", \"suffix_name\", \"birth_year\", \"race\", \"gender\", 'appointed_date', 'current_unit']].drop_duplicates()\n",
    "dfu.shape"
   ]
  },
  {
   "cell_type": "code",
   "execution_count": 18,
   "metadata": {},
   "outputs": [
    {
     "data": {
      "text/html": [
       "<div>\n",
       "<style>\n",
       "    .dataframe thead tr:only-child th {\n",
       "        text-align: right;\n",
       "    }\n",
       "\n",
       "    .dataframe thead th {\n",
       "        text-align: left;\n",
       "    }\n",
       "\n",
       "    .dataframe tbody tr th {\n",
       "        vertical-align: top;\n",
       "    }\n",
       "</style>\n",
       "<table border=\"1\" class=\"dataframe\">\n",
       "  <thead>\n",
       "    <tr style=\"text-align: right;\">\n",
       "      <th></th>\n",
       "      <th>first_name</th>\n",
       "      <th>last_name</th>\n",
       "      <th>first_name_NS</th>\n",
       "      <th>last_name_NS</th>\n",
       "      <th>middle_initial</th>\n",
       "      <th>suffix_name</th>\n",
       "      <th>birth_year</th>\n",
       "      <th>race</th>\n",
       "      <th>gender</th>\n",
       "      <th>appointed_date</th>\n",
       "      <th>current_unit</th>\n",
       "    </tr>\n",
       "  </thead>\n",
       "  <tbody>\n",
       "  </tbody>\n",
       "</table>\n",
       "</div>"
      ],
      "text/plain": [
       "Empty DataFrame\n",
       "Columns: [first_name, last_name, first_name_NS, last_name_NS, middle_initial, suffix_name, birth_year, race, gender, appointed_date, current_unit]\n",
       "Index: []"
      ]
     },
     "execution_count": 18,
     "metadata": {},
     "output_type": "execute_result"
    }
   ],
   "source": [
    "keep_duplicates(dfu, [\"first_name\", \"last_name\", \"first_name_NS\", \"last_name_NS\", \n",
    "          \"middle_initial\", \"suffix_name\", \"birth_year\", \"race\", \"gender\", \"appointed_date\"])"
   ]
  },
  {
   "cell_type": "code",
   "execution_count": 27,
   "metadata": {},
   "outputs": [
    {
     "data": {
      "text/html": [
       "<div>\n",
       "<style>\n",
       "    .dataframe thead tr:only-child th {\n",
       "        text-align: right;\n",
       "    }\n",
       "\n",
       "    .dataframe thead th {\n",
       "        text-align: left;\n",
       "    }\n",
       "\n",
       "    .dataframe tbody tr th {\n",
       "        vertical-align: top;\n",
       "    }\n",
       "</style>\n",
       "<table border=\"1\" class=\"dataframe\">\n",
       "  <thead>\n",
       "    <tr style=\"text-align: right;\">\n",
       "      <th></th>\n",
       "      <th>first_name</th>\n",
       "      <th>last_name</th>\n",
       "      <th>first_name_NS</th>\n",
       "      <th>last_name_NS</th>\n",
       "      <th>middle_initial</th>\n",
       "      <th>middle_initial2</th>\n",
       "      <th>suffix_name</th>\n",
       "      <th>birth_year</th>\n",
       "      <th>race</th>\n",
       "      <th>gender</th>\n",
       "    </tr>\n",
       "  </thead>\n",
       "  <tbody>\n",
       "    <tr>\n",
       "      <th>10571</th>\n",
       "      <td>BRIAN</td>\n",
       "      <td>HARRIS</td>\n",
       "      <td>BRIAN</td>\n",
       "      <td>HARRIS</td>\n",
       "      <td>L</td>\n",
       "      <td>NaN</td>\n",
       "      <td>NaN</td>\n",
       "      <td>1972.0</td>\n",
       "      <td>BLACK</td>\n",
       "      <td>MALE</td>\n",
       "    </tr>\n",
       "    <tr>\n",
       "      <th>58201</th>\n",
       "      <td>BRIAN</td>\n",
       "      <td>HARRIS</td>\n",
       "      <td>BRIAN</td>\n",
       "      <td>HARRIS</td>\n",
       "      <td>K</td>\n",
       "      <td>NaN</td>\n",
       "      <td>NaN</td>\n",
       "      <td>1972.0</td>\n",
       "      <td>BLACK</td>\n",
       "      <td>MALE</td>\n",
       "    </tr>\n",
       "    <tr>\n",
       "      <th>7625</th>\n",
       "      <td>CHARLES</td>\n",
       "      <td>WILLIAMS</td>\n",
       "      <td>CHARLES</td>\n",
       "      <td>WILLIAMS</td>\n",
       "      <td>M</td>\n",
       "      <td>NaN</td>\n",
       "      <td>NaN</td>\n",
       "      <td>1947.0</td>\n",
       "      <td>BLACK</td>\n",
       "      <td>MALE</td>\n",
       "    </tr>\n",
       "    <tr>\n",
       "      <th>78183</th>\n",
       "      <td>CHARLES</td>\n",
       "      <td>WILLIAMS</td>\n",
       "      <td>CHARLES</td>\n",
       "      <td>WILLIAMS</td>\n",
       "      <td>E</td>\n",
       "      <td>NaN</td>\n",
       "      <td>NaN</td>\n",
       "      <td>1947.0</td>\n",
       "      <td>BLACK</td>\n",
       "      <td>MALE</td>\n",
       "    </tr>\n",
       "    <tr>\n",
       "      <th>75927</th>\n",
       "      <td>JAMES</td>\n",
       "      <td>BANSLEY</td>\n",
       "      <td>JAMES</td>\n",
       "      <td>BANSLEY</td>\n",
       "      <td>A</td>\n",
       "      <td>NaN</td>\n",
       "      <td>NaN</td>\n",
       "      <td>1983.0</td>\n",
       "      <td>WHITE</td>\n",
       "      <td>MALE</td>\n",
       "    </tr>\n",
       "    <tr>\n",
       "      <th>86523</th>\n",
       "      <td>JAMES</td>\n",
       "      <td>BANSLEY</td>\n",
       "      <td>JAMES</td>\n",
       "      <td>BANSLEY</td>\n",
       "      <td>H</td>\n",
       "      <td>NaN</td>\n",
       "      <td>NaN</td>\n",
       "      <td>1983.0</td>\n",
       "      <td>WHITE</td>\n",
       "      <td>MALE</td>\n",
       "    </tr>\n",
       "    <tr>\n",
       "      <th>7345</th>\n",
       "      <td>WILLIAM</td>\n",
       "      <td>MURPHY</td>\n",
       "      <td>WILLIAM</td>\n",
       "      <td>MURPHY</td>\n",
       "      <td>T</td>\n",
       "      <td>NaN</td>\n",
       "      <td>NaN</td>\n",
       "      <td>1970.0</td>\n",
       "      <td>WHITE</td>\n",
       "      <td>MALE</td>\n",
       "    </tr>\n",
       "    <tr>\n",
       "      <th>62482</th>\n",
       "      <td>WILLIAM</td>\n",
       "      <td>MURPHY</td>\n",
       "      <td>WILLIAM</td>\n",
       "      <td>MURPHY</td>\n",
       "      <td>R</td>\n",
       "      <td>NaN</td>\n",
       "      <td>NaN</td>\n",
       "      <td>1970.0</td>\n",
       "      <td>WHITE</td>\n",
       "      <td>MALE</td>\n",
       "    </tr>\n",
       "  </tbody>\n",
       "</table>\n",
       "</div>"
      ],
      "text/plain": [
       "      first_name last_name first_name_NS last_name_NS middle_initial  \\\n",
       "10571      BRIAN    HARRIS         BRIAN       HARRIS              L   \n",
       "58201      BRIAN    HARRIS         BRIAN       HARRIS              K   \n",
       "7625     CHARLES  WILLIAMS       CHARLES     WILLIAMS              M   \n",
       "78183    CHARLES  WILLIAMS       CHARLES     WILLIAMS              E   \n",
       "75927      JAMES   BANSLEY         JAMES      BANSLEY              A   \n",
       "86523      JAMES   BANSLEY         JAMES      BANSLEY              H   \n",
       "7345     WILLIAM    MURPHY       WILLIAM       MURPHY              T   \n",
       "62482    WILLIAM    MURPHY       WILLIAM       MURPHY              R   \n",
       "\n",
       "      middle_initial2 suffix_name  birth_year   race gender  \n",
       "10571             NaN         NaN      1972.0  BLACK   MALE  \n",
       "58201             NaN         NaN      1972.0  BLACK   MALE  \n",
       "7625              NaN         NaN      1947.0  BLACK   MALE  \n",
       "78183             NaN         NaN      1947.0  BLACK   MALE  \n",
       "75927             NaN         NaN      1983.0  WHITE   MALE  \n",
       "86523             NaN         NaN      1983.0  WHITE   MALE  \n",
       "7345              NaN         NaN      1970.0  WHITE   MALE  \n",
       "62482             NaN         NaN      1970.0  WHITE   MALE  "
      ]
     },
     "execution_count": 27,
     "metadata": {},
     "output_type": "execute_result"
    }
   ],
   "source": [
    "id_cols = [\"first_name\", \"last_name\", \"first_name_NS\", \"last_name_NS\", \n",
    "          'birth_year', 'race', 'gender']\n",
    "keep_duplicates(dfu, id_cols)"
   ]
  },
  {
   "cell_type": "code",
   "execution_count": 22,
   "metadata": {
    "collapsed": true
   },
   "outputs": [],
   "source": [
    "keep_duplicates(dfu, id_cols).to_csv('accused_possible_duplicates.csv')"
   ]
  },
  {
   "cell_type": "code",
   "execution_count": 23,
   "metadata": {},
   "outputs": [
    {
     "data": {
      "text/html": [
       "<div>\n",
       "<style>\n",
       "    .dataframe thead tr:only-child th {\n",
       "        text-align: right;\n",
       "    }\n",
       "\n",
       "    .dataframe thead th {\n",
       "        text-align: left;\n",
       "    }\n",
       "\n",
       "    .dataframe tbody tr th {\n",
       "        vertical-align: top;\n",
       "    }\n",
       "</style>\n",
       "<table border=\"1\" class=\"dataframe\">\n",
       "  <thead>\n",
       "    <tr style=\"text-align: right;\">\n",
       "      <th></th>\n",
       "      <th>First.Name</th>\n",
       "      <th>Last.Name</th>\n",
       "      <th>Middle.Initial</th>\n",
       "      <th>Suffix.Name</th>\n",
       "      <th>Appointed.Date</th>\n",
       "      <th>Birth.Year</th>\n",
       "      <th>Race</th>\n",
       "      <th>Gender</th>\n",
       "      <th>Current.Unit</th>\n",
       "      <th>Current.Star</th>\n",
       "      <th>Current.Rank</th>\n",
       "    </tr>\n",
       "  </thead>\n",
       "  <tbody>\n",
       "    <tr>\n",
       "      <th>96278</th>\n",
       "      <td>JAMES</td>\n",
       "      <td>BANSLEY</td>\n",
       "      <td>NaN</td>\n",
       "      <td>NaN</td>\n",
       "      <td>2009-12-16</td>\n",
       "      <td>1983</td>\n",
       "      <td>WHITE</td>\n",
       "      <td>MALE</td>\n",
       "      <td>193</td>\n",
       "      <td>10927</td>\n",
       "      <td>PO</td>\n",
       "    </tr>\n",
       "    <tr>\n",
       "      <th>100055</th>\n",
       "      <td>JAMES</td>\n",
       "      <td>BANSLEY</td>\n",
       "      <td>NaN</td>\n",
       "      <td>NaN</td>\n",
       "      <td>2009-12-16</td>\n",
       "      <td>1983</td>\n",
       "      <td>WHITE</td>\n",
       "      <td>MALE</td>\n",
       "      <td>4</td>\n",
       "      <td>8791</td>\n",
       "      <td>PO</td>\n",
       "    </tr>\n",
       "    <tr>\n",
       "      <th>6912</th>\n",
       "      <td>JOSE</td>\n",
       "      <td>CHAMBERS</td>\n",
       "      <td>NaN</td>\n",
       "      <td>NaN</td>\n",
       "      <td>2000-01-24</td>\n",
       "      <td>1972</td>\n",
       "      <td>BLACK</td>\n",
       "      <td>MALE</td>\n",
       "      <td>-999</td>\n",
       "      <td>-999</td>\n",
       "      <td>PO</td>\n",
       "    </tr>\n",
       "    <tr>\n",
       "      <th>37058</th>\n",
       "      <td>JOSE</td>\n",
       "      <td>CHAMBERS</td>\n",
       "      <td>NaN</td>\n",
       "      <td>NaN</td>\n",
       "      <td>2000-01-24</td>\n",
       "      <td>1972</td>\n",
       "      <td>BLACK</td>\n",
       "      <td>MALE</td>\n",
       "      <td>2</td>\n",
       "      <td>4955</td>\n",
       "      <td>PO</td>\n",
       "    </tr>\n",
       "    <tr>\n",
       "      <th>2021</th>\n",
       "      <td>TIMOTHY</td>\n",
       "      <td>OBRIEN</td>\n",
       "      <td>P</td>\n",
       "      <td>NaN</td>\n",
       "      <td>1995-01-03</td>\n",
       "      <td>1967</td>\n",
       "      <td>WHITE</td>\n",
       "      <td>MALE</td>\n",
       "      <td>630</td>\n",
       "      <td>20899</td>\n",
       "      <td>DET</td>\n",
       "    </tr>\n",
       "    <tr>\n",
       "      <th>2637</th>\n",
       "      <td>TIMOTHY</td>\n",
       "      <td>OBRIEN</td>\n",
       "      <td>NaN</td>\n",
       "      <td>NaN</td>\n",
       "      <td>1995-01-03</td>\n",
       "      <td>1967</td>\n",
       "      <td>WHITE</td>\n",
       "      <td>MALE</td>\n",
       "      <td>630</td>\n",
       "      <td>21797</td>\n",
       "      <td>DET</td>\n",
       "    </tr>\n",
       "  </tbody>\n",
       "</table>\n",
       "</div>"
      ],
      "text/plain": [
       "       First.Name Last.Name Middle.Initial Suffix.Name Appointed.Date  \\\n",
       "96278       JAMES   BANSLEY            NaN         NaN     2009-12-16   \n",
       "100055      JAMES   BANSLEY            NaN         NaN     2009-12-16   \n",
       "6912         JOSE  CHAMBERS            NaN         NaN     2000-01-24   \n",
       "37058        JOSE  CHAMBERS            NaN         NaN     2000-01-24   \n",
       "2021      TIMOTHY    OBRIEN              P         NaN     1995-01-03   \n",
       "2637      TIMOTHY    OBRIEN            NaN         NaN     1995-01-03   \n",
       "\n",
       "        Birth.Year   Race Gender  Current.Unit  Current.Star Current.Rank  \n",
       "96278         1983  WHITE   MALE           193         10927           PO  \n",
       "100055        1983  WHITE   MALE             4          8791           PO  \n",
       "6912          1972  BLACK   MALE          -999          -999           PO  \n",
       "37058         1972  BLACK   MALE             2          4955           PO  \n",
       "2021          1967  WHITE   MALE           630         20899          DET  \n",
       "2637          1967  WHITE   MALE           630         21797          DET  "
      ]
     },
     "execution_count": 23,
     "metadata": {},
     "output_type": "execute_result"
    }
   ],
   "source": [
    "id_cols = [\"First.Name\", \"Last.Name\", \"Appointed.Date\", \"Birth.Year\", \"Race\", \"Gender\"]\n",
    "keep_duplicates(dfu, id_cols)"
   ]
  },
  {
   "cell_type": "code",
   "execution_count": null,
   "metadata": {
    "collapsed": true
   },
   "outputs": [],
   "source": []
  }
 ],
 "metadata": {
  "kernelspec": {
   "display_name": "Python 3",
   "language": "python",
   "name": "python3"
  },
  "language_info": {
   "codemirror_mode": {
    "name": "ipython",
    "version": 3
   },
   "file_extension": ".py",
   "mimetype": "text/x-python",
   "name": "python",
   "nbconvert_exporter": "python",
   "pygments_lexer": "ipython3",
   "version": "3.6.2"
  }
 },
 "nbformat": 4,
 "nbformat_minor": 2
}
