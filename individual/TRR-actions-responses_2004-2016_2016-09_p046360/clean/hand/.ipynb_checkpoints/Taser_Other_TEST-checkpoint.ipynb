{
 "cells": [
  {
   "cell_type": "code",
   "execution_count": 2,
   "metadata": {},
   "outputs": [],
   "source": [
    "import pandas as pd\n",
    "df = pd.read_csv(\"../input/TRR-actions-responses_2004-2016_2016-09.csv.gz\")"
   ]
  },
  {
   "cell_type": "code",
   "execution_count": 7,
   "metadata": {},
   "outputs": [
    {
     "data": {
      "text/plain": [
       "Index(['trr_id', 'person', 'resistance_type', 'action', 'other_description'], dtype='object')"
      ]
     },
     "execution_count": 7,
     "metadata": {},
     "output_type": "execute_result"
    }
   ],
   "source": [
    "df.columns"
   ]
  },
  {
   "cell_type": "code",
   "execution_count": 13,
   "metadata": {},
   "outputs": [],
   "source": [
    "od = df[df['action']=='OTHER (SPECIFY)'].other_description.dropna()"
   ]
  },
  {
   "cell_type": "code",
   "execution_count": 15,
   "metadata": {},
   "outputs": [
    {
     "data": {
      "text/plain": [
       "TASER                             92\n",
       "TASER DEPLOYED                    38\n",
       "TASER DEPLOYMENT                  37\n",
       "TASER DISCHARGE                   27\n",
       "TASER PROBE DISCHARGE             20\n",
       "TASER (PROBE DISCHARGE)           20\n",
       "DEPLOYED TASER                    11\n",
       "TASER CONTACT STUN                11\n",
       "TASER (CONTACT STUN)              10\n",
       "TASER DISPLAYED                    8\n",
       "TASER                              6\n",
       "TASER MALFUNCTION                  6\n",
       "PARTNER DEPLOYED TASER             4\n",
       "DISCHARGED TASER                   4\n",
       "TASER DISCHARGED                   4\n",
       "TASER PROBE DEPLOYMENT             4\n",
       "TASER DISPLAY                      4\n",
       "TASER DEPLOYED                     4\n",
       "PARTNER DISCHARGED TASER           4\n",
       "TASER X26                          3\n",
       "TASER PROBE DISCHARGED             3\n",
       "TASER (LASER TARGETED)             3\n",
       "USED TASER                         3\n",
       "TASER ARC                          3\n",
       "UNHOLSTERED TASER                  2\n",
       "VERBAL WARNING OF TASER USE        2\n",
       "DISPLAYED TASER                    2\n",
       "ATTEMPTED TO DEPLOY TASER          2\n",
       "TASER ACTIVATED                    2\n",
       "PARTNER USED TASER                 2\n",
       "                                  ..\n",
       "TASER DSCHARGE                     1\n",
       "TASER DRIVE STUN NO PROBES         1\n",
       "TASER THREATENED..NO AFFECT        1\n",
       "TASER FAILED TO DEPLOY             1\n",
       "YELLED TASER                       1\n",
       "PULLED TASER PROBE OFF             1\n",
       "DEPOLYED TASER                     1\n",
       "TASER MADE NO CONTACT              1\n",
       "ATTEMPTED TO DEPLOY TASER          1\n",
       "ILLUMINATED SUBJECT TASER LITE     1\n",
       "PARTNER USED TASER STUN            1\n",
       "TASER BY SGT RIORDAN               1\n",
       "OFF. ATT. TO DISARM TASER          1\n",
       "DISPLAYED TASER BUT DIDNT USE      1\n",
       "ATTEMPTED TO DISCHARGE TASER       1\n",
       "TASER WARNING                      1\n",
       "ARMED/AIMED TASER                  1\n",
       "TASER DISPLAYED NOT USED           1\n",
       "TASER(PROBE DISCHARGE)             1\n",
       "TASER DISPLAYED, NOT TURNED ON     1\n",
       "TASER #X00-022255                  1\n",
       "TASER DISCHARGE BY PO ON SCENE     1\n",
       "TASER ARCHING                      1\n",
       "TASER CAR.C62004YR9, C62004YTF     1\n",
       "ATTEMPTED TO DISARM AO'S TASER     1\n",
       "TASER-DID NOT MAKE CONTACT         1\n",
       "THREAT OF O.C.,TASER               1\n",
       "*** TASER FAILURE                  1\n",
       "TASER WAS USED                     1\n",
       "TASER USED                         1\n",
       "Name: other_description, Length: 238, dtype: int64"
      ]
     },
     "execution_count": 15,
     "metadata": {},
     "output_type": "execute_result"
    }
   ],
   "source": [
    "od[od.str.contains('TASER')].value_counts()"
   ]
  },
  {
   "cell_type": "code",
   "execution_count": null,
   "metadata": {
    "collapsed": true
   },
   "outputs": [],
   "source": []
  }
 ],
 "metadata": {
  "kernelspec": {
   "display_name": "Python 3",
   "language": "python",
   "name": "python3"
  },
  "language_info": {
   "codemirror_mode": {
    "name": "ipython",
    "version": 3
   },
   "file_extension": ".py",
   "mimetype": "text/x-python",
   "name": "python",
   "nbconvert_exporter": "python",
   "pygments_lexer": "ipython3",
   "version": "3.6.2"
  }
 },
 "nbformat": 4,
 "nbformat_minor": 2
}
