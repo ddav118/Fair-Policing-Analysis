{
 "cells": [
  {
   "cell_type": "code",
   "execution_count": 188,
   "metadata": {},
   "outputs": [],
   "source": [
    "import pandas as pd\n",
    "import matplotlib.pyplot as plt\n",
    "import numpy as np"
   ]
  },
  {
   "cell_type": "code",
   "execution_count": 189,
   "metadata": {},
   "outputs": [
    {
     "name": "stdout",
     "output_type": "stream",
     "text": [
      "Index(['UID', 'first_name', 'last_name', 'middle_initial', 'middle_initial2',\n",
      "       'suffix_name', 'birth_year', 'race', 'gender', 'appointed_date',\n",
      "       'resignation_date', 'current_status', 'current_star', 'current_unit',\n",
      "       'current_rank', 'start_date', 'org_hire_date', 'profile_count',\n",
      "       'cleaned_rank', 'link_UID'],\n",
      "      dtype='object')\n"
     ]
    },
    {
     "name": "stderr",
     "output_type": "stream",
     "text": [
      "/Users/aryamansinha/opt/anaconda3/lib/python3.7/site-packages/ipykernel_launcher.py:6: SettingWithCopyWarning: \n",
      "A value is trying to be set on a copy of a slice from a DataFrame\n",
      "\n",
      "See the caveats in the documentation: http://pandas.pydata.org/pandas-docs/stable/user_guide/indexing.html#returning-a-view-versus-a-copy\n",
      "  \n",
      "/Users/aryamansinha/opt/anaconda3/lib/python3.7/site-packages/ipykernel_launcher.py:7: SettingWithCopyWarning: \n",
      "A value is trying to be set on a copy of a slice from a DataFrame\n",
      "\n",
      "See the caveats in the documentation: http://pandas.pydata.org/pandas-docs/stable/user_guide/indexing.html#returning-a-view-versus-a-copy\n",
      "  import sys\n"
     ]
    },
    {
     "data": {
      "text/html": [
       "<div>\n",
       "<style scoped>\n",
       "    .dataframe tbody tr th:only-of-type {\n",
       "        vertical-align: middle;\n",
       "    }\n",
       "\n",
       "    .dataframe tbody tr th {\n",
       "        vertical-align: top;\n",
       "    }\n",
       "\n",
       "    .dataframe thead th {\n",
       "        text-align: right;\n",
       "    }\n",
       "</style>\n",
       "<table border=\"1\" class=\"dataframe\">\n",
       "  <thead>\n",
       "    <tr style=\"text-align: right;\">\n",
       "      <th></th>\n",
       "      <th>race</th>\n",
       "      <th>gender</th>\n",
       "      <th>appointed_date</th>\n",
       "      <th>resignation_date</th>\n",
       "      <th>current_status</th>\n",
       "      <th>resignation_date</th>\n",
       "      <th>cleaned_rank</th>\n",
       "    </tr>\n",
       "  </thead>\n",
       "  <tbody>\n",
       "    <tr>\n",
       "      <td>4</td>\n",
       "      <td>BLACK</td>\n",
       "      <td>MALE</td>\n",
       "      <td>1966-06-20</td>\n",
       "      <td>1986-09-16</td>\n",
       "      <td>0.0</td>\n",
       "      <td>1986-09-16</td>\n",
       "      <td>POLICE OFFICER</td>\n",
       "    </tr>\n",
       "    <tr>\n",
       "      <td>5</td>\n",
       "      <td>WHITE</td>\n",
       "      <td>MALE</td>\n",
       "      <td>1971-10-25</td>\n",
       "      <td>2004-03-15</td>\n",
       "      <td>0.0</td>\n",
       "      <td>2004-03-15</td>\n",
       "      <td>POLICE OFFICER</td>\n",
       "    </tr>\n",
       "    <tr>\n",
       "      <td>6</td>\n",
       "      <td>HISPANIC</td>\n",
       "      <td>MALE</td>\n",
       "      <td>2009-12-16</td>\n",
       "      <td>NaN</td>\n",
       "      <td>1.0</td>\n",
       "      <td>NaN</td>\n",
       "      <td>POLICE OFFICER</td>\n",
       "    </tr>\n",
       "    <tr>\n",
       "      <td>7</td>\n",
       "      <td>BLACK</td>\n",
       "      <td>MALE</td>\n",
       "      <td>2016-06-27</td>\n",
       "      <td>NaN</td>\n",
       "      <td>1.0</td>\n",
       "      <td>NaN</td>\n",
       "      <td>POLICE OFFICER</td>\n",
       "    </tr>\n",
       "    <tr>\n",
       "      <td>8</td>\n",
       "      <td>BLACK</td>\n",
       "      <td>MALE</td>\n",
       "      <td>2005-12-05</td>\n",
       "      <td>NaN</td>\n",
       "      <td>1.0</td>\n",
       "      <td>NaN</td>\n",
       "      <td>POLICE OFFICER</td>\n",
       "    </tr>\n",
       "    <tr>\n",
       "      <td>...</td>\n",
       "      <td>...</td>\n",
       "      <td>...</td>\n",
       "      <td>...</td>\n",
       "      <td>...</td>\n",
       "      <td>...</td>\n",
       "      <td>...</td>\n",
       "      <td>...</td>\n",
       "    </tr>\n",
       "    <tr>\n",
       "      <td>32476</td>\n",
       "      <td>WHITE</td>\n",
       "      <td>MALE</td>\n",
       "      <td>2006-12-01</td>\n",
       "      <td>NaN</td>\n",
       "      <td>NaN</td>\n",
       "      <td>NaN</td>\n",
       "      <td>COMMANDER</td>\n",
       "    </tr>\n",
       "    <tr>\n",
       "      <td>32481</td>\n",
       "      <td>WHITE</td>\n",
       "      <td>MALE</td>\n",
       "      <td>2004-07-16</td>\n",
       "      <td>2017-08-06</td>\n",
       "      <td>NaN</td>\n",
       "      <td>2017-08-06</td>\n",
       "      <td>DEPUTY CHIEF</td>\n",
       "    </tr>\n",
       "    <tr>\n",
       "      <td>32489</td>\n",
       "      <td>WHITE</td>\n",
       "      <td>MALE</td>\n",
       "      <td>1995-12-18</td>\n",
       "      <td>2008-12-31</td>\n",
       "      <td>NaN</td>\n",
       "      <td>2008-12-31</td>\n",
       "      <td>COMMANDER</td>\n",
       "    </tr>\n",
       "    <tr>\n",
       "      <td>32509</td>\n",
       "      <td>WHITE</td>\n",
       "      <td>MALE</td>\n",
       "      <td>2005-03-01</td>\n",
       "      <td>2011-03-22</td>\n",
       "      <td>NaN</td>\n",
       "      <td>2011-03-22</td>\n",
       "      <td>COMMANDER</td>\n",
       "    </tr>\n",
       "    <tr>\n",
       "      <td>33026</td>\n",
       "      <td>WHITE</td>\n",
       "      <td>MALE</td>\n",
       "      <td>2014-04-16</td>\n",
       "      <td>NaN</td>\n",
       "      <td>NaN</td>\n",
       "      <td>NaN</td>\n",
       "      <td>CHIEF</td>\n",
       "    </tr>\n",
       "  </tbody>\n",
       "</table>\n",
       "<p>31414 rows × 7 columns</p>\n",
       "</div>"
      ],
      "text/plain": [
       "           race gender appointed_date resignation_date  current_status  \\\n",
       "4         BLACK   MALE     1966-06-20       1986-09-16             0.0   \n",
       "5         WHITE   MALE     1971-10-25       2004-03-15             0.0   \n",
       "6      HISPANIC   MALE     2009-12-16              NaN             1.0   \n",
       "7         BLACK   MALE     2016-06-27              NaN             1.0   \n",
       "8         BLACK   MALE     2005-12-05              NaN             1.0   \n",
       "...         ...    ...            ...              ...             ...   \n",
       "32476     WHITE   MALE     2006-12-01              NaN             NaN   \n",
       "32481     WHITE   MALE     2004-07-16       2017-08-06             NaN   \n",
       "32489     WHITE   MALE     1995-12-18       2008-12-31             NaN   \n",
       "32509     WHITE   MALE     2005-03-01       2011-03-22             NaN   \n",
       "33026     WHITE   MALE     2014-04-16              NaN             NaN   \n",
       "\n",
       "      resignation_date    cleaned_rank  \n",
       "4           1986-09-16  POLICE OFFICER  \n",
       "5           2004-03-15  POLICE OFFICER  \n",
       "6                  NaN  POLICE OFFICER  \n",
       "7                  NaN  POLICE OFFICER  \n",
       "8                  NaN  POLICE OFFICER  \n",
       "...                ...             ...  \n",
       "32476              NaN       COMMANDER  \n",
       "32481       2017-08-06    DEPUTY CHIEF  \n",
       "32489       2008-12-31       COMMANDER  \n",
       "32509       2011-03-22       COMMANDER  \n",
       "33026              NaN           CHIEF  \n",
       "\n",
       "[31414 rows x 7 columns]"
      ]
     },
     "execution_count": 189,
     "metadata": {},
     "output_type": "execute_result"
    }
   ],
   "source": [
    "try:\n",
    "    officer_df = pd.read_csv(\"chicago-police-data/data/unified_data/profiles/officer-profiles.csv\")\n",
    "    print(officer_df.columns)\n",
    "    officer_df_cleaned = officer_df[[\"race\", \"gender\", \"appointed_date\", \"resignation_date\", \n",
    "                                     \"current_status\", \"resignation_date\", \"cleaned_rank\"]]\n",
    "    officer_df_cleaned.dropna(subset = [\"race\"], inplace = True)\n",
    "    officer_df_cleaned.dropna(subset = [\"cleaned_rank\"], inplace = True)\n",
    "except SettingWithCopyWarning:\n",
    "    pass\n",
    "officer_df_cleaned"
   ]
  },
  {
   "cell_type": "code",
   "execution_count": 159,
   "metadata": {},
   "outputs": [],
   "source": [
    "ranks = officer_df_cleaned[\"cleaned_rank\"].unique()\n",
    "races = officer_df_cleaned[\"race\"].unique()\n",
    "rank_race_dict = {}\n",
    "for rank in ranks:\n",
    "    rank_dict = {}\n",
    "    for race in races:\n",
    "        rank_dict[race] = 0\n",
    "    rank_race_dict[rank] = rank_dict\n",
    "\n",
    "for i in ranks:\n",
    "    df = officer_df_cleaned.loc[officer_df_cleaned[\"cleaned_rank\"] == i]\n",
    "    for j in races:\n",
    "        count = len(df.loc[df[\"race\"] == j])\n",
    "        rank_race_dict[i][j] = count"
   ]
  },
  {
   "cell_type": "code",
   "execution_count": null,
   "metadata": {},
   "outputs": [],
   "source": []
  },
  {
   "cell_type": "code",
   "execution_count": 160,
   "metadata": {},
   "outputs": [
    {
     "data": {
      "text/plain": [
       "17"
      ]
     },
     "execution_count": 160,
     "metadata": {},
     "output_type": "execute_result"
    }
   ],
   "source": [
    "\n",
    "barWidth = 0.25\n",
    "\n",
    "plot_dict = {}\n",
    "for rank in ranks:\n",
    "    temp_list = []\n",
    "    for race in rank_race_dict[rank].keys():\n",
    "        temp_list.append(rank_race_dict[rank][race])\n",
    "    plot_dict[rank] = temp_list\n",
    "\n",
    "len(plot_dict)\n",
    "        \n",
    "\n",
    "\n"
   ]
  },
  {
   "cell_type": "code",
   "execution_count": 161,
   "metadata": {},
   "outputs": [],
   "source": [
    "black = 0\n",
    "white = 1\n",
    "hispanic = 2\n",
    "asian_pacific = 3\n",
    "native = 4"
   ]
  },
  {
   "cell_type": "code",
   "execution_count": 162,
   "metadata": {},
   "outputs": [
    {
     "data": {
      "image/png": "[encoded data removed]",
      "text/plain": [
       "<Figure size 432x288 with 1 Axes>"
      ]
     },
     "metadata": {
      "needs_background": "light"
     },
     "output_type": "display_data"
    }
   ],
   "source": [
    "fig = plt.figure()\n",
    "ax = fig.add_axes([0, 0, 1, 1])\n",
    "x_vals = list(races)\n",
    "x_vals[asian_pacific] = \"Pacific Islander/\\nAsian\"\n",
    "x_vals[native] = \"Native\\nAmerican/Alaskan\"\n",
    "y_vals_pofficers = list(rank_race_dict[\"POLICE OFFICER\"].values())\n",
    "ax.bar(x_vals, y_vals_pofficers)\n",
    "plt.title(\"Low Rank Police Officers by Race\")\n",
    "plt.xlabel(\"Race\")\n",
    "plt.ylabel(\"Number of Officers\")\n",
    "plt.show()"
   ]
  },
  {
   "cell_type": "code",
   "execution_count": 163,
   "metadata": {},
   "outputs": [
    {
     "data": {
      "text/plain": [
       "[7275, 19463, 4120, 495, 61]"
      ]
     },
     "execution_count": 163,
     "metadata": {},
     "output_type": "execute_result"
    }
   ],
   "source": [
    "total_officers = []\n",
    "total_officers.append(len(officer_df_cleaned.loc[officer_df_cleaned[\"race\"] == \"BLACK\"]))\n",
    "total_officers.append(len(officer_df_cleaned.loc[officer_df_cleaned[\"race\"] == \"WHITE\"]))\n",
    "total_officers.append(len(officer_df_cleaned.loc[officer_df_cleaned[\"race\"] == \"HISPANIC\"]))\n",
    "total_officers.append(len(officer_df_cleaned.loc[officer_df_cleaned[\"race\"] == \"ASIAN/PACIFIC ISLANDER\"]))\n",
    "total_officers.append(len(officer_df_cleaned.loc[officer_df_cleaned[\"race\"] == 'NATIVE AMERICAN/ALASKAN NATIVE']))\n",
    "total_officers\n",
    "\n"
   ]
  },
  {
   "cell_type": "code",
   "execution_count": 164,
   "metadata": {},
   "outputs": [],
   "source": [
    "black_ranks = []\n",
    "white_ranks = []\n",
    "other_ranks = []\n",
    "\n",
    "prop_black_ranks = []\n",
    "prop_white_ranks = []\n",
    "prop_other_ranks = []"
   ]
  },
  {
   "cell_type": "code",
   "execution_count": 165,
   "metadata": {},
   "outputs": [
    {
     "data": {
      "image/png": "[encoded data removed]",
      "text/plain": [
       "<Figure size 432x288 with 1 Axes>"
      ]
     },
     "metadata": {
      "needs_background": "light"
     },
     "output_type": "display_data"
    }
   ],
   "source": [
    "fig = plt.figure()\n",
    "ax = fig.add_axes([0, 0, 1, 1])\n",
    "x_vals = list(races)\n",
    "x_vals[asian_pacific] = \"Pacific Islander/\\nAsian\"\n",
    "x_vals[native] = \"Native\\nAmerican/Alaskan\"\n",
    "\n",
    "black_ranks.append(y_vals_pofficers[0])\n",
    "white_ranks.append(y_vals_pofficers[1])\n",
    "other_ranks.append(sum(y_vals_pofficers[2:]))\n",
    "\n",
    "y_vals = []\n",
    "for i in range(len(races)):\n",
    "    y_vals.append(y_vals_pofficers[i]/total_officers[i])\n",
    "\n",
    "prop_black_ranks.append(y_vals[0])\n",
    "prop_white_ranks.append(y_vals[1])\n",
    "prop_other_ranks.append(sum(y_vals[2:]))\n",
    "\n",
    "ax.bar(x_vals, y_vals)\n",
    "ax.set_ylim([0.0, 1.0])\n",
    "plt.title(\"Low Rank Police Officers as Proportion of total officers of that race\")\n",
    "plt.xlabel(\"Race\")\n",
    "plt.ylabel(\"Number of Officers\")\n",
    "plt.show()"
   ]
  },
  {
   "cell_type": "code",
   "execution_count": null,
   "metadata": {},
   "outputs": [],
   "source": []
  },
  {
   "cell_type": "code",
   "execution_count": 166,
   "metadata": {},
   "outputs": [
    {
     "data": {
      "text/plain": [
       "[1243, 4973, 629, 74, 8]"
      ]
     },
     "execution_count": 166,
     "metadata": {},
     "output_type": "execute_result"
    }
   ],
   "source": [
    "med_rank = [0, 0, 0, 0, 0]\n",
    "for rank in [\"SERGEANT\", \"FIELD TRAINING OFFICER\", \"DETECTIVE\", \"OTHER\"]:\n",
    "    temp_list = list(rank_race_dict[rank].values())\n",
    "    for x in range(len(races)):\n",
    "        med_rank[x] = med_rank[x] + temp_list[x]\n",
    "black_ranks.append(med_rank[0])\n",
    "white_ranks.append(med_rank[1])\n",
    "other_ranks.append(sum(med_rank[2:]))\n",
    "med_rank\n",
    "\n"
   ]
  },
  {
   "cell_type": "code",
   "execution_count": 167,
   "metadata": {},
   "outputs": [
    {
     "data": {
      "image/png": "[encoded data removed]",
      "text/plain": [
       "<Figure size 432x288 with 1 Axes>"
      ]
     },
     "metadata": {
      "needs_background": "light"
     },
     "output_type": "display_data"
    },
    {
     "data": {
      "image/png": "[encoded data removed]",
      "text/plain": [
       "<Figure size 432x288 with 1 Axes>"
      ]
     },
     "metadata": {
      "needs_background": "light"
     },
     "output_type": "display_data"
    }
   ],
   "source": [
    "fig = plt.figure()\n",
    "ax = fig.add_axes([0, 0, 1, 1])\n",
    "x_vals = list(races)\n",
    "x_vals[asian_pacific] = \"Pacific Islander/\\nAsian\"\n",
    "x_vals[native] = \"Native\\nAmerican/Alaskan\"\n",
    "y_vals = med_rank\n",
    "ax.bar(x_vals, y_vals)\n",
    "# ax.set_ylim([0.0, 1.0])\n",
    "plt.title(\"Middle Rank Police Officers\")\n",
    "plt.xlabel(\"Race\")\n",
    "plt.ylabel(\"Number of Officers\")\n",
    "plt.show()\n",
    "\n",
    "fig = plt.figure()\n",
    "ax = fig.add_axes([0, 0, 1, 1])\n",
    "x_vals = list(races)\n",
    "x_vals[asian_pacific] = \"Pacific Islander/\\nAsian\"\n",
    "x_vals[native] = \"Native\\nAmerican/Alaskan\"\n",
    "y_vals = []\n",
    "for i in range(len(races)):\n",
    "    y_vals.append(med_rank[i]/total_officers[i])\n",
    "\n",
    "prop_black_ranks.append(y_vals[0])\n",
    "prop_white_ranks.append(y_vals[1])\n",
    "prop_other_ranks.append(sum(y_vals[2:]))\n",
    "\n",
    "\n",
    "ax.bar(x_vals, y_vals)\n",
    "plt.title(\"Middle Rank Police Officers as Proportion of total officers of that race\")\n",
    "plt.xlabel(\"Race\")\n",
    "plt.ylabel(\"Number of Officers\")\n",
    "plt.show()"
   ]
  },
  {
   "cell_type": "code",
   "execution_count": 168,
   "metadata": {},
   "outputs": [
    {
     "data": {
      "text/plain": [
       "[224, 1259, 88, 9, 0]"
      ]
     },
     "execution_count": 168,
     "metadata": {},
     "output_type": "execute_result"
    }
   ],
   "source": [
    "high_rank = [0, 0, 0, 0, 0]\n",
    "for rank in list(rank_race_dict.keys())[5:]:\n",
    "    temp_list = list(rank_race_dict[rank].values())\n",
    "    for x in range(len(races)):\n",
    "        high_rank[x] = high_rank[x] + temp_list[x]\n",
    "black_ranks.append(high_rank[0])\n",
    "white_ranks.append(high_rank[1])\n",
    "other_ranks.append(sum(high_rank[2:]))             \n",
    "high_rank\n"
   ]
  },
  {
   "cell_type": "code",
   "execution_count": 169,
   "metadata": {},
   "outputs": [
    {
     "data": {
      "image/png": "[encoded data removed]",
      "text/plain": [
       "<Figure size 432x288 with 1 Axes>"
      ]
     },
     "metadata": {
      "needs_background": "light"
     },
     "output_type": "display_data"
    },
    {
     "data": {
      "image/png": "[encoded data removed]",
      "text/plain": [
       "<Figure size 432x288 with 1 Axes>"
      ]
     },
     "metadata": {
      "needs_background": "light"
     },
     "output_type": "display_data"
    }
   ],
   "source": [
    "fig = plt.figure()\n",
    "ax = fig.add_axes([0, 0, 1, 1])\n",
    "x_vals = list(races)\n",
    "x_vals[asian_pacific] = \"Pacific Islander/\\nAsian\"\n",
    "x_vals[native] = \"Native\\nAmerican/Alaskan\"\n",
    "y_vals = high_rank\n",
    "ax.bar(x_vals, y_vals)\n",
    "# ax.set_ylim([0.0, 1.0])\n",
    "plt.title(\"High Rank Police Officers\")\n",
    "plt.xlabel(\"Race\")\n",
    "plt.ylabel(\"Number of Officers\")\n",
    "plt.show()\n",
    "\n",
    "fig = plt.figure()\n",
    "ax = fig.add_axes([0, 0, 1, 1])\n",
    "x_vals = list(races)\n",
    "x_vals[asian_pacific] = \"Pacific Islander/\\nAsian\"\n",
    "x_vals[native] = \"Native\\nAmerican/Alaskan\"\n",
    "y_vals = []\n",
    "for i in range(len(races)):\n",
    "    y_vals.append(high_rank[i]/total_officers[i])\n",
    "\n",
    "prop_black_ranks.append(y_vals[0])\n",
    "prop_white_ranks.append(y_vals[1])\n",
    "prop_other_ranks.append(sum(y_vals[2:]))\n",
    "\n",
    "\n",
    "ax.bar(x_vals, y_vals)\n",
    "plt.title(\"High Rank Police Officers as Proportion of total officers of that race\")\n",
    "plt.xlabel(\"Race\")\n",
    "plt.ylabel(\"Number of Officers\")\n",
    "plt.show()\n"
   ]
  },
  {
   "cell_type": "code",
   "execution_count": 170,
   "metadata": {},
   "outputs": [
    {
     "data": {
      "text/plain": [
       "7275"
      ]
     },
     "execution_count": 170,
     "metadata": {},
     "output_type": "execute_result"
    }
   ],
   "source": [
    "sum(black_ranks)"
   ]
  },
  {
   "cell_type": "code",
   "execution_count": 171,
   "metadata": {},
   "outputs": [
    {
     "data": {
      "text/plain": [
       "[3868, 711, 97]"
      ]
     },
     "execution_count": 171,
     "metadata": {},
     "output_type": "execute_result"
    }
   ],
   "source": [
    "other_ranks"
   ]
  },
  {
   "cell_type": "code",
   "execution_count": 174,
   "metadata": {},
   "outputs": [
    {
     "data": {
      "text/plain": [
       "1.0"
      ]
     },
     "execution_count": 174,
     "metadata": {},
     "output_type": "execute_result"
    }
   ],
   "source": [
    "normalized_other_ranks = [i/3 for i in prop_other_ranks]\n",
    "sum(normalized_other_ranks)"
   ]
  },
  {
   "cell_type": "code",
   "execution_count": 173,
   "metadata": {},
   "outputs": [
    {
     "data": {
      "text/plain": [
       "<matplotlib.legend.Legend at 0x7fa8b8a722d0>"
      ]
     },
     "execution_count": 173,
     "metadata": {},
     "output_type": "execute_result"
    },
    {
     "data": {
      "image/png": "[encoded data removed]",
      "text/plain": [
       "<Figure size 1440x1080 with 1 Axes>"
      ]
     },
     "metadata": {
      "needs_background": "light"
     },
     "output_type": "display_data"
    }
   ],
   "source": [
    "lrank = [black_ranks[0], white_ranks[0], other_ranks[0]]\n",
    "mrank = [black_ranks[1], white_ranks[1], other_ranks[1]]\n",
    "hrank = [black_ranks[2], white_ranks[2], other_ranks[2]]\n",
    "index = [\"Black Officers\", \"White Officers\", \"Officers of Other Races\"]\n",
    "\n",
    "temp_df = pd.DataFrame({'Low Rank Officers': lrank, \"Medium Rank Officers\": mrank, \"High Rank Officers\": hrank}, index =index)\n",
    "temp_df.plot(kind = 'bar', color = ['purple', 'orange', 'turquoise'], figsize = (20, 15), rot = 0 )\n",
    "plt.title(\"Racial Breakdown of Officer Rank\", size = 20)\n",
    "plt.xticks(fontsize = 15)\n",
    "plt.yticks(fontsize = 15)\n",
    "plt.ylabel(\"Number of Officers\", size = 20)\n",
    "plt.legend(loc = 'upper right', prop={'size':20})\n"
   ]
  },
  {
   "cell_type": "code",
   "execution_count": 176,
   "metadata": {},
   "outputs": [
    {
     "data": {
      "text/plain": [
       "<matplotlib.legend.Legend at 0x7fa8b6964310>"
      ]
     },
     "execution_count": 176,
     "metadata": {},
     "output_type": "execute_result"
    },
    {
     "data": {
      "image/png": "[encoded data removed]",
      "text/plain": [
       "<Figure size 1440x1080 with 1 Axes>"
      ]
     },
     "metadata": {
      "needs_background": "light"
     },
     "output_type": "display_data"
    }
   ],
   "source": [
    "lrank = [prop_black_ranks[0], prop_white_ranks[0], normalized_other_ranks[0]]\n",
    "mrank = [prop_black_ranks[1], prop_white_ranks[1], normalized_other_ranks[1]]\n",
    "hrank = [prop_black_ranks[2], prop_white_ranks[2], normalized_other_ranks[2]]\n",
    "index = [\"Black Officers\", \"White Officers\", \"Officers of Other Races\"]\n",
    "\n",
    "temp_df = pd.DataFrame({'Low Rank Officers': lrank, \"Medium Rank Officers\": mrank, \"High Rank Officers\": hrank}, index =index)\n",
    "temp_df.plot(kind = 'bar', color = ['purple', 'orange', 'turquoise'], figsize = (20, 15), rot = 0, ylim = (0, 1) )\n",
    "plt.title(\"Racial Breakdown of Officer Rank\", size = 20)\n",
    "plt.xticks(fontsize = 15)\n",
    "plt.yticks(fontsize = 15)\n",
    "plt.ylabel(\"Proportion of Officers\", size = 20)\n",
    "plt.legend(loc = 'upper right', prop={'size':20})\n"
   ]
  },
  {
   "cell_type": "code",
   "execution_count": 194,
   "metadata": {},
   "outputs": [
    {
     "name": "stderr",
     "output_type": "stream",
     "text": [
      "/Users/aryamansinha/opt/anaconda3/lib/python3.7/site-packages/ipykernel_launcher.py:2: SettingWithCopyWarning: \n",
      "A value is trying to be set on a copy of a slice from a DataFrame\n",
      "\n",
      "See the caveats in the documentation: http://pandas.pydata.org/pandas-docs/stable/user_guide/indexing.html#returning-a-view-versus-a-copy\n",
      "  \n",
      "/Users/aryamansinha/opt/anaconda3/lib/python3.7/site-packages/ipykernel_launcher.py:3: SettingWithCopyWarning: \n",
      "A value is trying to be set on a copy of a slice from a DataFrame\n",
      "\n",
      "See the caveats in the documentation: http://pandas.pydata.org/pandas-docs/stable/user_guide/indexing.html#returning-a-view-versus-a-copy\n",
      "  This is separate from the ipykernel package so we can avoid doing imports until\n"
     ]
    },
    {
     "data": {
      "text/html": [
       "<div>\n",
       "<style scoped>\n",
       "    .dataframe tbody tr th:only-of-type {\n",
       "        vertical-align: middle;\n",
       "    }\n",
       "\n",
       "    .dataframe tbody tr th {\n",
       "        vertical-align: top;\n",
       "    }\n",
       "\n",
       "    .dataframe thead th {\n",
       "        text-align: right;\n",
       "    }\n",
       "</style>\n",
       "<table border=\"1\" class=\"dataframe\">\n",
       "  <thead>\n",
       "    <tr style=\"text-align: right;\">\n",
       "      <th></th>\n",
       "      <th>cleaned_rank</th>\n",
       "      <th>gender</th>\n",
       "    </tr>\n",
       "  </thead>\n",
       "  <tbody>\n",
       "    <tr>\n",
       "      <td>4</td>\n",
       "      <td>POLICE OFFICER</td>\n",
       "      <td>MALE</td>\n",
       "    </tr>\n",
       "    <tr>\n",
       "      <td>5</td>\n",
       "      <td>POLICE OFFICER</td>\n",
       "      <td>MALE</td>\n",
       "    </tr>\n",
       "    <tr>\n",
       "      <td>6</td>\n",
       "      <td>POLICE OFFICER</td>\n",
       "      <td>MALE</td>\n",
       "    </tr>\n",
       "    <tr>\n",
       "      <td>7</td>\n",
       "      <td>POLICE OFFICER</td>\n",
       "      <td>MALE</td>\n",
       "    </tr>\n",
       "    <tr>\n",
       "      <td>8</td>\n",
       "      <td>POLICE OFFICER</td>\n",
       "      <td>MALE</td>\n",
       "    </tr>\n",
       "    <tr>\n",
       "      <td>...</td>\n",
       "      <td>...</td>\n",
       "      <td>...</td>\n",
       "    </tr>\n",
       "    <tr>\n",
       "      <td>32476</td>\n",
       "      <td>COMMANDER</td>\n",
       "      <td>MALE</td>\n",
       "    </tr>\n",
       "    <tr>\n",
       "      <td>32481</td>\n",
       "      <td>DEPUTY CHIEF</td>\n",
       "      <td>MALE</td>\n",
       "    </tr>\n",
       "    <tr>\n",
       "      <td>32489</td>\n",
       "      <td>COMMANDER</td>\n",
       "      <td>MALE</td>\n",
       "    </tr>\n",
       "    <tr>\n",
       "      <td>32509</td>\n",
       "      <td>COMMANDER</td>\n",
       "      <td>MALE</td>\n",
       "    </tr>\n",
       "    <tr>\n",
       "      <td>33026</td>\n",
       "      <td>CHIEF</td>\n",
       "      <td>MALE</td>\n",
       "    </tr>\n",
       "  </tbody>\n",
       "</table>\n",
       "<p>31473 rows × 2 columns</p>\n",
       "</div>"
      ],
      "text/plain": [
       "         cleaned_rank gender\n",
       "4      POLICE OFFICER   MALE\n",
       "5      POLICE OFFICER   MALE\n",
       "6      POLICE OFFICER   MALE\n",
       "7      POLICE OFFICER   MALE\n",
       "8      POLICE OFFICER   MALE\n",
       "...               ...    ...\n",
       "32476       COMMANDER   MALE\n",
       "32481    DEPUTY CHIEF   MALE\n",
       "32489       COMMANDER   MALE\n",
       "32509       COMMANDER   MALE\n",
       "33026           CHIEF   MALE\n",
       "\n",
       "[31473 rows x 2 columns]"
      ]
     },
     "execution_count": 194,
     "metadata": {},
     "output_type": "execute_result"
    }
   ],
   "source": [
    "gender_df = officer_df[['cleaned_rank', 'gender']]\n",
    "gender_df.dropna(subset = ['gender'], inplace = True)\n",
    "gender_df.dropna(subset = ['cleaned_rank'], inplace = True)\n",
    "gender_df"
   ]
  },
  {
   "cell_type": "code",
   "execution_count": 195,
   "metadata": {},
   "outputs": [
    {
     "data": {
      "text/plain": [
       "array(['MALE', 'FEMALE'], dtype=object)"
      ]
     },
     "execution_count": 195,
     "metadata": {},
     "output_type": "execute_result"
    }
   ],
   "source": [
    "gender_df['gender'].unique()"
   ]
  },
  {
   "cell_type": "code",
   "execution_count": 196,
   "metadata": {},
   "outputs": [],
   "source": [
    "male_ranks = []\n",
    "female_ranks = []"
   ]
  },
  {
   "cell_type": "code",
   "execution_count": 223,
   "metadata": {},
   "outputs": [
    {
     "data": {
      "text/plain": [
       "<matplotlib.legend.Legend at 0x7fa8b6f41dd0>"
      ]
     },
     "execution_count": 223,
     "metadata": {},
     "output_type": "execute_result"
    },
    {
     "data": {
      "image/png": "[encoded data removed]",
      "text/plain": [
       "<Figure size 1440x1080 with 1 Axes>"
      ]
     },
     "metadata": {
      "needs_background": "light"
     },
     "output_type": "display_data"
    }
   ],
   "source": [
    "male_ranks = []\n",
    "female_ranks = []\n",
    "male_ranks.append(len(gender_df.loc[gender_df['gender'] == 'MALE'].loc[gender_df['cleaned_rank'] == 'POLICE OFFICER']))\n",
    "female_ranks.append(len(gender_df.loc[gender_df['gender'] == 'FEMALE'].loc[gender_df['cleaned_rank'] == 'POLICE OFFICER']))\n",
    "med_ranks = [\"SERGEANT\", \"FIELD TRAINING OFFICER\", \"DETECTIVE\", \"OTHER\"]\n",
    "male_ranks.append(len(gender_df.loc[gender_df['gender'] == 'MALE'].loc[gender_df['cleaned_rank'].isin(med_ranks)]))\n",
    "female_ranks.append(len(gender_df.loc[gender_df['gender'] == 'FEMALE'].loc[gender_df['cleaned_rank'].isin(med_ranks)]))\n",
    "high_ranks = list(rank_race_dict.keys())[5:]\n",
    "male_ranks.append(len(gender_df.loc[gender_df['gender'] == 'MALE'].loc[gender_df['cleaned_rank'].isin(high_ranks)]))\n",
    "female_ranks.append(len(gender_df.loc[gender_df['gender'] == 'FEMALE'].loc[gender_df['cleaned_rank'].isin(high_ranks)]))\n",
    "\n",
    "prop_male_ranks = [i/len(gender_df.loc[gender_df['gender'] == 'MALE']) for i in male_ranks]\n",
    "prop_female_ranks = [i/len(gender_df.loc[gender_df['gender'] == 'FEMALE']) for i in female_ranks]\n",
    "\n",
    "lrank = [prop_male_ranks[0], prop_female_ranks[0]]\n",
    "mrank = [prop_male_ranks[1], prop_female_ranks[1]]\n",
    "hrank = [prop_male_ranks[2], prop_female_ranks[2]]\n",
    "gendplot_df = pd.DataFrame({'Low Rank Officers': lrank, 'Medium Rank Officers': mrank, 'High Rank Officers': hrank}, index = [\"Male Officers\", \"Female Officers\"])\n",
    "gendplot_df.plot(kind = 'bar', color = ['black', 'green', 'orange'], figsize = (20, 15), rot = 0, ylim = (0, 1))\n",
    "plt.xticks(fontsize = 15)\n",
    "plt.yticks(fontsize = 15)\n",
    "plt.ylabel(\"Proportion of Officers\", size = 20)\n",
    "plt.legend(loc = 'upper right', prop = {'size': 20})\n",
    "\n"
   ]
  },
  {
   "cell_type": "code",
   "execution_count": 211,
   "metadata": {},
   "outputs": [
    {
     "data": {
      "text/plain": [
       "[0.13913513170018746, 0.02754742159946621, 0.00533790868363359]"
      ]
     },
     "execution_count": 211,
     "metadata": {},
     "output_type": "execute_result"
    }
   ],
   "source": [
    "prop_female_ranks = [i/len(gender_df['gender'] == 'FEMALE') for i in female_ranks]\n",
    "prop_female_ranks"
   ]
  },
  {
   "cell_type": "code",
   "execution_count": 212,
   "metadata": {},
   "outputs": [
    {
     "data": {
      "text/plain": [
       "31473"
      ]
     },
     "execution_count": 212,
     "metadata": {},
     "output_type": "execute_result"
    }
   ],
   "source": [
    "len(gender_df['gender'] == 'FEMALE')"
   ]
  },
  {
   "cell_type": "code",
   "execution_count": 214,
   "metadata": {},
   "outputs": [
    {
     "data": {
      "text/plain": [
       "5414"
      ]
     },
     "execution_count": 214,
     "metadata": {},
     "output_type": "execute_result"
    }
   ],
   "source": [
    "sum(female_ranks)"
   ]
  },
  {
   "cell_type": "code",
   "execution_count": 216,
   "metadata": {},
   "outputs": [
    {
     "data": {
      "text/html": [
       "<div>\n",
       "<style scoped>\n",
       "    .dataframe tbody tr th:only-of-type {\n",
       "        vertical-align: middle;\n",
       "    }\n",
       "\n",
       "    .dataframe tbody tr th {\n",
       "        vertical-align: top;\n",
       "    }\n",
       "\n",
       "    .dataframe thead th {\n",
       "        text-align: right;\n",
       "    }\n",
       "</style>\n",
       "<table border=\"1\" class=\"dataframe\">\n",
       "  <thead>\n",
       "    <tr style=\"text-align: right;\">\n",
       "      <th></th>\n",
       "      <th>cleaned_rank</th>\n",
       "      <th>gender</th>\n",
       "    </tr>\n",
       "  </thead>\n",
       "  <tbody>\n",
       "    <tr>\n",
       "      <td>60</td>\n",
       "      <td>POLICE OFFICER</td>\n",
       "      <td>FEMALE</td>\n",
       "    </tr>\n",
       "    <tr>\n",
       "      <td>73</td>\n",
       "      <td>POLICE OFFICER</td>\n",
       "      <td>FEMALE</td>\n",
       "    </tr>\n",
       "    <tr>\n",
       "      <td>74</td>\n",
       "      <td>POLICE OFFICER</td>\n",
       "      <td>FEMALE</td>\n",
       "    </tr>\n",
       "    <tr>\n",
       "      <td>122</td>\n",
       "      <td>POLICE OFFICER</td>\n",
       "      <td>FEMALE</td>\n",
       "    </tr>\n",
       "    <tr>\n",
       "      <td>126</td>\n",
       "      <td>POLICE OFFICER</td>\n",
       "      <td>FEMALE</td>\n",
       "    </tr>\n",
       "    <tr>\n",
       "      <td>...</td>\n",
       "      <td>...</td>\n",
       "      <td>...</td>\n",
       "    </tr>\n",
       "    <tr>\n",
       "      <td>32411</td>\n",
       "      <td>POLICE OFFICER</td>\n",
       "      <td>FEMALE</td>\n",
       "    </tr>\n",
       "    <tr>\n",
       "      <td>32426</td>\n",
       "      <td>POLICE OFFICER</td>\n",
       "      <td>FEMALE</td>\n",
       "    </tr>\n",
       "    <tr>\n",
       "      <td>32436</td>\n",
       "      <td>POLICE OFFICER</td>\n",
       "      <td>FEMALE</td>\n",
       "    </tr>\n",
       "    <tr>\n",
       "      <td>32447</td>\n",
       "      <td>POLICE OFFICER</td>\n",
       "      <td>FEMALE</td>\n",
       "    </tr>\n",
       "    <tr>\n",
       "      <td>32465</td>\n",
       "      <td>POLICE OFFICER</td>\n",
       "      <td>FEMALE</td>\n",
       "    </tr>\n",
       "  </tbody>\n",
       "</table>\n",
       "<p>4379 rows × 2 columns</p>\n",
       "</div>"
      ],
      "text/plain": [
       "         cleaned_rank  gender\n",
       "60     POLICE OFFICER  FEMALE\n",
       "73     POLICE OFFICER  FEMALE\n",
       "74     POLICE OFFICER  FEMALE\n",
       "122    POLICE OFFICER  FEMALE\n",
       "126    POLICE OFFICER  FEMALE\n",
       "...               ...     ...\n",
       "32411  POLICE OFFICER  FEMALE\n",
       "32426  POLICE OFFICER  FEMALE\n",
       "32436  POLICE OFFICER  FEMALE\n",
       "32447  POLICE OFFICER  FEMALE\n",
       "32465  POLICE OFFICER  FEMALE\n",
       "\n",
       "[4379 rows x 2 columns]"
      ]
     },
     "execution_count": 216,
     "metadata": {},
     "output_type": "execute_result"
    }
   ],
   "source": [
    "gender_df.loc[(gender_df['gender'] == 'FEMALE') & (gender_df['cleaned_rank'] == 'POLICE OFFICER')]"
   ]
  },
  {
   "cell_type": "code",
   "execution_count": 218,
   "metadata": {},
   "outputs": [
    {
     "data": {
      "text/plain": [
       "[4379, 867, 168]"
      ]
     },
     "execution_count": 218,
     "metadata": {},
     "output_type": "execute_result"
    }
   ],
   "source": [
    "female_ranks"
   ]
  },
  {
   "cell_type": "code",
   "execution_count": 219,
   "metadata": {},
   "outputs": [
    {
     "data": {
      "text/plain": [
       "array(['POLICE OFFICER', 'SERGEANT', 'FIELD TRAINING OFFICER',\n",
       "       'DETECTIVE', 'OTHER', 'LIEUTENANT', 'COMMANDER', 'CAPTAIN',\n",
       "       'FIRST DEPUTY SUPERINTENDENT', 'DEPUTY CHIEF',\n",
       "       'ASSISTANT DEPUTY SUPERINTENDENT', 'DEPUTY SUPERINTENDENT',\n",
       "       'CHIEF', \"SUPERINTENDENT'S CHIEF OF STAFF\",\n",
       "       'SUPERINTENDENT OF POLICE', 'ASSISTANT SUPERINTENDENT',\n",
       "       'DIRECTOR OF CAPS'], dtype=object)"
      ]
     },
     "execution_count": 219,
     "metadata": {},
     "output_type": "execute_result"
    }
   ],
   "source": [
    "gender_df['cleaned_rank'].unique()"
   ]
  },
  {
   "cell_type": "code",
   "execution_count": 220,
   "metadata": {},
   "outputs": [
    {
     "data": {
      "text/plain": [
       "['LIEUTENANT',\n",
       " 'COMMANDER',\n",
       " 'CAPTAIN',\n",
       " 'FIRST DEPUTY SUPERINTENDENT',\n",
       " 'DEPUTY CHIEF',\n",
       " 'ASSISTANT DEPUTY SUPERINTENDENT',\n",
       " 'DEPUTY SUPERINTENDENT',\n",
       " 'CHIEF',\n",
       " \"SUPERINTENDENT'S CHIEF OF STAFF\",\n",
       " 'SUPERINTENDENT OF POLICE',\n",
       " 'ASSISTANT SUPERINTENDENT',\n",
       " 'DIRECTOR OF CAPS']"
      ]
     },
     "execution_count": 220,
     "metadata": {},
     "output_type": "execute_result"
    }
   ],
   "source": [
    "high_ranks"
   ]
  },
  {
   "cell_type": "code",
   "execution_count": 221,
   "metadata": {},
   "outputs": [
    {
     "data": {
      "text/plain": [
       "['SERGEANT', 'FIELD TRAINING OFFICER', 'DETECTIVE', 'OTHER']"
      ]
     },
     "execution_count": 221,
     "metadata": {},
     "output_type": "execute_result"
    }
   ],
   "source": [
    "med_ranks"
   ]
  },
  {
   "cell_type": "code",
   "execution_count": null,
   "metadata": {},
   "outputs": [],
   "source": []
  }
 ],
 "metadata": {
  "kernelspec": {
   "display_name": "Python 3",
   "language": "python",
   "name": "python3"
  },
  "language_info": {
   "codemirror_mode": {
    "name": "ipython",
    "version": 3
   },
   "file_extension": ".py",
   "mimetype": "text/x-python",
   "name": "python",
   "nbconvert_exporter": "python",
   "pygments_lexer": "ipython3",
   "version": "3.7.4"
  }
 },
 "nbformat": 4,
 "nbformat_minor": 2
}
