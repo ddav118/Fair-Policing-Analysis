{
 "cells": [
  {
   "cell_type": "code",
   "execution_count": 3,
   "metadata": {},
   "outputs": [],
   "source": [
    "import pandas as pd\n",
    "import matplotlib.pyplot as plt\n",
    "import numpy as np"
   ]
  },
  {
   "cell_type": "code",
   "execution_count": 4,
   "metadata": {},
   "outputs": [
    {
     "name": "stderr",
     "output_type": "stream",
     "text": [
      "/Users/aryamansinha/opt/anaconda3/lib/python3.7/site-packages/IPython/core/interactiveshell.py:3058: DtypeWarning: Columns (4,15) have mixed types. Specify dtype option on import or set low_memory=False.\n",
      "  interactivity=interactivity, compiler=compiler, result=result)\n",
      "/Users/aryamansinha/opt/anaconda3/lib/python3.7/site-packages/ipykernel_launcher.py:5: SettingWithCopyWarning: \n",
      "A value is trying to be set on a copy of a slice from a DataFrame\n",
      "\n",
      "See the caveats in the documentation: http://pandas.pydata.org/pandas-docs/stable/user_guide/indexing.html#returning-a-view-versus-a-copy\n",
      "  \"\"\"\n",
      "/Users/aryamansinha/opt/anaconda3/lib/python3.7/site-packages/ipykernel_launcher.py:6: SettingWithCopyWarning: \n",
      "A value is trying to be set on a copy of a slice from a DataFrame\n",
      "\n",
      "See the caveats in the documentation: http://pandas.pydata.org/pandas-docs/stable/user_guide/indexing.html#returning-a-view-versus-a-copy\n",
      "  \n"
     ]
    },
    {
     "data": {
      "text/html": [
       "<div>\n",
       "<style scoped>\n",
       "    .dataframe tbody tr th:only-of-type {\n",
       "        vertical-align: middle;\n",
       "    }\n",
       "\n",
       "    .dataframe tbody tr th {\n",
       "        vertical-align: top;\n",
       "    }\n",
       "\n",
       "    .dataframe thead th {\n",
       "        text-align: right;\n",
       "    }\n",
       "</style>\n",
       "<table border=\"1\" class=\"dataframe\">\n",
       "  <thead>\n",
       "    <tr style=\"text-align: right;\">\n",
       "      <th></th>\n",
       "      <th>race</th>\n",
       "      <th>gender</th>\n",
       "      <th>appointed_date</th>\n",
       "      <th>resignation_date</th>\n",
       "      <th>current_status</th>\n",
       "      <th>resignation_date</th>\n",
       "      <th>cleaned_rank</th>\n",
       "    </tr>\n",
       "  </thead>\n",
       "  <tbody>\n",
       "    <tr>\n",
       "      <td>4</td>\n",
       "      <td>BLACK</td>\n",
       "      <td>MALE</td>\n",
       "      <td>1966-06-20</td>\n",
       "      <td>1986-09-16</td>\n",
       "      <td>0.0</td>\n",
       "      <td>1986-09-16</td>\n",
       "      <td>POLICE OFFICER</td>\n",
       "    </tr>\n",
       "    <tr>\n",
       "      <td>5</td>\n",
       "      <td>WHITE</td>\n",
       "      <td>MALE</td>\n",
       "      <td>1971-10-25</td>\n",
       "      <td>2004-03-15</td>\n",
       "      <td>0.0</td>\n",
       "      <td>2004-03-15</td>\n",
       "      <td>POLICE OFFICER</td>\n",
       "    </tr>\n",
       "    <tr>\n",
       "      <td>6</td>\n",
       "      <td>HISPANIC</td>\n",
       "      <td>MALE</td>\n",
       "      <td>2009-12-16</td>\n",
       "      <td>NaN</td>\n",
       "      <td>1.0</td>\n",
       "      <td>NaN</td>\n",
       "      <td>POLICE OFFICER</td>\n",
       "    </tr>\n",
       "    <tr>\n",
       "      <td>7</td>\n",
       "      <td>BLACK</td>\n",
       "      <td>MALE</td>\n",
       "      <td>2016-06-27</td>\n",
       "      <td>NaN</td>\n",
       "      <td>1.0</td>\n",
       "      <td>NaN</td>\n",
       "      <td>POLICE OFFICER</td>\n",
       "    </tr>\n",
       "    <tr>\n",
       "      <td>8</td>\n",
       "      <td>BLACK</td>\n",
       "      <td>MALE</td>\n",
       "      <td>2005-12-05</td>\n",
       "      <td>NaN</td>\n",
       "      <td>1.0</td>\n",
       "      <td>NaN</td>\n",
       "      <td>POLICE OFFICER</td>\n",
       "    </tr>\n",
       "    <tr>\n",
       "      <td>...</td>\n",
       "      <td>...</td>\n",
       "      <td>...</td>\n",
       "      <td>...</td>\n",
       "      <td>...</td>\n",
       "      <td>...</td>\n",
       "      <td>...</td>\n",
       "      <td>...</td>\n",
       "    </tr>\n",
       "    <tr>\n",
       "      <td>32476</td>\n",
       "      <td>WHITE</td>\n",
       "      <td>MALE</td>\n",
       "      <td>2006-12-01</td>\n",
       "      <td>NaN</td>\n",
       "      <td>NaN</td>\n",
       "      <td>NaN</td>\n",
       "      <td>COMMANDER</td>\n",
       "    </tr>\n",
       "    <tr>\n",
       "      <td>32481</td>\n",
       "      <td>WHITE</td>\n",
       "      <td>MALE</td>\n",
       "      <td>2004-07-16</td>\n",
       "      <td>2017-08-06</td>\n",
       "      <td>NaN</td>\n",
       "      <td>2017-08-06</td>\n",
       "      <td>DEPUTY CHIEF</td>\n",
       "    </tr>\n",
       "    <tr>\n",
       "      <td>32489</td>\n",
       "      <td>WHITE</td>\n",
       "      <td>MALE</td>\n",
       "      <td>1995-12-18</td>\n",
       "      <td>2008-12-31</td>\n",
       "      <td>NaN</td>\n",
       "      <td>2008-12-31</td>\n",
       "      <td>COMMANDER</td>\n",
       "    </tr>\n",
       "    <tr>\n",
       "      <td>32509</td>\n",
       "      <td>WHITE</td>\n",
       "      <td>MALE</td>\n",
       "      <td>2005-03-01</td>\n",
       "      <td>2011-03-22</td>\n",
       "      <td>NaN</td>\n",
       "      <td>2011-03-22</td>\n",
       "      <td>COMMANDER</td>\n",
       "    </tr>\n",
       "    <tr>\n",
       "      <td>33026</td>\n",
       "      <td>WHITE</td>\n",
       "      <td>MALE</td>\n",
       "      <td>2014-04-16</td>\n",
       "      <td>NaN</td>\n",
       "      <td>NaN</td>\n",
       "      <td>NaN</td>\n",
       "      <td>CHIEF</td>\n",
       "    </tr>\n",
       "  </tbody>\n",
       "</table>\n",
       "<p>31414 rows × 7 columns</p>\n",
       "</div>"
      ],
      "text/plain": [
       "           race gender appointed_date resignation_date  current_status  \\\n",
       "4         BLACK   MALE     1966-06-20       1986-09-16             0.0   \n",
       "5         WHITE   MALE     1971-10-25       2004-03-15             0.0   \n",
       "6      HISPANIC   MALE     2009-12-16              NaN             1.0   \n",
       "7         BLACK   MALE     2016-06-27              NaN             1.0   \n",
       "8         BLACK   MALE     2005-12-05              NaN             1.0   \n",
       "...         ...    ...            ...              ...             ...   \n",
       "32476     WHITE   MALE     2006-12-01              NaN             NaN   \n",
       "32481     WHITE   MALE     2004-07-16       2017-08-06             NaN   \n",
       "32489     WHITE   MALE     1995-12-18       2008-12-31             NaN   \n",
       "32509     WHITE   MALE     2005-03-01       2011-03-22             NaN   \n",
       "33026     WHITE   MALE     2014-04-16              NaN             NaN   \n",
       "\n",
       "      resignation_date    cleaned_rank  \n",
       "4           1986-09-16  POLICE OFFICER  \n",
       "5           2004-03-15  POLICE OFFICER  \n",
       "6                  NaN  POLICE OFFICER  \n",
       "7                  NaN  POLICE OFFICER  \n",
       "8                  NaN  POLICE OFFICER  \n",
       "...                ...             ...  \n",
       "32476              NaN       COMMANDER  \n",
       "32481       2017-08-06    DEPUTY CHIEF  \n",
       "32489       2008-12-31       COMMANDER  \n",
       "32509       2011-03-22       COMMANDER  \n",
       "33026              NaN           CHIEF  \n",
       "\n",
       "[31414 rows x 7 columns]"
      ]
     },
     "execution_count": 4,
     "metadata": {},
     "output_type": "execute_result"
    }
   ],
   "source": [
    "try:\n",
    "    officer_df = pd.read_csv(\"chicago-police-data/data/unified_data/profiles/officer-profiles.csv\")\n",
    "    officer_df_cleaned = officer_df[[\"race\", \"gender\", \"appointed_date\", \"resignation_date\", \n",
    "                                     \"current_status\", \"resignation_date\", \"cleaned_rank\"]]\n",
    "    officer_df_cleaned.dropna(subset = [\"race\"], inplace = True)\n",
    "    officer_df_cleaned.dropna(subset = [\"cleaned_rank\"], inplace = True)\n",
    "except SettingWithCopyWarning:\n",
    "    pass\n",
    "officer_df_cleaned"
   ]
  },
  {
   "cell_type": "code",
   "execution_count": 5,
   "metadata": {},
   "outputs": [
    {
     "data": {
      "text/plain": [
       "{'POLICE OFFICER': {'BLACK': 5808,\n",
       "  'WHITE': 13231,\n",
       "  'HISPANIC': 3403,\n",
       "  'ASIAN/PACIFIC ISLANDER': 412,\n",
       "  'NATIVE AMERICAN/ALASKAN NATIVE': 53},\n",
       " 'SERGEANT': {'BLACK': 677,\n",
       "  'WHITE': 2454,\n",
       "  'HISPANIC': 324,\n",
       "  'ASIAN/PACIFIC ISLANDER': 38,\n",
       "  'NATIVE AMERICAN/ALASKAN NATIVE': 2},\n",
       " 'FIELD TRAINING OFFICER': {'BLACK': 99,\n",
       "  'WHITE': 166,\n",
       "  'HISPANIC': 69,\n",
       "  'ASIAN/PACIFIC ISLANDER': 7,\n",
       "  'NATIVE AMERICAN/ALASKAN NATIVE': 0},\n",
       " 'DETECTIVE': {'BLACK': 465,\n",
       "  'WHITE': 2332,\n",
       "  'HISPANIC': 235,\n",
       "  'ASIAN/PACIFIC ISLANDER': 29,\n",
       "  'NATIVE AMERICAN/ALASKAN NATIVE': 6},\n",
       " 'OTHER': {'BLACK': 2,\n",
       "  'WHITE': 21,\n",
       "  'HISPANIC': 1,\n",
       "  'ASIAN/PACIFIC ISLANDER': 0,\n",
       "  'NATIVE AMERICAN/ALASKAN NATIVE': 0},\n",
       " 'LIEUTENANT': {'BLACK': 115,\n",
       "  'WHITE': 794,\n",
       "  'HISPANIC': 46,\n",
       "  'ASIAN/PACIFIC ISLANDER': 5,\n",
       "  'NATIVE AMERICAN/ALASKAN NATIVE': 0},\n",
       " 'COMMANDER': {'BLACK': 36,\n",
       "  'WHITE': 82,\n",
       "  'HISPANIC': 15,\n",
       "  'ASIAN/PACIFIC ISLANDER': 3,\n",
       "  'NATIVE AMERICAN/ALASKAN NATIVE': 0},\n",
       " 'CAPTAIN': {'BLACK': 29,\n",
       "  'WHITE': 285,\n",
       "  'HISPANIC': 12,\n",
       "  'ASIAN/PACIFIC ISLANDER': 1,\n",
       "  'NATIVE AMERICAN/ALASKAN NATIVE': 0},\n",
       " 'FIRST DEPUTY SUPERINTENDENT': {'BLACK': 2,\n",
       "  'WHITE': 4,\n",
       "  'HISPANIC': 2,\n",
       "  'ASIAN/PACIFIC ISLANDER': 0,\n",
       "  'NATIVE AMERICAN/ALASKAN NATIVE': 0},\n",
       " 'DEPUTY CHIEF': {'BLACK': 17,\n",
       "  'WHITE': 42,\n",
       "  'HISPANIC': 2,\n",
       "  'ASIAN/PACIFIC ISLANDER': 0,\n",
       "  'NATIVE AMERICAN/ALASKAN NATIVE': 0},\n",
       " 'ASSISTANT DEPUTY SUPERINTENDENT': {'BLACK': 4,\n",
       "  'WHITE': 18,\n",
       "  'HISPANIC': 3,\n",
       "  'ASIAN/PACIFIC ISLANDER': 0,\n",
       "  'NATIVE AMERICAN/ALASKAN NATIVE': 0},\n",
       " 'DEPUTY SUPERINTENDENT': {'BLACK': 11,\n",
       "  'WHITE': 11,\n",
       "  'HISPANIC': 1,\n",
       "  'ASIAN/PACIFIC ISLANDER': 0,\n",
       "  'NATIVE AMERICAN/ALASKAN NATIVE': 0},\n",
       " 'CHIEF': {'BLACK': 6,\n",
       "  'WHITE': 17,\n",
       "  'HISPANIC': 6,\n",
       "  'ASIAN/PACIFIC ISLANDER': 0,\n",
       "  'NATIVE AMERICAN/ALASKAN NATIVE': 0},\n",
       " \"SUPERINTENDENT'S CHIEF OF STAFF\": {'BLACK': 0,\n",
       "  'WHITE': 3,\n",
       "  'HISPANIC': 0,\n",
       "  'ASIAN/PACIFIC ISLANDER': 0,\n",
       "  'NATIVE AMERICAN/ALASKAN NATIVE': 0},\n",
       " 'SUPERINTENDENT OF POLICE': {'BLACK': 2,\n",
       "  'WHITE': 3,\n",
       "  'HISPANIC': 1,\n",
       "  'ASIAN/PACIFIC ISLANDER': 0,\n",
       "  'NATIVE AMERICAN/ALASKAN NATIVE': 0},\n",
       " 'ASSISTANT SUPERINTENDENT': {'BLACK': 1,\n",
       "  'WHITE': 0,\n",
       "  'HISPANIC': 0,\n",
       "  'ASIAN/PACIFIC ISLANDER': 0,\n",
       "  'NATIVE AMERICAN/ALASKAN NATIVE': 0},\n",
       " 'DIRECTOR OF CAPS': {'BLACK': 1,\n",
       "  'WHITE': 0,\n",
       "  'HISPANIC': 0,\n",
       "  'ASIAN/PACIFIC ISLANDER': 0,\n",
       "  'NATIVE AMERICAN/ALASKAN NATIVE': 0}}"
      ]
     },
     "execution_count": 5,
     "metadata": {},
     "output_type": "execute_result"
    }
   ],
   "source": [
    "ranks = officer_df_cleaned[\"cleaned_rank\"].unique()\n",
    "races = officer_df_cleaned[\"race\"].unique()\n",
    "rank_race_dict = {}\n",
    "for rank in ranks:\n",
    "    rank_dict = {}\n",
    "    for race in races:\n",
    "        rank_dict[race] = 0\n",
    "    rank_race_dict[rank] = rank_dict\n",
    "\n",
    "for i in ranks:\n",
    "    df = officer_df_cleaned.loc[officer_df_cleaned[\"cleaned_rank\"] == i]\n",
    "    for j in races:\n",
    "        count = len(df.loc[df[\"race\"] == j])\n",
    "        rank_race_dict[i][j] = count\n",
    "rank_race_dict"
   ]
  },
  {
   "cell_type": "code",
   "execution_count": 6,
   "metadata": {},
   "outputs": [
    {
     "ename": "NameError",
     "evalue": "name 'plot_dict' is not defined",
     "output_type": "error",
     "traceback": [
      "\u001b[0;31m---------------------------------------------------------------------------\u001b[0m",
      "\u001b[0;31mNameError\u001b[0m                                 Traceback (most recent call last)",
      "\u001b[0;32m<ipython-input-6-7f0fd3b49000>\u001b[0m in \u001b[0;36m<module>\u001b[0;34m\u001b[0m\n\u001b[0;32m----> 1\u001b[0;31m \u001b[0mplot_dict\u001b[0m\u001b[0;34m\u001b[0m\u001b[0;34m\u001b[0m\u001b[0m\n\u001b[0m",
      "\u001b[0;31mNameError\u001b[0m: name 'plot_dict' is not defined"
     ]
    }
   ],
   "source": [
    "plot_dict"
   ]
  },
  {
   "cell_type": "code",
   "execution_count": null,
   "metadata": {},
   "outputs": [],
   "source": [
    "\n",
    "barWidth = 0.25\n",
    "\n",
    "plot_dict = {}\n",
    "for rank in ranks:\n",
    "    temp_list = []\n",
    "    for race in rank_race_dict[rank].keys():\n",
    "        temp_list.append(rank_race_dict[rank][race])\n",
    "    plot_dict[rank] = temp_list\n",
    "\n",
    "len(plot_dict)\n",
    "        \n",
    "\n",
    "\n"
   ]
  },
  {
   "cell_type": "code",
   "execution_count": 22,
   "metadata": {},
   "outputs": [],
   "source": [
    "black = 0\n",
    "white = 1\n",
    "hispanic = 2\n",
    "asian_pacific = 3\n",
    "native = 4"
   ]
  },
  {
   "cell_type": "code",
   "execution_count": 23,
   "metadata": {},
   "outputs": [
    {
     "data": {
      "image/png": "[encoded data removed]",
      "text/plain": [
       "<Figure size 432x288 with 1 Axes>"
      ]
     },
     "metadata": {
      "needs_background": "light"
     },
     "output_type": "display_data"
    }
   ],
   "source": [
    "fig = plt.figure()\n",
    "ax = fig.add_axes([0, 0, 1, 1])\n",
    "x_vals = list(races)\n",
    "x_vals[asian_pacific] = \"Pacific Islander/\\nAsian\"\n",
    "x_vals[native] = \"Native\\nAmerican/Alaskan\"\n",
    "y_vals_pofficers = list(rank_race_dict[\"POLICE OFFICER\"].values())\n",
    "ax.bar(x_vals, y_vals_pofficers)\n",
    "plt.title(\"Low Rank Police Officers by Race\")\n",
    "plt.xlabel(\"Race\")\n",
    "plt.ylabel(\"Number of Officers\")\n",
    "plt.show()"
   ]
  },
  {
   "cell_type": "code",
   "execution_count": 25,
   "metadata": {},
   "outputs": [
    {
     "data": {
      "text/plain": [
       "[7275, 19463, 4120, 495, 61]"
      ]
     },
     "execution_count": 25,
     "metadata": {},
     "output_type": "execute_result"
    }
   ],
   "source": [
    "total_officers = []\n",
    "total_officers.append(len(officer_df_cleaned.loc[officer_df_cleaned[\"race\"] == \"BLACK\"]))\n",
    "total_officers.append(len(officer_df_cleaned.loc[officer_df_cleaned[\"race\"] == \"WHITE\"]))\n",
    "total_officers.append(len(officer_df_cleaned.loc[officer_df_cleaned[\"race\"] == \"HISPANIC\"]))\n",
    "total_officers.append(len(officer_df_cleaned.loc[officer_df_cleaned[\"race\"] == \"ASIAN/PACIFIC ISLANDER\"]))\n",
    "total_officers.append(len(officer_df_cleaned.loc[officer_df_cleaned[\"race\"] == 'NATIVE AMERICAN/ALASKAN NATIVE']))\n",
    "total_officers\n",
    "\n"
   ]
  },
  {
   "cell_type": "code",
   "execution_count": 34,
   "metadata": {},
   "outputs": [
    {
     "data": {
      "image/png": "[encoded data removed]",
      "text/plain": [
       "<Figure size 432x288 with 1 Axes>"
      ]
     },
     "metadata": {
      "needs_background": "light"
     },
     "output_type": "display_data"
    }
   ],
   "source": [
    "fig = plt.figure()\n",
    "ax = fig.add_axes([0, 0, 1, 1])\n",
    "x_vals = list(races)\n",
    "x_vals[asian_pacific] = \"Pacific Islander/\\nAsian\"\n",
    "x_vals[native] = \"Native\\nAmerican/Alaskan\"\n",
    "y_vals = []\n",
    "for i in range(len(races)):\n",
    "    y_vals.append(y_vals_pofficers[i]/total_officers[i])\n",
    "\n",
    "ax.bar(x_vals, y_vals)\n",
    "ax.set_ylim([0.0, 1.0])\n",
    "plt.title(\"Low Rank Police Officers as Proportion of total officers of that race\")\n",
    "plt.xlabel(\"Race\")\n",
    "plt.ylabel(\"Number of Officers\")\n",
    "plt.show()"
   ]
  },
  {
   "cell_type": "code",
   "execution_count": 36,
   "metadata": {},
   "outputs": [
    {
     "data": {
      "text/plain": [
       "[1243, 4973, 629, 74, 8]"
      ]
     },
     "execution_count": 36,
     "metadata": {},
     "output_type": "execute_result"
    }
   ],
   "source": [
    "med_rank = [0, 0, 0, 0, 0]\n",
    "for rank in [\"SERGEANT\", \"FIELD TRAINING OFFICER\", \"DETECTIVE\", \"OTHER\"]:\n",
    "    temp_list = list(rank_race_dict[rank].values())\n",
    "    for x in range(len(races)):\n",
    "        med_rank[x] = med_rank[x] + temp_list[x]\n",
    "med_rank"
   ]
  },
  {
   "cell_type": "code",
   "execution_count": 46,
   "metadata": {},
   "outputs": [
    {
     "data": {
      "image/png": "[encoded data removed]",
      "text/plain": [
       "<Figure size 432x288 with 1 Axes>"
      ]
     },
     "metadata": {
      "needs_background": "light"
     },
     "output_type": "display_data"
    },
    {
     "data": {
      "image/png": "[encoded data removed]",
      "text/plain": [
       "<Figure size 432x288 with 1 Axes>"
      ]
     },
     "metadata": {
      "needs_background": "light"
     },
     "output_type": "display_data"
    }
   ],
   "source": [
    "fig = plt.figure()\n",
    "ax = fig.add_axes([0, 0, 1, 1])\n",
    "x_vals = list(races)\n",
    "x_vals[asian_pacific] = \"Pacific Islander/\\nAsian\"\n",
    "x_vals[native] = \"Native\\nAmerican/Alaskan\"\n",
    "y_vals = med_rank\n",
    "ax.bar(x_vals, y_vals)\n",
    "# ax.set_ylim([0.0, 1.0])\n",
    "plt.title(\"Middle Rank Police Officers\")\n",
    "plt.xlabel(\"Race\")\n",
    "plt.ylabel(\"Number of Officers\")\n",
    "plt.show()\n",
    "\n",
    "fig = plt.figure()\n",
    "ax = fig.add_axes([0, 0, 1, 1])\n",
    "x_vals = list(races)\n",
    "x_vals[asian_pacific] = \"Pacific Islander/\\nAsian\"\n",
    "x_vals[native] = \"Native\\nAmerican/Alaskan\"\n",
    "y_vals = []\n",
    "for i in range(len(races)):\n",
    "    y_vals.append(med_rank[i]/total_officers[i])\n",
    "\n",
    "ax.bar(x_vals, y_vals)\n",
    "plt.title(\"Middle Rank Police Officers as Proportion of total officers of that race\")\n",
    "plt.xlabel(\"Race\")\n",
    "plt.ylabel(\"Number of Officers\")\n",
    "plt.show()"
   ]
  },
  {
   "cell_type": "code",
   "execution_count": 43,
   "metadata": {},
   "outputs": [
    {
     "data": {
      "text/plain": [
       "[224, 1259, 88, 9, 0]"
      ]
     },
     "execution_count": 43,
     "metadata": {},
     "output_type": "execute_result"
    }
   ],
   "source": [
    "high_rank = [0, 0, 0, 0, 0]\n",
    "for rank in list(rank_race_dict.keys())[5:]:\n",
    "    temp_list = list(rank_race_dict[rank].values())\n",
    "    for x in range(len(races)):\n",
    "        high_rank[x] = high_rank[x] + temp_list[x]\n",
    "high_rank"
   ]
  },
  {
   "cell_type": "code",
   "execution_count": 45,
   "metadata": {},
   "outputs": [
    {
     "data": {
      "image/png": "[encoded data removed]",
      "text/plain": [
       "<Figure size 432x288 with 1 Axes>"
      ]
     },
     "metadata": {
      "needs_background": "light"
     },
     "output_type": "display_data"
    },
    {
     "data": {
      "image/png": "[encoded data removed]",
      "text/plain": [
       "<Figure size 432x288 with 1 Axes>"
      ]
     },
     "metadata": {
      "needs_background": "light"
     },
     "output_type": "display_data"
    }
   ],
   "source": [
    "fig = plt.figure()\n",
    "ax = fig.add_axes([0, 0, 1, 1])\n",
    "x_vals = list(races)\n",
    "x_vals[asian_pacific] = \"Pacific Islander/\\nAsian\"\n",
    "x_vals[native] = \"Native\\nAmerican/Alaskan\"\n",
    "y_vals = high_rank\n",
    "ax.bar(x_vals, y_vals)\n",
    "# ax.set_ylim([0.0, 1.0])\n",
    "plt.title(\"High Rank Police Officers\")\n",
    "plt.xlabel(\"Race\")\n",
    "plt.ylabel(\"Number of Officers\")\n",
    "plt.show()\n",
    "\n",
    "fig = plt.figure()\n",
    "ax = fig.add_axes([0, 0, 1, 1])\n",
    "x_vals = list(races)\n",
    "x_vals[asian_pacific] = \"Pacific Islander/\\nAsian\"\n",
    "x_vals[native] = \"Native\\nAmerican/Alaskan\"\n",
    "y_vals = []\n",
    "for i in range(len(races)):\n",
    "    y_vals.append(high_rank[i]/total_officers[i])\n",
    "\n",
    "ax.bar(x_vals, y_vals)\n",
    "plt.title(\"High Rank Police Officers as Proportion of total officers of that race\")\n",
    "plt.xlabel(\"Race\")\n",
    "plt.ylabel(\"Number of Officers\")\n",
    "plt.show()\n"
   ]
  },
  {
   "cell_type": "code",
   "execution_count": null,
   "metadata": {},
   "outputs": [],
   "source": []
  },
  {
   "cell_type": "code",
   "execution_count": null,
   "metadata": {},
   "outputs": [],
   "source": []
  },
  {
   "cell_type": "code",
   "execution_count": null,
   "metadata": {},
   "outputs": [],
   "source": []
  },
  {
   "cell_type": "code",
   "execution_count": 33,
   "metadata": {},
   "outputs": [
    {
     "data": {
      "text/plain": [
       "5"
      ]
     },
     "execution_count": 33,
     "metadata": {},
     "output_type": "execute_result"
    }
   ],
   "source": [
    "len(races)"
   ]
  },
  {
   "cell_type": "code",
   "execution_count": 10,
   "metadata": {},
   "outputs": [
    {
     "data": {
      "text/plain": [
       "array(['POLICE OFFICER', 'SERGEANT', 'FIELD TRAINING OFFICER',\n",
       "       'DETECTIVE', 'OTHER', 'LIEUTENANT', 'COMMANDER', 'CAPTAIN',\n",
       "       'FIRST DEPUTY SUPERINTENDENT', 'DEPUTY CHIEF',\n",
       "       'ASSISTANT DEPUTY SUPERINTENDENT', 'DEPUTY SUPERINTENDENT',\n",
       "       'CHIEF', \"SUPERINTENDENT'S CHIEF OF STAFF\",\n",
       "       'SUPERINTENDENT OF POLICE', 'ASSISTANT SUPERINTENDENT',\n",
       "       'DIRECTOR OF CAPS'], dtype=object)"
      ]
     },
     "execution_count": 10,
     "metadata": {},
     "output_type": "execute_result"
    }
   ],
   "source": [
    "ranks"
   ]
  },
  {
   "cell_type": "code",
   "execution_count": 28,
   "metadata": {},
   "outputs": [
    {
     "data": {
      "text/plain": [
       "['BLACK',\n",
       " 'WHITE',\n",
       " 'HISPANIC',\n",
       " 'Pacific Islander/\\nAsian',\n",
       " 'Native\\nAmerican/Alaskan']"
      ]
     },
     "execution_count": 28,
     "metadata": {},
     "output_type": "execute_result"
    }
   ],
   "source": [
    "x_vals"
   ]
  },
  {
   "cell_type": "code",
   "execution_count": 29,
   "metadata": {},
   "outputs": [
    {
     "data": {
      "text/plain": [
       "[0.7983505154639176,\n",
       " 0.6798027025638391,\n",
       " 0.8259708737864078,\n",
       " 0.8323232323232324]"
      ]
     },
     "execution_count": 29,
     "metadata": {},
     "output_type": "execute_result"
    }
   ],
   "source": [
    "y_vals"
   ]
  },
  {
   "cell_type": "code",
   "execution_count": null,
   "metadata": {},
   "outputs": [],
   "source": [
    "#seargent, field training, detective, other"
   ]
  }
 ],
 "metadata": {
  "kernelspec": {
   "display_name": "Python 3",
   "language": "python",
   "name": "python3"
  },
  "language_info": {
   "codemirror_mode": {
    "name": "ipython",
    "version": 3
   },
   "file_extension": ".py",
   "mimetype": "text/x-python",
   "name": "python",
   "nbconvert_exporter": "python",
   "pygments_lexer": "ipython3",
   "version": "3.7.4"
  }
 },
 "nbformat": 4,
 "nbformat_minor": 2
}
